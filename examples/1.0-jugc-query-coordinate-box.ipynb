{
 "cells": [
  {
   "cell_type": "code",
   "execution_count": 1,
   "metadata": {},
   "outputs": [],
   "source": [
    "%load_ext autoreload\n",
    "%autoreload 2\n",
    "# Standard imports\n",
    "import pandas as pd\n",
    "import matplotlib.pyplot as plt\n",
    "import urllib3\n",
    "urllib3.disable_warnings()\n",
    "\n",
    "# Local imports\n",
    "from hat.api_call import *\n",
    "from hat.utils.hydropower_potential import *\n",
    "from hat.utils.PyGeoTools.geolocation import *"
   ]
  },
  {
   "cell_type": "markdown",
   "metadata": {},
   "source": [
    "# Query the data (using the bounding box based on the coordinates of the dam)"
   ]
  },
  {
   "cell_type": "code",
   "execution_count": null,
   "metadata": {},
   "outputs": [],
   "source": [
    "input_df = pd.read_csv('combined_hydro_stream_gauge_full2.csv')\n",
    "input_df.head()"
   ]
  },
  {
   "cell_type": "code",
   "execution_count": 14,
   "metadata": {},
   "outputs": [
    {
     "name": "stdout",
     "output_type": "stream",
     "text": [
      "43.46821113 -71.66157073\n",
      "Northern-most lat: 43.472702732476684\n",
      "Southern-most lat: 43.46371952752332\n",
      "Western-most lon: -71.66775958880788\n",
      "Eastern-most lon: -71.65538187119209\n"
     ]
    }
   ],
   "source": [
    "# Produce a bounding box of coordinates given the stream gauge coordinate\n",
    "lat = input_df.loc[0,'lat']\n",
    "lon = input_df.loc[0,'lon']\n",
    "distance = 0.5 # [km]\n",
    "print(lat, lon)\n",
    "\n",
    "# Test bounding box\n",
    "loc = GeoLocation.from_degrees(lat, lon)\n",
    "SW_loc, NE_loc = loc.bounding_locations(distance)\n",
    "\n",
    "# As needed for the API call using the bounding box\n",
    "print(\"Northern-most lat: \"+str(NE_loc.deg_lat))\n",
    "print(\"Southern-most lat: \"+str(SW_loc.deg_lat))\n",
    "print(\"Western-most lon: \"+str(SW_loc.deg_lon))\n",
    "print(\"Eastern-most lon: \"+str(NE_loc.deg_lon))"
   ]
  },
  {
   "cell_type": "code",
   "execution_count": 15,
   "metadata": {},
   "outputs": [],
   "source": [
    "# Bounding box query: [SW_loc.deg_lon, SW_loc.deg_lat, NE_loc.deg_lon, NE_loc.deg_lat]. Max number of decimals is 6 so rounding it to that using round().\n",
    "query = {}\n",
    "query['id'] = [str(round(SW_loc.deg_lon,6)), str(round(SW_loc.deg_lat, 6)), str(round(NE_loc.deg_lon,6)), str(round(NE_loc.deg_lat,6))] # ['-105.877600','40.138700','-105.854100','40.156700']\n",
    "query['start_date'] = '2020-01-01'\n",
    "query['end_date'] = '2020-01-02'\n"
   ]
  },
  {
   "cell_type": "code",
   "execution_count": 16,
   "metadata": {},
   "outputs": [
    {
     "name": "stdout",
     "output_type": "stream",
     "text": [
      "https://waterservices.usgs.gov/nwis/iv/?format=json&bBox=-71.66776,43.46372,-71.655382,43.472703&startDT=2020-01-01&endDT=2020-01-02&parameterCd=00060&siteStatus=all\n",
      "Success with data retrieval from API\n"
     ]
    }
   ],
   "source": [
    "# Pull the data\n",
    "df_raw = get_data(query, id_type='bBox', save_data=False)"
   ]
  },
  {
   "cell_type": "code",
   "execution_count": 17,
   "metadata": {},
   "outputs": [],
   "source": [
    "# Build a dataframe with the minimal information needed for the query. This can be saved as a csv for future reference\n",
    "start_date = '2019-01-01'\n",
    "end_date = '2019-12-31'\n",
    "df_len = input_df.lat.count()\n",
    "\n",
    "rows = []\n",
    "\n",
    "for i in range(df_len):\n",
    "    rows.append([start_date, end_date, input_df.loc[i,'lat'], input_df.loc[i,'lon'], input_df.loc[i,'dam_name'],input_df.loc[i,'NID ID']])\n",
    "    \n",
    "query_df = pd.DataFrame(rows, columns=[\"start\", \"end\", \"lat\", \"lon\", \"name\", \"NID ID\"])"
   ]
  },
  {
   "cell_type": "code",
   "execution_count": 18,
   "metadata": {},
   "outputs": [],
   "source": [
    "def build_query(series):\n",
    "    '''\n",
    "    Builds the query dictionary based on a series taken from the query dataframe\n",
    "    '''\n",
    "    # Default distance to build the bounding box\n",
    "    DISTANCE = 0.5 #[km]\n",
    "    # Get the bounding box coordinates\n",
    "    loc = GeoLocation.from_degrees(series['lat'], series['lon'])\n",
    "    SW_loc, NE_loc = loc.bounding_locations(DISTANCE)\n",
    "    \n",
    "    # Build query dictionary\n",
    "    query = {}\n",
    "    query['id'] = [str(round(SW_loc.deg_lon,6)), str(round(SW_loc.deg_lat, 6)), str(round(NE_loc.deg_lon,6)), str(round(NE_loc.deg_lat,6))] # ['-105.877600','40.138700','-105.854100','40.156700']\n",
    "    query['start_date'] = series['start']\n",
    "    query['end_date'] = series['end']\n",
    "    \n",
    "    return query\n",
    "    "
   ]
  },
  {
   "cell_type": "code",
   "execution_count": 19,
   "metadata": {},
   "outputs": [
    {
     "name": "stdout",
     "output_type": "stream",
     "text": [
      "0\n",
      "https://waterservices.usgs.gov/nwis/iv/?format=json&bBox=-71.66776,43.46372,-71.655382,43.472703&startDT=2019-01-01&endDT=2019-12-31&parameterCd=00060&siteStatus=all\n",
      "Success with data retrieval from API\n"
     ]
    }
   ],
   "source": [
    "# example for a single query\n",
    "for idx, dam in query_df.iterrows():\n",
    "    print(idx)\n",
    "    query = build_query(dam)\n",
    "    save_filename = os.path.join('data',f\"{dam['NID ID']}_{dam['start']}_{dam['end']}.json\")\n",
    "    df_raw = get_data(query, id_type='bBox', save_data=True, path=save_filename)\n",
    "    query_df.loc[idx,'filename'] = save_filename\n",
    "    \n",
    "    break"
   ]
  },
  {
   "cell_type": "code",
   "execution_count": 21,
   "metadata": {},
   "outputs": [
    {
     "data": {
      "text/plain": [
       "[]"
      ]
     },
     "execution_count": 21,
     "metadata": {},
     "output_type": "execute_result"
    }
   ],
   "source": [
    "df_raw"
   ]
  },
  {
   "cell_type": "code",
   "execution_count": null,
   "metadata": {},
   "outputs": [],
   "source": []
  }
 ],
 "metadata": {
  "kernelspec": {
   "display_name": "Python 3",
   "language": "python",
   "name": "python3"
  },
  "language_info": {
   "codemirror_mode": {
    "name": "ipython",
    "version": 3
   },
   "file_extension": ".py",
   "mimetype": "text/x-python",
   "name": "python",
   "nbconvert_exporter": "python",
   "pygments_lexer": "ipython3",
   "version": "3.8.5"
  }
 },
 "nbformat": 4,
 "nbformat_minor": 4
}
