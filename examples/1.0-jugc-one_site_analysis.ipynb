{
 "cells": [
  {
   "cell_type": "code",
   "execution_count": 6,
   "metadata": {},
   "outputs": [
    {
     "name": "stdout",
     "output_type": "stream",
     "text": [
      "The autoreload extension is already loaded. To reload it, use:\n",
      "  %reload_ext autoreload\n"
     ]
    },
    {
     "ename": "ModuleNotFoundError",
     "evalue": "No module named 'src'",
     "output_type": "error",
     "traceback": [
      "\u001b[1;31m---------------------------------------------------------------------------\u001b[0m",
      "\u001b[1;31mModuleNotFoundError\u001b[0m                       Traceback (most recent call last)",
      "\u001b[1;32m<ipython-input-6-e1f92c209729>\u001b[0m in \u001b[0;36m<module>\u001b[1;34m\u001b[0m\n\u001b[0;32m      8\u001b[0m \u001b[1;33m\u001b[0m\u001b[0m\n\u001b[0;32m      9\u001b[0m \u001b[1;31m# Local imports\u001b[0m\u001b[1;33m\u001b[0m\u001b[1;33m\u001b[0m\u001b[1;33m\u001b[0m\u001b[0m\n\u001b[1;32m---> 10\u001b[1;33m \u001b[1;32mfrom\u001b[0m \u001b[0msrc\u001b[0m\u001b[1;33m.\u001b[0m\u001b[0mapi_call\u001b[0m \u001b[1;32mimport\u001b[0m \u001b[1;33m*\u001b[0m\u001b[1;33m\u001b[0m\u001b[1;33m\u001b[0m\u001b[0m\n\u001b[0m\u001b[0;32m     11\u001b[0m \u001b[1;32mfrom\u001b[0m \u001b[0msrc\u001b[0m\u001b[1;33m.\u001b[0m\u001b[0mutils\u001b[0m\u001b[1;33m.\u001b[0m\u001b[0mhydropower_potential\u001b[0m \u001b[1;32mimport\u001b[0m \u001b[1;33m*\u001b[0m\u001b[1;33m\u001b[0m\u001b[1;33m\u001b[0m\u001b[0m\n\u001b[0;32m     12\u001b[0m \u001b[1;32mfrom\u001b[0m \u001b[0msrc\u001b[0m\u001b[1;33m.\u001b[0m\u001b[0mutils\u001b[0m\u001b[1;33m.\u001b[0m\u001b[0mPyGeoTools\u001b[0m\u001b[1;33m.\u001b[0m\u001b[0mgeolocation\u001b[0m \u001b[1;32mimport\u001b[0m \u001b[1;33m*\u001b[0m\u001b[1;33m\u001b[0m\u001b[1;33m\u001b[0m\u001b[0m\n",
      "\u001b[1;31mModuleNotFoundError\u001b[0m: No module named 'src'"
     ]
    }
   ],
   "source": [
    "%load_ext autoreload\n",
    "%autoreload 2\n",
    "# Standard imports\n",
    "import pandas as pd\n",
    "import matplotlib.pyplot as plt\n",
    "import urllib3\n",
    "urllib3.disable_warnings()\n",
    "\n",
    "# Local imports\n",
    "from src.api_call import *\n",
    "from src.utils.hydropower_potential import *\n",
    "from src.utils.PyGeoTools.geolocation import *"
   ]
  },
  {
   "cell_type": "markdown",
   "metadata": {},
   "source": [
    "# Download data from the USGS Water Services API\n",
    "\n",
    "The method `get_data` allows for programatically download of stream flow data from the USGS Water Services API. The input data for the method is the site identification and the range of dates. The inputs should be specified in a dictionary as it is shown below. Several options exist to pull data such as site id, HUC number (it returns all the stream gauges available in the HUC), and a coordinate bounding box. The example below focuses on pulling data for one site using the `site_id`. The user can opt for not saving the data on a file -- unlike the example where it is shown how to save the data in a csv. The `get_data` method always returns a list of pandas dataframes regardless of the number of sites requested. In the example below, that means that `flow_info` will be a list with one element, which is a dataframe."
   ]
  },
  {
   "cell_type": "code",
   "execution_count": 19,
   "metadata": {},
   "outputs": [
    {
     "name": "stdout",
     "output_type": "stream",
     "text": [
      "https://waterservices.usgs.gov/nwis/iv/?format=json&sites=11370500&startDT=2010-01-01&endDT=2020-12-31&parameterCd=00060&siteStatus=all\n",
      "Success with data retrieval from API\n"
     ]
    }
   ],
   "source": [
    "query = {}\n",
    "query['id'] = '11370500'\n",
    "query['start_date'] = '2010-01-01'\n",
    "query['end_date'] = '2020-12-31'\n",
    "\n",
    "# Call the get_data method. Note that the id_type has been set to 'sites'\n",
    "flow_info = get_data(query, id_type='sites', save_data=True, path='/Users/galljf/Desktop/11370500_shiloh.csv')"
   ]
  },
  {
   "cell_type": "markdown",
   "metadata": {},
   "source": [
    "Inside `get_data`, other process take place in addition to just downloading the data. The data comes in `json` format, so the tool formats it and saves it as a dataframe. By default, the header of the stream flow data come as `Streamflow, ft&#179;/s` as seen below. In addition, a timestamp is added along with coordinate information and qualifiers for the data. The latter are set by USGS and can be used for further data quality"
   ]
  },
  {
   "cell_type": "code",
   "execution_count": 20,
   "metadata": {},
   "outputs": [
    {
     "data": {
      "text/html": [
       "<div>\n",
       "<style scoped>\n",
       "    .dataframe tbody tr th:only-of-type {\n",
       "        vertical-align: middle;\n",
       "    }\n",
       "\n",
       "    .dataframe tbody tr th {\n",
       "        vertical-align: top;\n",
       "    }\n",
       "\n",
       "    .dataframe thead th {\n",
       "        text-align: right;\n",
       "    }\n",
       "</style>\n",
       "<table border=\"1\" class=\"dataframe\">\n",
       "  <thead>\n",
       "    <tr style=\"text-align: right;\">\n",
       "      <th></th>\n",
       "      <th>Streamflow, ft&amp;#179;/s</th>\n",
       "      <th>qualifiers</th>\n",
       "      <th>dateTime</th>\n",
       "      <th>site_name</th>\n",
       "      <th>site_id</th>\n",
       "      <th>lat</th>\n",
       "      <th>long</th>\n",
       "    </tr>\n",
       "  </thead>\n",
       "  <tbody>\n",
       "    <tr>\n",
       "      <th>0</th>\n",
       "      <td>3260</td>\n",
       "      <td>[A]</td>\n",
       "      <td>2010-01-01T00:00:00.000-08:00</td>\n",
       "      <td>SACRAMENTO R A KESWICK CA</td>\n",
       "      <td>11370500</td>\n",
       "      <td>40.600983</td>\n",
       "      <td>-122.444455</td>\n",
       "    </tr>\n",
       "    <tr>\n",
       "      <th>1</th>\n",
       "      <td>3270</td>\n",
       "      <td>[A]</td>\n",
       "      <td>2010-01-01T00:15:00.000-08:00</td>\n",
       "      <td>SACRAMENTO R A KESWICK CA</td>\n",
       "      <td>11370500</td>\n",
       "      <td>40.600983</td>\n",
       "      <td>-122.444455</td>\n",
       "    </tr>\n",
       "    <tr>\n",
       "      <th>2</th>\n",
       "      <td>3250</td>\n",
       "      <td>[A]</td>\n",
       "      <td>2010-01-01T00:30:00.000-08:00</td>\n",
       "      <td>SACRAMENTO R A KESWICK CA</td>\n",
       "      <td>11370500</td>\n",
       "      <td>40.600983</td>\n",
       "      <td>-122.444455</td>\n",
       "    </tr>\n",
       "    <tr>\n",
       "      <th>3</th>\n",
       "      <td>3270</td>\n",
       "      <td>[A]</td>\n",
       "      <td>2010-01-01T00:45:00.000-08:00</td>\n",
       "      <td>SACRAMENTO R A KESWICK CA</td>\n",
       "      <td>11370500</td>\n",
       "      <td>40.600983</td>\n",
       "      <td>-122.444455</td>\n",
       "    </tr>\n",
       "    <tr>\n",
       "      <th>4</th>\n",
       "      <td>3270</td>\n",
       "      <td>[A]</td>\n",
       "      <td>2010-01-01T01:00:00.000-08:00</td>\n",
       "      <td>SACRAMENTO R A KESWICK CA</td>\n",
       "      <td>11370500</td>\n",
       "      <td>40.600983</td>\n",
       "      <td>-122.444455</td>\n",
       "    </tr>\n",
       "  </tbody>\n",
       "</table>\n",
       "</div>"
      ],
      "text/plain": [
       "  Streamflow, ft&#179;/s qualifiers                       dateTime  \\\n",
       "0                   3260        [A]  2010-01-01T00:00:00.000-08:00   \n",
       "1                   3270        [A]  2010-01-01T00:15:00.000-08:00   \n",
       "2                   3250        [A]  2010-01-01T00:30:00.000-08:00   \n",
       "3                   3270        [A]  2010-01-01T00:45:00.000-08:00   \n",
       "4                   3270        [A]  2010-01-01T01:00:00.000-08:00   \n",
       "\n",
       "                   site_name   site_id        lat        long  \n",
       "0  SACRAMENTO R A KESWICK CA  11370500  40.600983 -122.444455  \n",
       "1  SACRAMENTO R A KESWICK CA  11370500  40.600983 -122.444455  \n",
       "2  SACRAMENTO R A KESWICK CA  11370500  40.600983 -122.444455  \n",
       "3  SACRAMENTO R A KESWICK CA  11370500  40.600983 -122.444455  \n",
       "4  SACRAMENTO R A KESWICK CA  11370500  40.600983 -122.444455  "
      ]
     },
     "execution_count": 20,
     "metadata": {},
     "output_type": "execute_result"
    }
   ],
   "source": [
    "flow_info[0].head()"
   ]
  },
  {
   "cell_type": "code",
   "execution_count": 32,
   "metadata": {},
   "outputs": [],
   "source": [
    "# Clean the data and make the date time column the index \n",
    "flow_info_temp = clean_data(flow_info[0], column_change={'Streamflow, ft&#179;/s':'discharge_cfs'}, keep_nan=True, timestamp_col='dateTime', no_data=-999999)"
   ]
  },
  {
   "cell_type": "code",
   "execution_count": 33,
   "metadata": {},
   "outputs": [
    {
     "data": {
      "text/html": [
       "<div>\n",
       "<style scoped>\n",
       "    .dataframe tbody tr th:only-of-type {\n",
       "        vertical-align: middle;\n",
       "    }\n",
       "\n",
       "    .dataframe tbody tr th {\n",
       "        vertical-align: top;\n",
       "    }\n",
       "\n",
       "    .dataframe thead th {\n",
       "        text-align: right;\n",
       "    }\n",
       "</style>\n",
       "<table border=\"1\" class=\"dataframe\">\n",
       "  <thead>\n",
       "    <tr style=\"text-align: right;\">\n",
       "      <th></th>\n",
       "      <th>discharge_cfs</th>\n",
       "      <th>qualifiers</th>\n",
       "      <th>site_name</th>\n",
       "      <th>site_id</th>\n",
       "      <th>lat</th>\n",
       "      <th>long</th>\n",
       "    </tr>\n",
       "    <tr>\n",
       "      <th>dateTime</th>\n",
       "      <th></th>\n",
       "      <th></th>\n",
       "      <th></th>\n",
       "      <th></th>\n",
       "      <th></th>\n",
       "      <th></th>\n",
       "    </tr>\n",
       "  </thead>\n",
       "  <tbody>\n",
       "    <tr>\n",
       "      <th>2010-01-01 08:00:00+00:00</th>\n",
       "      <td>3260.0</td>\n",
       "      <td>[A]</td>\n",
       "      <td>SACRAMENTO R A KESWICK CA</td>\n",
       "      <td>11370500</td>\n",
       "      <td>40.600983</td>\n",
       "      <td>-122.444455</td>\n",
       "    </tr>\n",
       "    <tr>\n",
       "      <th>2010-01-01 08:15:00+00:00</th>\n",
       "      <td>3270.0</td>\n",
       "      <td>[A]</td>\n",
       "      <td>SACRAMENTO R A KESWICK CA</td>\n",
       "      <td>11370500</td>\n",
       "      <td>40.600983</td>\n",
       "      <td>-122.444455</td>\n",
       "    </tr>\n",
       "    <tr>\n",
       "      <th>2010-01-01 08:30:00+00:00</th>\n",
       "      <td>3250.0</td>\n",
       "      <td>[A]</td>\n",
       "      <td>SACRAMENTO R A KESWICK CA</td>\n",
       "      <td>11370500</td>\n",
       "      <td>40.600983</td>\n",
       "      <td>-122.444455</td>\n",
       "    </tr>\n",
       "    <tr>\n",
       "      <th>2010-01-01 08:45:00+00:00</th>\n",
       "      <td>3270.0</td>\n",
       "      <td>[A]</td>\n",
       "      <td>SACRAMENTO R A KESWICK CA</td>\n",
       "      <td>11370500</td>\n",
       "      <td>40.600983</td>\n",
       "      <td>-122.444455</td>\n",
       "    </tr>\n",
       "    <tr>\n",
       "      <th>2010-01-01 09:00:00+00:00</th>\n",
       "      <td>3270.0</td>\n",
       "      <td>[A]</td>\n",
       "      <td>SACRAMENTO R A KESWICK CA</td>\n",
       "      <td>11370500</td>\n",
       "      <td>40.600983</td>\n",
       "      <td>-122.444455</td>\n",
       "    </tr>\n",
       "  </tbody>\n",
       "</table>\n",
       "</div>"
      ],
      "text/plain": [
       "                           discharge_cfs qualifiers  \\\n",
       "dateTime                                              \n",
       "2010-01-01 08:00:00+00:00         3260.0        [A]   \n",
       "2010-01-01 08:15:00+00:00         3270.0        [A]   \n",
       "2010-01-01 08:30:00+00:00         3250.0        [A]   \n",
       "2010-01-01 08:45:00+00:00         3270.0        [A]   \n",
       "2010-01-01 09:00:00+00:00         3270.0        [A]   \n",
       "\n",
       "                                           site_name   site_id        lat  \\\n",
       "dateTime                                                                    \n",
       "2010-01-01 08:00:00+00:00  SACRAMENTO R A KESWICK CA  11370500  40.600983   \n",
       "2010-01-01 08:15:00+00:00  SACRAMENTO R A KESWICK CA  11370500  40.600983   \n",
       "2010-01-01 08:30:00+00:00  SACRAMENTO R A KESWICK CA  11370500  40.600983   \n",
       "2010-01-01 08:45:00+00:00  SACRAMENTO R A KESWICK CA  11370500  40.600983   \n",
       "2010-01-01 09:00:00+00:00  SACRAMENTO R A KESWICK CA  11370500  40.600983   \n",
       "\n",
       "                                 long  \n",
       "dateTime                               \n",
       "2010-01-01 08:00:00+00:00 -122.444455  \n",
       "2010-01-01 08:15:00+00:00 -122.444455  \n",
       "2010-01-01 08:30:00+00:00 -122.444455  \n",
       "2010-01-01 08:45:00+00:00 -122.444455  \n",
       "2010-01-01 09:00:00+00:00 -122.444455  "
      ]
     },
     "execution_count": 33,
     "metadata": {},
     "output_type": "execute_result"
    }
   ],
   "source": [
    "flow_info_temp.head()"
   ]
  },
  {
   "cell_type": "code",
   "execution_count": 58,
   "metadata": {},
   "outputs": [],
   "source": [
    "flow_info_temp.drop(columns=['qualifiers','site_name','lat','long'], inplace=True)"
   ]
  },
  {
   "cell_type": "code",
   "execution_count": 59,
   "metadata": {},
   "outputs": [
    {
     "data": {
      "text/html": [
       "<div>\n",
       "<style scoped>\n",
       "    .dataframe tbody tr th:only-of-type {\n",
       "        vertical-align: middle;\n",
       "    }\n",
       "\n",
       "    .dataframe tbody tr th {\n",
       "        vertical-align: top;\n",
       "    }\n",
       "\n",
       "    .dataframe thead th {\n",
       "        text-align: right;\n",
       "    }\n",
       "</style>\n",
       "<table border=\"1\" class=\"dataframe\">\n",
       "  <thead>\n",
       "    <tr style=\"text-align: right;\">\n",
       "      <th></th>\n",
       "      <th>discharge_cfs</th>\n",
       "      <th>site_id</th>\n",
       "    </tr>\n",
       "    <tr>\n",
       "      <th>dateTime</th>\n",
       "      <th></th>\n",
       "      <th></th>\n",
       "    </tr>\n",
       "  </thead>\n",
       "  <tbody>\n",
       "    <tr>\n",
       "      <th>2010-01-01 08:00:00+00:00</th>\n",
       "      <td>3260.0</td>\n",
       "      <td>11370500</td>\n",
       "    </tr>\n",
       "    <tr>\n",
       "      <th>2010-01-01 08:15:00+00:00</th>\n",
       "      <td>3270.0</td>\n",
       "      <td>11370500</td>\n",
       "    </tr>\n",
       "    <tr>\n",
       "      <th>2010-01-01 08:30:00+00:00</th>\n",
       "      <td>3250.0</td>\n",
       "      <td>11370500</td>\n",
       "    </tr>\n",
       "    <tr>\n",
       "      <th>2010-01-01 08:45:00+00:00</th>\n",
       "      <td>3270.0</td>\n",
       "      <td>11370500</td>\n",
       "    </tr>\n",
       "    <tr>\n",
       "      <th>2010-01-01 09:00:00+00:00</th>\n",
       "      <td>3270.0</td>\n",
       "      <td>11370500</td>\n",
       "    </tr>\n",
       "  </tbody>\n",
       "</table>\n",
       "</div>"
      ],
      "text/plain": [
       "                           discharge_cfs   site_id\n",
       "dateTime                                          \n",
       "2010-01-01 08:00:00+00:00         3260.0  11370500\n",
       "2010-01-01 08:15:00+00:00         3270.0  11370500\n",
       "2010-01-01 08:30:00+00:00         3250.0  11370500\n",
       "2010-01-01 08:45:00+00:00         3270.0  11370500\n",
       "2010-01-01 09:00:00+00:00         3270.0  11370500"
      ]
     },
     "execution_count": 59,
     "metadata": {},
     "output_type": "execute_result"
    }
   ],
   "source": [
    "flow_info_temp.head()"
   ]
  },
  {
   "cell_type": "code",
   "execution_count": 60,
   "metadata": {},
   "outputs": [],
   "source": [
    "# Calculate the hydropower potential\n",
    "turbine = calculate_potential(flow_info_temp, rated_flow=0, rated_power=0, head_input=500, system='pipe', flow_column='discharge_cfs')"
   ]
  },
  {
   "cell_type": "code",
   "execution_count": 53,
   "metadata": {},
   "outputs": [],
   "source": [
    "turbine_power = flow_info_temp.copy()\n",
    "turbine_power['power (MW)'] = turbine.power\n",
    "turbine_power['efficiency (%)'] = turbine.effi_cal"
   ]
  },
  {
   "cell_type": "code",
   "execution_count": 56,
   "metadata": {},
   "outputs": [
    {
     "name": "stderr",
     "output_type": "stream",
     "text": [
      "/Users/galljf/OneDrive - Idaho National Laboratory/code/hat/hat/utils/hydropower_potential.py:172: SyntaxWarning: 'float' object is not callable; perhaps you missed a comma?\n",
      "  self.effi_cal = (1-1.25((peak_eff_flow - self.flow_range)/peak_eff_flow)**1.13)*peak_eff\n"
     ]
    },
    {
     "data": {
      "text/html": [
       "<div>\n",
       "<style scoped>\n",
       "    .dataframe tbody tr th:only-of-type {\n",
       "        vertical-align: middle;\n",
       "    }\n",
       "\n",
       "    .dataframe tbody tr th {\n",
       "        vertical-align: top;\n",
       "    }\n",
       "\n",
       "    .dataframe thead th {\n",
       "        text-align: right;\n",
       "    }\n",
       "</style>\n",
       "<table border=\"1\" class=\"dataframe\">\n",
       "  <thead>\n",
       "    <tr style=\"text-align: right;\">\n",
       "      <th></th>\n",
       "      <th>discharge_cfs</th>\n",
       "      <th>qualifiers</th>\n",
       "      <th>site_name</th>\n",
       "      <th>site_id</th>\n",
       "      <th>lat</th>\n",
       "      <th>long</th>\n",
       "      <th>power (MW)</th>\n",
       "      <th>efficiency (%)</th>\n",
       "    </tr>\n",
       "    <tr>\n",
       "      <th>dateTime</th>\n",
       "      <th></th>\n",
       "      <th></th>\n",
       "      <th></th>\n",
       "      <th></th>\n",
       "      <th></th>\n",
       "      <th></th>\n",
       "      <th></th>\n",
       "      <th></th>\n",
       "    </tr>\n",
       "  </thead>\n",
       "  <tbody>\n",
       "    <tr>\n",
       "      <th>2010-01-01 08:00:00+00:00</th>\n",
       "      <td>3260.0</td>\n",
       "      <td>[A]</td>\n",
       "      <td>SACRAMENTO R A KESWICK CA</td>\n",
       "      <td>11370500</td>\n",
       "      <td>40.600983</td>\n",
       "      <td>-122.444455</td>\n",
       "      <td>0.0</td>\n",
       "      <td>0.0</td>\n",
       "    </tr>\n",
       "    <tr>\n",
       "      <th>2010-01-01 08:15:00+00:00</th>\n",
       "      <td>3270.0</td>\n",
       "      <td>[A]</td>\n",
       "      <td>SACRAMENTO R A KESWICK CA</td>\n",
       "      <td>11370500</td>\n",
       "      <td>40.600983</td>\n",
       "      <td>-122.444455</td>\n",
       "      <td>0.0</td>\n",
       "      <td>0.0</td>\n",
       "    </tr>\n",
       "    <tr>\n",
       "      <th>2010-01-01 08:30:00+00:00</th>\n",
       "      <td>3250.0</td>\n",
       "      <td>[A]</td>\n",
       "      <td>SACRAMENTO R A KESWICK CA</td>\n",
       "      <td>11370500</td>\n",
       "      <td>40.600983</td>\n",
       "      <td>-122.444455</td>\n",
       "      <td>0.0</td>\n",
       "      <td>0.0</td>\n",
       "    </tr>\n",
       "    <tr>\n",
       "      <th>2010-01-01 08:45:00+00:00</th>\n",
       "      <td>3270.0</td>\n",
       "      <td>[A]</td>\n",
       "      <td>SACRAMENTO R A KESWICK CA</td>\n",
       "      <td>11370500</td>\n",
       "      <td>40.600983</td>\n",
       "      <td>-122.444455</td>\n",
       "      <td>0.0</td>\n",
       "      <td>0.0</td>\n",
       "    </tr>\n",
       "    <tr>\n",
       "      <th>2010-01-01 09:00:00+00:00</th>\n",
       "      <td>3270.0</td>\n",
       "      <td>[A]</td>\n",
       "      <td>SACRAMENTO R A KESWICK CA</td>\n",
       "      <td>11370500</td>\n",
       "      <td>40.600983</td>\n",
       "      <td>-122.444455</td>\n",
       "      <td>0.0</td>\n",
       "      <td>0.0</td>\n",
       "    </tr>\n",
       "  </tbody>\n",
       "</table>\n",
       "</div>"
      ],
      "text/plain": [
       "                           discharge_cfs qualifiers  \\\n",
       "dateTime                                              \n",
       "2010-01-01 08:00:00+00:00         3260.0        [A]   \n",
       "2010-01-01 08:15:00+00:00         3270.0        [A]   \n",
       "2010-01-01 08:30:00+00:00         3250.0        [A]   \n",
       "2010-01-01 08:45:00+00:00         3270.0        [A]   \n",
       "2010-01-01 09:00:00+00:00         3270.0        [A]   \n",
       "\n",
       "                                           site_name   site_id        lat  \\\n",
       "dateTime                                                                    \n",
       "2010-01-01 08:00:00+00:00  SACRAMENTO R A KESWICK CA  11370500  40.600983   \n",
       "2010-01-01 08:15:00+00:00  SACRAMENTO R A KESWICK CA  11370500  40.600983   \n",
       "2010-01-01 08:30:00+00:00  SACRAMENTO R A KESWICK CA  11370500  40.600983   \n",
       "2010-01-01 08:45:00+00:00  SACRAMENTO R A KESWICK CA  11370500  40.600983   \n",
       "2010-01-01 09:00:00+00:00  SACRAMENTO R A KESWICK CA  11370500  40.600983   \n",
       "\n",
       "                                 long  power (MW)  efficiency (%)  \n",
       "dateTime                                                           \n",
       "2010-01-01 08:00:00+00:00 -122.444455         0.0             0.0  \n",
       "2010-01-01 08:15:00+00:00 -122.444455         0.0             0.0  \n",
       "2010-01-01 08:30:00+00:00 -122.444455         0.0             0.0  \n",
       "2010-01-01 08:45:00+00:00 -122.444455         0.0             0.0  \n",
       "2010-01-01 09:00:00+00:00 -122.444455         0.0             0.0  "
      ]
     },
     "execution_count": 56,
     "metadata": {},
     "output_type": "execute_result"
    }
   ],
   "source": [
    "turbine_power.head()"
   ]
  },
  {
   "cell_type": "code",
   "execution_count": 54,
   "metadata": {},
   "outputs": [
    {
     "data": {
      "image/png": "[encoded data removed]",
      "text/plain": [
       "<Figure size 432x288 with 2 Axes>"
      ]
     },
     "metadata": {
      "needs_background": "light"
     },
     "output_type": "display_data"
    }
   ],
   "source": [
    "df = turbine_power.copy()\n",
    "fig, ax1 = plt.subplots()\n",
    "\n",
    "color = 'tab:red'\n",
    "ax1.set_xlabel('Days')\n",
    "ax1.set_ylabel('Flow rate (cu.ft/s)', color=color)\n",
    "ax1.plot(df['discharge_cfs'], label=\"Flow rate\", color=color)\n",
    "ax1.tick_params(axis='y', labelcolor=color)\n",
    "\n",
    "ax2 = ax1.twinx()  # instantiate a second axes that shares the same x-axis\n",
    "color = 'tab:blue'\n",
    "ax2.set_ylabel('Power (MW)', color=color)  # we already handled the x-label with ax1\n",
    "ax2.plot(df['power (MW)'],'b-',label=\"Power\", color=color)\n",
    "ax2.tick_params(axis='y', labelcolor=color)\n",
    "ax1.grid(True, axis='both', color='k',linestyle='--',alpha=0.4)\n",
    "plt.title(\"Yearly flow data from USGS and potential power\")\n",
    "fig.tight_layout()  # otherwise the right y-label is slightly clipped\n",
    "#plt.savefig(os.path.join('..','fig','usgs_twin_falls_flow_power.jpg'))\n",
    "plt.show()"
   ]
  },
  {
   "cell_type": "code",
   "execution_count": 55,
   "metadata": {},
   "outputs": [
    {
     "data": {
      "image/png": "[encoded data removed]",
      "text/plain": [
       "<Figure size 432x288 with 2 Axes>"
      ]
     },
     "metadata": {
      "needs_background": "light"
     },
     "output_type": "display_data"
    }
   ],
   "source": [
    "df = turbine_power.copy()\n",
    "fig, ax1 = plt.subplots()\n",
    "\n",
    "color = 'tab:red'\n",
    "ax1.set_xlabel('Days')\n",
    "ax1.set_ylabel('Flow rate (cu.ft/s)', color=color)\n",
    "ax1.plot(df['discharge_cfs'], label=\"Flow rate\", color=color)\n",
    "ax1.tick_params(axis='y', labelcolor=color)\n",
    "\n",
    "ax2 = ax1.twinx()  # instantiate a second axes that shares the same x-axis\n",
    "color = 'tab:blue'\n",
    "ax2.set_ylabel('Efficiency (%)', color=color)  # we already handled the x-label with ax1\n",
    "ax2.plot(df['efficiency (%)'],'b-',label=\"Power\", color=color)\n",
    "ax2.tick_params(axis='y', labelcolor=color)\n",
    "ax1.grid(True, axis='both', color='k',linestyle='--',alpha=0.4)\n",
    "plt.title(\"Yearly flow data from USGS and potential power\")\n",
    "fig.tight_layout()  # otherwise the right y-label is slightly clipped\n",
    "#plt.savefig(os.path.join('..','fig','usgs_twin_falls_flow_power.jpg'))\n",
    "plt.show()"
   ]
  },
  {
   "cell_type": "code",
   "execution_count": null,
   "metadata": {},
   "outputs": [],
   "source": []
  }
 ],
 "metadata": {
  "kernelspec": {
   "display_name": "Python 3",
   "language": "python",
   "name": "python3"
  },
  "language_info": {
   "codemirror_mode": {
    "name": "ipython",
    "version": 3
   },
   "file_extension": ".py",
   "mimetype": "text/x-python",
   "name": "python",
   "nbconvert_exporter": "python",
   "pygments_lexer": "ipython3",
   "version": "3.7.6"
  }
 },
 "nbformat": 4,
 "nbformat_minor": 5
}
