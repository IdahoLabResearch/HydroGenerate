{
 "cells": [
  {
   "cell_type": "markdown",
   "metadata": {},
   "source": [
    "# Introduction to HydroGenerate\n",
    "\n",
    "\n",
    "The HydroGenerate (HG) package was created to assist in the process of evaluating hydropower potential from different types of hydropower generation technologies / facilities. HG is an open-source python library that has the capability of estimating hydropower generation for diversion and hydrokinetic projects.\n",
    "\n",
    "This document shows a quick workflow for working with HG. All the functionality of HG is encapsulated into a single function (calculate_hp_potential) to facilitate HG utilization by users with limited programming experience. All the base code used in each function is available for reuse and modification. Contributions are welcomed, particularly the addition of new methods, expanding the current functionality, or fixing existing issues with HG. \n"
   ]
  },
  {
   "cell_type": "code",
   "execution_count": 1,
   "metadata": {},
   "outputs": [],
   "source": [
    "# Standard imports\n",
    "import pandas as pd\n",
    "import matplotlib.pyplot as plt\n",
    "import urllib3\n",
    "urllib3.disable_warnings()\n",
    "\n",
    "# Import Hydrogenerate\n",
    "from HydroGenerate.hydropower_potential import *"
   ]
  },
  {
   "cell_type": "markdown",
   "metadata": {},
   "source": [
    "# Basic Calculation:\n",
    "\n",
    "This section presents the workflow for basic hydropower calculations. Basic calculations compute power, head, or flow, given any combination of two parameters. Basic calculations are included for users who do not have data about their system, and it is intended to provide a general idea on existing resources. "
   ]
  },
  {
   "cell_type": "code",
   "execution_count": null,
   "metadata": {},
   "outputs": [
    {
     "name": "stdout",
     "output_type": "stream",
     "text": [
      "Hydropower potential is 9483.0 kW\n"
     ]
    }
   ],
   "source": [
    "# 1) Calculate power from a given head and flow\n",
    "\n",
    "flow = 8000 # given flow, in cfs\n",
    "head = 20 # head, in ft\n",
    "power = None\n",
    "\n",
    "hp = calculate_hp_potential(flow= flow, head= head, rated_power= power, system_efficiency= 0.7)\n",
    "\n",
    "print(\"Hydropower potential is {} kW\".format(round(hp.rated_power, 0)))"
   ]
  },
  {
   "cell_type": "code",
   "execution_count": null,
   "metadata": {},
   "outputs": [
    {
     "name": "stdout",
     "output_type": "stream",
     "text": [
      "The head required to produce 11515 kW with a flow of 8000.0 cfs is 20.0 ft\n"
     ]
    }
   ],
   "source": [
    "# 2) Calculate head from a given head and flow\n",
    "\n",
    "flow = 8000 # given flow, in cfs\n",
    "head = None # head, in ft\n",
    "power = 11515\n",
    "\n",
    "hp = calculate_hp_potential(flow= flow, head= head, rated_power= power)\n",
    "print(\"The head required to produce {} kW with a flow of {} cfs is {} ft\".format(hp.rated_power, hp.flow, round(hp.head,1)))"
   ]
  },
  {
   "cell_type": "code",
   "execution_count": null,
   "metadata": {},
   "outputs": [
    {
     "name": "stdout",
     "output_type": "stream",
     "text": [
      "The flow required to produce 11515 kW with a head of 20.0 ft is 8000.0 cfs\n"
     ]
    }
   ],
   "source": [
    "# 3) Calculate flow from a given head and power\n",
    "\n",
    "flow = None # given flow, in cfs\n",
    "head = 20 # head, in ft\n",
    "power = 11515\n",
    "\n",
    "hp = calculate_hp_potential(flow= flow, head= head, rated_power= power)\n",
    "print(\"The flow required to produce {} kW with a head of {} ft is {} cfs\".format(hp.rated_power, hp.head, round(hp.flow, 0)))"
   ]
  }
 ],
 "metadata": {
  "kernelspec": {
   "display_name": "HG_314",
   "language": "python",
   "name": "python3"
  },
  "language_info": {
   "codemirror_mode": {
    "name": "ipython",
    "version": 3
   },
   "file_extension": ".py",
   "mimetype": "text/x-python",
   "name": "python",
   "nbconvert_exporter": "python",
   "pygments_lexer": "ipython3",
   "version": "3.8.20"
  }
 },
 "nbformat": 4,
 "nbformat_minor": 4
}
