{
 "cells": [
  {
   "attachments": {},
   "cell_type": "markdown",
   "metadata": {},
   "source": [
    "# Introduction to HydroGenerate\n",
    "\n",
    "HydroGenerate is...\n",
    "\n",
    "This document shows a quick workflow for HydroGenerate functions."
   ]
  },
  {
   "cell_type": "code",
   "execution_count": 61,
   "metadata": {},
   "outputs": [
    {
     "name": "stdout",
     "output_type": "stream",
     "text": [
      "The autoreload extension is already loaded. To reload it, use:\n",
      "  %reload_ext autoreload\n"
     ]
    }
   ],
   "source": [
    "%load_ext autoreload\n",
    "%autoreload 2\n",
    "# Standard imports\n",
    "import pandas as pd\n",
    "import matplotlib.pyplot as plt\n",
    "import urllib3\n",
    "urllib3.disable_warnings()\n",
    "\n",
    "# Local imports\n",
    "from hat.api_call import *\n",
    "from hat.utils.hydropower_potential import *\n",
    "from hat.utils.PyGeoTools.geolocation import *"
   ]
  },
  {
   "attachments": {},
   "cell_type": "markdown",
   "metadata": {},
   "source": [
    "### Example 1. Basic Calculation:\n",
    "\n",
    "This section presents the workflow for basic hydropower calculations. Basic calculations compute power, head, or flow, given any combination of two parameters. Basic calculations are included for users who do not have data about their system, and it is intended to provide a general estimation only. "
   ]
  },
  {
   "cell_type": "code",
   "execution_count": 74,
   "metadata": {},
   "outputs": [
    {
     "name": "stdout",
     "output_type": "stream",
     "text": [
      "Hydropower potential is 11515.0 Kw\n"
     ]
    }
   ],
   "source": [
    "# 1.1) Calculate power from a given head and flow\n",
    "\n",
    "flow = 8000 # given flow, in cfs\n",
    "head = 20 # head, in ft\n",
    "power = None\n",
    "\n",
    "flow, head, hp = calculate_hp_potential(flow= flow, head= head, rated_power= power)\n",
    "print(\"Hydropower potential is {} Kw\".format(round(hp, 0)))\n"
   ]
  },
  {
   "cell_type": "code",
   "execution_count": 75,
   "metadata": {},
   "outputs": [
    {
     "name": "stdout",
     "output_type": "stream",
     "text": [
      "The head required to obtain 11515 Kw with a flow of 8000.0 cfs is 20.0 ft\n"
     ]
    }
   ],
   "source": [
    "# 1.2) Calculate head from a given head and flow\n",
    "\n",
    "flow = 8000 # given flow, in cfs\n",
    "head = None # head, in ft\n",
    "power = 11515\n",
    "\n",
    "flow, head, hp = calculate_hp_potential(flow= flow, head= head, rated_power= power)\n",
    "print(\"The head required to obtain {} Kw with a flow of {} cfs is {} ft\".format(power, flow, round(head, 0)))"
   ]
  },
  {
   "cell_type": "code",
   "execution_count": 76,
   "metadata": {},
   "outputs": [
    {
     "name": "stdout",
     "output_type": "stream",
     "text": [
      "The flow required to obtain 11515 Kw with a head of 20.0 ft is 8000.0 cfs\n"
     ]
    }
   ],
   "source": [
    "# 1.3) Calculate head from a given head and flow\n",
    "\n",
    "flow = None # given flow, in cfs\n",
    "head = 20 # head, in ft\n",
    "power = 11515\n",
    "\n",
    "flow, head, hp = calculate_hp_potential(flow= flow, head= head, rated_power= power)\n",
    "print(\"The flow required to obtain {} Kw with a head of {} ft is {} cfs\".format(power, head, round(flow, 0)))"
   ]
  },
  {
   "attachments": {},
   "cell_type": "markdown",
   "metadata": {},
   "source": [
    "### Example 2. Diversion:\n",
    "\n",
    "A diversion, sometimes called a “run-of-river” facility, channels a portion of a river through a canal and/or a penstock to utilize the natural decline of the river bed elevation to produce energy. A penstock is a closed conduit that channels the flow of water to turbines with water flow regulated by gates, valves, and turbines. A diversion may not require the use of a dam. [DOE](https://www.energy.gov/eere/water/types-hydropower-plants#:~:text=There%20are%20three%20types%20of,renewable%20energy%20to%20the%20grid.)\n",
    "\n",
    "In diversion projects, HydroGenerate focuses on calculating hydropwoer under diffrent configurations."
   ]
  },
  {
   "cell_type": "code",
   "execution_count": 119,
   "metadata": {},
   "outputs": [
    {
     "name": "stdout",
     "output_type": "stream",
     "text": [
      "Head_loss at design flow (ft): 1.96\n",
      "Flow range evaluated (cfs): [4800.  5082.4 5364.7 5647.1 5929.4 6211.8 6494.1 6776.5 7058.8 7341.2\n",
      " 7623.5 7905.9 8188.2 8470.6 8752.9 9035.3 9317.6 9600. ]\n",
      "Design flow (cfs): 8000.0\n",
      "Turbine type: Kaplan\n",
      "Turbine Efficiency for the given flow range: [0.911 0.911 0.911 0.911 0.911 0.911 0.911 0.911 0.911 0.911 0.91  0.908\n",
      " 0.904 0.895 0.881 0.858 0.82  0.762]\n",
      "Rated Power (Kw): 10906.9\n",
      "Power (Kw) for diffrent flow ranges: [ 6542.7  6928.8  7314.   7699.   8083.9  8468.9  8853.8  9238.6  9622.7\n",
      " 10004.3 10379.3 10739.8 11071.5 11351.4 11543.7 11595.7 11432.5 10951. ]\n",
      "Generator Efficiency: 0.98\n",
      "Head Loss method: Darcy-Weisbach\n",
      "Net head (ft): 18.0\n",
      "Penstock length (ft): 50.0\n",
      "Penstock diameter (ft): 12.83\n"
     ]
    }
   ],
   "source": [
    "# 1.1) Head, power, and lenght of penstock are known. FLow is a single value.\n",
    "# In this scenario HydroGenerate will select a turbine, compute effieincy for the given flow\n",
    "# and values within 0.6 to 1.2 the given flow, penstock diameter (assuming steel if no material is given),\n",
    "# head loss for all flows, rater power,\n",
    "# power a given range of flow, \n",
    "\n",
    "flow = 8000\n",
    "head = 20\n",
    "power = None\n",
    "\n",
    "hp = calculate_hp_potential(flow= flow, rated_power= power, head= head,\n",
    "                           hydropower_type= 'Diversion', penstock_length = 50)\n",
    "\n",
    "# Explore output\n",
    "print('Head_loss at design flow (ft):', round(hp.head_loss, 2))\n",
    "print('Flow range evaluated (cfs):', np.round(hp.flow, 1))\n",
    "print('Design flow (cfs):', hp.design_flow)\n",
    "print('Turbine type:',hp.turbine_type)\n",
    "print('Turbine Efficiency for the given flow range:', np.round(hp.effi_cal,3))\n",
    "print('Rated Power (Kw):',round(hp.rated_power,1))\n",
    "print('Power (Kw) for diffrent flow ranges:', np.round(hp.power,1))\n",
    "print('Generator Efficiency:',hp.generator_efficiency)\n",
    "print('Head Loss method:',hp.headloss_method)\n",
    "print('Net head (ft):', round(hp.net_head,1))\n",
    "print('Penstock length (ft):', hp.penstock_length)\n",
    "print('Penstock diameter (ft):', round(hp.penstock_diameter,2))"
   ]
  },
  {
   "cell_type": "code",
   "execution_count": 120,
   "metadata": {},
   "outputs": [
    {
     "data": {
      "text/plain": [
       "['Re',\n",
       " 'Rm',\n",
       " '__class__',\n",
       " '__delattr__',\n",
       " '__dict__',\n",
       " '__dir__',\n",
       " '__doc__',\n",
       " '__eq__',\n",
       " '__format__',\n",
       " '__ge__',\n",
       " '__getattribute__',\n",
       " '__gt__',\n",
       " '__hash__',\n",
       " '__init__',\n",
       " '__init_subclass__',\n",
       " '__le__',\n",
       " '__lt__',\n",
       " '__module__',\n",
       " '__ne__',\n",
       " '__new__',\n",
       " '__reduce__',\n",
       " '__reduce_ex__',\n",
       " '__repr__',\n",
       " '__setattr__',\n",
       " '__sizeof__',\n",
       " '__str__',\n",
       " '__subclasshook__',\n",
       " '__weakref__',\n",
       " 'design_diameter',\n",
       " 'design_flow',\n",
       " 'designdiameter_calculator',\n",
       " 'effi_cal',\n",
       " 'flow',\n",
       " 'generator_efficiency',\n",
       " 'h',\n",
       " 'head',\n",
       " 'head_loss',\n",
       " 'head_loss_calculation',\n",
       " 'headloss_method',\n",
       " 'max_headloss_allowed',\n",
       " 'net_head',\n",
       " 'pctime_runfull',\n",
       " 'pelton_n_jets',\n",
       " 'penstock_diameter',\n",
       " 'penstock_frictionfactor',\n",
       " 'penstock_length',\n",
       " 'penstock_material',\n",
       " 'pmax',\n",
       " 'pmin',\n",
       " 'power',\n",
       " 'rated_power',\n",
       " 'raw_power',\n",
       " 'reynoldsnumber_calculator',\n",
       " 'runner_diameter',\n",
       " 'turb_cap',\n",
       " 'turbine_type']"
      ]
     },
     "execution_count": 120,
     "metadata": {},
     "output_type": "execute_result"
    }
   ],
   "source": [
    "# Full list of parameters in cluded in HydroGenerate calculation\n",
    "dir(hp)"
   ]
  },
  {
   "cell_type": "code",
   "execution_count": 122,
   "metadata": {},
   "outputs": [
    {
     "name": "stdout",
     "output_type": "stream",
     "text": [
      "Head_loss at design flow (ft): 2.0\n",
      "Rated Power (Kw): 10885.6\n",
      "Head Loss method: Hazen-Williams\n",
      "Net head (ft): 18.0\n",
      "Penstock diameter (ft): 12.24\n"
     ]
    }
   ],
   "source": [
    "# 1.1) Exploring additional options:\n",
    "#  Using Hazen-Williams for head loss calculation\n",
    "\n",
    "flow = 8000\n",
    "head = 20\n",
    "power = None\n",
    "\n",
    "hp = calculate_hp_potential(flow= flow, rated_power= power, head= head,\n",
    "                           hydropower_type= 'Diversion', penstock_length = 50,\n",
    "                           headloss_method= \"Hazen-Williams\")\n",
    "\n",
    "# Explore output\n",
    "print('Head_loss at design flow (ft):', round(hp.head_loss, 2))\n",
    "print('Rated Power (Kw):',round(hp.rated_power,1))\n",
    "print('Head Loss method:',hp.headloss_method)\n",
    "print('Net head (ft):', round(hp.net_head,1))\n",
    "print('Penstock diameter (ft):', round(hp.penstock_diameter,2))"
   ]
  },
  {
   "cell_type": "code",
   "execution_count": 166,
   "metadata": {},
   "outputs": [
    {
     "name": "stdout",
     "output_type": "stream",
     "text": [
      "Head_loss at design flow (ft): 2.0\n",
      "Rated Power (Kw): 10885.6\n",
      "Head Loss method: Hazen-Williams\n",
      "Net head (ft): 18.0\n",
      "Penstock diameter (ft): 12.76\n",
      "Hazen-Williams C: 130\n"
     ]
    }
   ],
   "source": [
    "# 1.1) Exploring additional options:\n",
    "#  Using Hazen-Williams for head loss calculation and \n",
    "# using a known C\n",
    "\n",
    "# 1.1) Exploring additional options:\n",
    "#  Selecting a diffrent material for the penstock\n",
    "\n",
    "flow = 8000\n",
    "head = 20\n",
    "power = None\n",
    "\n",
    "hp = calculate_hp_potential(flow= flow, rated_power= power, head= head,\n",
    "                           hydropower_type= 'Diversion', penstock_length = 50,\n",
    "                           headloss_method= 'Hazen-Williams', penstock_material= 'Concrete')\n",
    "\n",
    "# Explore output\n",
    "print('Head_loss at design flow (ft):', round(hp.head_loss, 2))\n",
    "print('Rated Power (Kw):',round(hp.rated_power,1))\n",
    "print('Head Loss method:',hp.headloss_method)\n",
    "print('Net head (ft):', round(hp.net_head,1))\n",
    "print('Penstock diameter (ft):', round(hp.penstock_diameter,2))\n",
    "print('Hazen-Williams C:', round(hp.penstock_frictionfactor,2))"
   ]
  },
  {
   "cell_type": "code",
   "execution_count": 169,
   "metadata": {},
   "outputs": [
    {
     "name": "stdout",
     "output_type": "stream",
     "text": [
      "Head_loss at design flow (ft): 2.0\n",
      "Rated Power (Kw): 10885.6\n",
      "Head Loss method: Hazen-Williams\n",
      "Net head (ft): 18.0\n",
      "Penstock diameter (ft): 14.1\n"
     ]
    }
   ],
   "source": [
    "# 1.1) Exploring additional options:\n",
    "#  Using Hazen-Williams for head loss calculation and\n",
    "# using a diffrent C value\n",
    "# Note: editing hydraulic_processing.py allows for entering materials that can be called by name\n",
    "\n",
    "\n",
    "flow = 8000\n",
    "head = 20\n",
    "power = None\n",
    "\n",
    "hp = calculate_hp_potential(flow= flow, rated_power= power, head= head,\n",
    "                           hydropower_type= 'Diversion', penstock_length = 50,\n",
    "                           headloss_method= 'Hazen-Williams', penstock_frictionfactor= 100)\n",
    "\n",
    "# Explore output\n",
    "print('Head_loss at design flow (ft):', round(hp.head_loss, 2))\n",
    "print('Rated Power (Kw):',round(hp.rated_power,1))\n",
    "print('Head Loss method:',hp.headloss_method)\n",
    "print('Net head (ft):', round(hp.net_head,1))\n",
    "print('Penstock diameter (ft):', round(hp.penstock_diameter,2))"
   ]
  },
  {
   "cell_type": "code",
   "execution_count": null,
   "metadata": {},
   "outputs": [],
   "source": []
  }
 ],
 "metadata": {
  "kernelspec": {
   "display_name": "hat-env",
   "language": "python",
   "name": "python3"
  },
  "language_info": {
   "codemirror_mode": {
    "name": "ipython",
    "version": 3
   },
   "file_extension": ".py",
   "mimetype": "text/x-python",
   "name": "python",
   "nbconvert_exporter": "python",
   "pygments_lexer": "ipython3",
   "version": "3.6.13"
  },
  "orig_nbformat": 4
 },
 "nbformat": 4,
 "nbformat_minor": 2
}
