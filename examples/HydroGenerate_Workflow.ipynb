{
 "cells": [
  {
   "attachments": {},
   "cell_type": "markdown",
   "metadata": {},
   "source": [
    "# Introduction to HydroGenerate\n",
    "\n",
    "HydroGenerate is...\n",
    "\n",
    "This document shows a quick workflow for HydroGenerate functions."
   ]
  },
  {
   "cell_type": "code",
   "execution_count": 61,
   "metadata": {},
   "outputs": [
    {
     "name": "stdout",
     "output_type": "stream",
     "text": [
      "The autoreload extension is already loaded. To reload it, use:\n",
      "  %reload_ext autoreload\n"
     ]
    }
   ],
   "source": [
    "%load_ext autoreload\n",
    "%autoreload 2\n",
    "# Standard imports\n",
    "import pandas as pd\n",
    "import matplotlib.pyplot as plt\n",
    "import urllib3\n",
    "urllib3.disable_warnings()\n",
    "\n",
    "# Local imports\n",
    "from hat.api_call import *\n",
    "from hat.utils.hydropower_potential import *\n",
    "from hat.utils.PyGeoTools.geolocation import *"
   ]
  },
  {
   "attachments": {},
   "cell_type": "markdown",
   "metadata": {},
   "source": [
    "### Example 1. Basic Calculation:\n",
    "\n",
    "This section presents the workflow for basic hydropower calculations. Basic calculations compute power, head, or flow, given any combination of two parameters. Basic calculations are included for users who do not have data about their system, and it is intended to provide a general estimation only. "
   ]
  },
  {
   "cell_type": "code",
   "execution_count": 74,
   "metadata": {},
   "outputs": [
    {
     "name": "stdout",
     "output_type": "stream",
     "text": [
      "Hydropower potential is 11515.0 Kw\n"
     ]
    }
   ],
   "source": [
    "# 1.1) Calculate power from a given head and flow\n",
    "\n",
    "flow = 8000 # given flow, in cfs\n",
    "head = 20 # head, in ft\n",
    "power = None\n",
    "\n",
    "flow, head, hp = calculate_hp_potential(flow= flow, head= head, rated_power= power)\n",
    "print(\"Hydropower potential is {} Kw\".format(round(hp, 0)))\n"
   ]
  },
  {
   "cell_type": "code",
   "execution_count": 75,
   "metadata": {},
   "outputs": [
    {
     "name": "stdout",
     "output_type": "stream",
     "text": [
      "The head required to obtain 11515 Kw with a flow of 8000.0 cfs is 20.0 ft\n"
     ]
    }
   ],
   "source": [
    "# 1.2) Calculate head from a given head and flow\n",
    "\n",
    "flow = 8000 # given flow, in cfs\n",
    "head = None # head, in ft\n",
    "power = 11515\n",
    "\n",
    "flow, head, hp = calculate_hp_potential(flow= flow, head= head, rated_power= power)\n",
    "print(\"The head required to obtain {} Kw with a flow of {} cfs is {} ft\".format(power, flow, round(head, 0)))"
   ]
  },
  {
   "cell_type": "code",
   "execution_count": 76,
   "metadata": {},
   "outputs": [
    {
     "name": "stdout",
     "output_type": "stream",
     "text": [
      "The flow required to obtain 11515 Kw with a head of 20.0 ft is 8000.0 cfs\n"
     ]
    }
   ],
   "source": [
    "# 1.3) Calculate head from a given head and flow\n",
    "\n",
    "flow = None # given flow, in cfs\n",
    "head = 20 # head, in ft\n",
    "power = 11515\n",
    "\n",
    "flow, head, hp = calculate_hp_potential(flow= flow, head= head, rated_power= power)\n",
    "print(\"The flow required to obtain {} Kw with a head of {} ft is {} cfs\".format(power, head, round(flow, 0)))\n"
   ]
  },
  {
   "attachments": {},
   "cell_type": "markdown",
   "metadata": {},
   "source": [
    "### Example 2. Diversion:\n",
    "\n",
    "A diversion, sometimes called a “run-of-river” facility, channels a portion of a river through a canal and/or a penstock to utilize the natural decline of the river bed elevation to produce energy. A penstock is a closed conduit that channels the flow of water to turbines with water flow regulated by gates, valves, and turbines. A diversion may not require the use of a dam. [DOE](https://www.energy.gov/eere/water/types-hydropower-plants#:~:text=There%20are%20three%20types%20of,renewable%20energy%20to%20the%20grid.)\n",
    "\n",
    "In diversion projects, HydroGenerate focuses on calculating hydropwoer under diffrent configurations."
   ]
  },
  {
   "cell_type": "code",
   "execution_count": 251,
   "metadata": {},
   "outputs": [
    {
     "name": "stdout",
     "output_type": "stream",
     "text": [
      "Design flow (cfs): 8000.0\n",
      "Head_loss at design flow (ft): 1.96\n",
      "Turbine type: Kaplan\n",
      "Rated Power (Kw): 10906.86\n",
      "Net head (ft): 18.04\n",
      "Generator Efficiency: 0.98\n",
      "Head Loss method: Darcy-Weisbach\n",
      "Penstock length (ft): 50.0\n",
      "Penstock diameter (ft): 12.83\n",
      "Runner diameter (ft): 5.33\n",
      "Flow range evaluated (cfs): [4800.  5082.4 5364.7 5647.1 5929.4 6211.8 6494.1 6776.5 7058.8 7341.2\n",
      " 7623.5 7905.9 8188.2 8470.6 8752.9 9035.3 9317.6 9600. ]\n",
      "Turbine Efficiency for the given flow range: [0.911 0.911 0.911 0.911 0.911 0.911 0.911 0.911 0.911 0.911 0.91  0.908\n",
      " 0.904 0.895 0.881 0.858 0.82  0.762]\n",
      "Power (Kw) for the given flow range: [ 6998.8  7378.9  7752.5  8119.8  8480.8  8835.2  9182.7  9522.9  9854.8\n",
      " 10176.4 10483.2 10767.2 11014.1 11201.7 11295.8 11247.6 10988.5 10426.1]\n"
     ]
    }
   ],
   "source": [
    "# 2.1) Head, power, and lenght of penstock are known. FLow is a single value.\n",
    "# In this scenario HydroGenerate will select a turbine, compute effieincy for the given flow\n",
    "# and values within 0.6 to 1.2 the given flow, penstock diameter (assuming steel if no material is given),\n",
    "# head loss for all flows, rater power,\n",
    "# power a given range of flow, \n",
    "\n",
    "flow = 8000\n",
    "head = 20\n",
    "power = None\n",
    "\n",
    "hp = calculate_hp_potential(flow= flow, rated_power= power, head= head,\n",
    "                           hydropower_type= 'Diversion', penstock_length = 50)\n",
    "\n",
    "# Explore output\n",
    "print('Design flow (cfs):', hp.design_flow)\n",
    "print('Head_loss at design flow (ft):', round(hp.design_headloss, 2))\n",
    "print('Turbine type:', hp.turbine_type)\n",
    "print('Rated Power (Kw):', round(hp.rated_power, 2))\n",
    "print('Net head (ft):', round(hp.net_head, 2))\n",
    "print('Generator Efficiency:',hp.generator_efficiency)\n",
    "print('Head Loss method:',hp.headloss_method)\n",
    "print('Penstock length (ft):', hp.penstock_length)\n",
    "print('Penstock diameter (ft):', round(hp.penstock_diameter,2))\n",
    "print('Runner diameter (ft):', round(hp.runner_diameter,2))\n",
    "\n",
    "print('Flow range evaluated (cfs):', np.round(hp.flow, 1))\n",
    "print('Turbine Efficiency for the given flow range:', np.round(hp.effi_cal,3))\n",
    "print('Power (Kw) for the given flow range:', np.round(hp.power,1))\n"
   ]
  },
  {
   "cell_type": "code",
   "execution_count": 120,
   "metadata": {},
   "outputs": [
    {
     "data": {
      "text/plain": [
       "['Re',\n",
       " 'Rm',\n",
       " '__class__',\n",
       " '__delattr__',\n",
       " '__dict__',\n",
       " '__dir__',\n",
       " '__doc__',\n",
       " '__eq__',\n",
       " '__format__',\n",
       " '__ge__',\n",
       " '__getattribute__',\n",
       " '__gt__',\n",
       " '__hash__',\n",
       " '__init__',\n",
       " '__init_subclass__',\n",
       " '__le__',\n",
       " '__lt__',\n",
       " '__module__',\n",
       " '__ne__',\n",
       " '__new__',\n",
       " '__reduce__',\n",
       " '__reduce_ex__',\n",
       " '__repr__',\n",
       " '__setattr__',\n",
       " '__sizeof__',\n",
       " '__str__',\n",
       " '__subclasshook__',\n",
       " '__weakref__',\n",
       " 'design_diameter',\n",
       " 'design_flow',\n",
       " 'designdiameter_calculator',\n",
       " 'effi_cal',\n",
       " 'flow',\n",
       " 'generator_efficiency',\n",
       " 'h',\n",
       " 'head',\n",
       " 'head_loss',\n",
       " 'head_loss_calculation',\n",
       " 'headloss_method',\n",
       " 'max_headloss_allowed',\n",
       " 'net_head',\n",
       " 'pctime_runfull',\n",
       " 'pelton_n_jets',\n",
       " 'penstock_diameter',\n",
       " 'penstock_frictionfactor',\n",
       " 'penstock_length',\n",
       " 'penstock_material',\n",
       " 'pmax',\n",
       " 'pmin',\n",
       " 'power',\n",
       " 'rated_power',\n",
       " 'raw_power',\n",
       " 'reynoldsnumber_calculator',\n",
       " 'runner_diameter',\n",
       " 'turb_cap',\n",
       " 'turbine_type']"
      ]
     },
     "execution_count": 120,
     "metadata": {},
     "output_type": "execute_result"
    }
   ],
   "source": [
    "# Full list of parameters in cluded in HydroGenerate calculation\n",
    "dir(hp)"
   ]
  },
  {
   "cell_type": "code",
   "execution_count": 122,
   "metadata": {},
   "outputs": [
    {
     "name": "stdout",
     "output_type": "stream",
     "text": [
      "Head_loss at design flow (ft): 2.0\n",
      "Rated Power (Kw): 10885.6\n",
      "Head Loss method: Hazen-Williams\n",
      "Net head (ft): 18.0\n",
      "Penstock diameter (ft): 12.24\n"
     ]
    }
   ],
   "source": [
    "# 2.1) Exploring additional options:\n",
    "#  Using Hazen-Williams for head loss calculation\n",
    "\n",
    "flow = 8000\n",
    "head = 20\n",
    "power = None\n",
    "\n",
    "hp = calculate_hp_potential(flow= flow, rated_power= power, head= head,\n",
    "                           hydropower_type= 'Diversion', penstock_length = 50,\n",
    "                           headloss_method= \"Hazen-Williams\")\n",
    "\n",
    "# Explore output\n",
    "print('Head_loss at design flow (ft):', round(hp.head_loss, 2))\n",
    "print('Rated Power (Kw):',round(hp.rated_power,1))\n",
    "print('Head Loss method:',hp.headloss_method)\n",
    "print('Net head (ft):', round(hp.net_head,1))\n",
    "print('Penstock diameter (ft):', round(hp.penstock_diameter,2))"
   ]
  },
  {
   "cell_type": "code",
   "execution_count": 166,
   "metadata": {},
   "outputs": [
    {
     "name": "stdout",
     "output_type": "stream",
     "text": [
      "Head_loss at design flow (ft): 2.0\n",
      "Rated Power (Kw): 10885.6\n",
      "Head Loss method: Hazen-Williams\n",
      "Net head (ft): 18.0\n",
      "Penstock diameter (ft): 12.76\n",
      "Hazen-Williams C: 130\n"
     ]
    }
   ],
   "source": [
    "# 2.1) Exploring additional options:\n",
    "#  Using Hazen-Williams for head loss calculation and \n",
    "# using a known C\n",
    "\n",
    "# 1.1) Exploring additional options:\n",
    "#  Selecting a diffrent material for the penstock\n",
    "\n",
    "flow = 8000\n",
    "head = 20\n",
    "power = None\n",
    "\n",
    "hp = calculate_hp_potential(flow= flow, rated_power= power, head= head,\n",
    "                           hydropower_type= 'Diversion', penstock_length = 50,\n",
    "                           headloss_method= 'Hazen-Williams', penstock_material= 'Concrete')\n",
    "\n",
    "# Explore output\n",
    "print('Head_loss at design flow (ft):', round(hp.head_loss, 2))\n",
    "print('Rated Power (Kw):',round(hp.rated_power,1))\n",
    "print('Head Loss method:',hp.headloss_method)\n",
    "print('Net head (ft):', round(hp.net_head,1))\n",
    "print('Penstock diameter (ft):', round(hp.penstock_diameter,2))\n",
    "print('Hazen-Williams C:', round(hp.penstock_frictionfactor,2))"
   ]
  },
  {
   "cell_type": "code",
   "execution_count": 169,
   "metadata": {},
   "outputs": [
    {
     "name": "stdout",
     "output_type": "stream",
     "text": [
      "Head_loss at design flow (ft): 2.0\n",
      "Rated Power (Kw): 10885.6\n",
      "Head Loss method: Hazen-Williams\n",
      "Net head (ft): 18.0\n",
      "Penstock diameter (ft): 14.1\n"
     ]
    }
   ],
   "source": [
    "# 2.1) Exploring additional options:\n",
    "#  Using Hazen-Williams for head loss calculation and\n",
    "# using a diffrent C value\n",
    "# Note: editing hydraulic_processing.py allows for entering materials that can be called by name\n",
    "\n",
    "\n",
    "flow = 8000\n",
    "head = 20\n",
    "power = None\n",
    "\n",
    "hp = calculate_hp_potential(flow= flow, rated_power= power, head= head,\n",
    "                           hydropower_type= 'Diversion', penstock_length = 50,\n",
    "                           headloss_method= 'Hazen-Williams', penstock_frictionfactor= 100)\n",
    "\n",
    "# Explore output\n",
    "print('Head_loss at design flow (ft):', round(hp.head_loss, 2))\n",
    "print('Rated Power (Kw):',round(hp.rated_power,1))\n",
    "print('Head Loss method:',hp.headloss_method)\n",
    "print('Net head (ft):', round(hp.net_head,1))\n",
    "print('Penstock diameter (ft):', round(hp.penstock_diameter,2))"
   ]
  },
  {
   "cell_type": "code",
   "execution_count": 173,
   "metadata": {},
   "outputs": [
    {
     "data": {
      "text/plain": [
       "'c:\\\\Users\\\\BASTC\\\\Documents\\\\Projects\\\\IrrigationModernization\\\\GitHub\\\\HydroGenerate\\\\examples'"
      ]
     },
     "execution_count": 173,
     "metadata": {},
     "output_type": "execute_result"
    }
   ],
   "source": [
    "os.getcwd()"
   ]
  },
  {
   "cell_type": "code",
   "execution_count": 174,
   "metadata": {},
   "outputs": [],
   "source": []
  },
  {
   "cell_type": "code",
   "execution_count": null,
   "metadata": {},
   "outputs": [],
   "source": []
  },
  {
   "cell_type": "code",
   "execution_count": 222,
   "metadata": {},
   "outputs": [
    {
     "name": "stdout",
     "output_type": "stream",
     "text": [
      "None\n",
      "[0.05340232 0.05373044 0.0530752  ... 0.05049443 0.04828901 0.04985928]\n",
      "<class 'numpy.ndarray'>\n",
      "Head_loss at design flow (ft): 1.92\n",
      "Rated Power (Kw): [16225.57267354 16224.69159532 16226.4510532  ... 16233.38094254\n",
      " 16239.30292157 16235.08642932]\n",
      "Net head (ft): [19.8 19.8 19.8 ... 19.8 19.8 19.8]\n"
     ]
    }
   ],
   "source": [
    "# 2.2) Head, power, and lenght of penstock are known. FLow is a time series, the design flow is not known.\n",
    "# In this scenario HydroGenerate will select a turbine, compute effieincy for the given flow values,\n",
    "# design flow based on a percent of exceedance, penstock diameter (assuming steel if no material is given),\n",
    "# head loss for all flows, rater power,\n",
    "# power a given range of flow, \n",
    "\n",
    "flow = pd.read_csv('data_test.csv')['discharge_cfs'].to_numpy()\n",
    "head = 20\n",
    "power = None\n",
    "\n",
    "hp = calculate_hp_potential(flow= flow, rated_power= power, head= head,\n",
    "                           hydropower_type= 'Diversion', penstock_length = 50)\n",
    "\n",
    "# Explore output\n",
    "print(type(hp.head_loss))\n",
    "\n",
    "print('Head_loss at design flow (ft):', round(hp.design_headloss, 2))\n",
    "# print('Flow range evaluated (cfs):', np.round(hp.flow, 1))\n",
    "# print('Design flow (cfs):', hp.design_flow)\n",
    "# print('Turbine type:',hp.turbine_type)\n",
    "# print('Turbine Efficiency for the given flow range:', np.round(hp.effi_cal,3))\n",
    "\n",
    "print('Rated Power (Kw):',hp.rated_power)\n",
    "# print('Rated Power (Kw):',round(hp.rated_power,1))\n",
    "\n",
    "# print('Power (Kw) for diffrent flow ranges:', np.round(hp.power,1))\n",
    "# print('Generator Efficiency:',hp.generator_efficiency)\n",
    "# print('Head Loss method:',hp.headloss_method)\n",
    "print('Net head (ft):', np.round(hp.net_head,1))\n",
    "# print('Penstock length (ft):', hp.penstock_length)\n",
    "# print('Penstock diameter (ft):', round(hp.penstock_diameter,2))"
   ]
  },
  {
   "cell_type": "code",
   "execution_count": 223,
   "metadata": {},
   "outputs": [
    {
     "name": "stdout",
     "output_type": "stream",
     "text": [
      " Number \n",
      "None\n",
      "[0.21099635 0.23654954 0.26356291 0.29203647 0.32197021 0.35336413\n",
      " 0.38621823 0.42053252 0.45630698 0.49354163 0.53223647 0.57239148\n",
      " 0.61400668 0.65708206 0.70161762 0.74761336 0.79506929 0.8439854 ]\n",
      "<class 'numpy.ndarray'>\n",
      "Head_loss at design flow (ft): 1.92\n",
      "Net head (ft): [19.3 19.2 19.1 19.  18.9 18.8 18.7 18.6 18.5 18.4 18.3 18.1 18.  17.8\n",
      " 17.7 17.5 17.4 17.2]\n"
     ]
    }
   ],
   "source": [
    "# 2.1) Head, power, and lenght of penstock are known. FLow is a single value.\n",
    "# In this scenario HydroGenerate will select a turbine, compute effieincy for the given flow\n",
    "# and values within 0.6 to 1.2 the given flow, penstock diameter (assuming steel if no material is given),\n",
    "# head loss for all flows, rater power,\n",
    "# power a given range of flow, \n",
    "\n",
    "flow = 10800\n",
    "head = 20\n",
    "power = None\n",
    "\n",
    "hp = calculate_hp_potential(flow= flow, rated_power= power, head= head,\n",
    "                           hydropower_type= 'Diversion', penstock_length = 50)\n",
    "\n",
    "# Explore output\n",
    "print(type(hp.head_loss))\n",
    "\n",
    "print('Head_loss at design flow (ft):', round(hp.design_headloss, 2))\n",
    "# print('Flow range evaluated (cfs):', np.round(hp.flow, 1))\n",
    "# print('Design flow (cfs):', hp.design_flow)\n",
    "# print('Turbine type:',hp.turbine_type)\n",
    "# print('Turbine Efficiency for the given flow range:', np.round(hp.effi_cal,3))\n",
    "# print('Rated Power (Kw):',round(hp.rated_power,1))\n",
    "# print('Power (Kw) for diffrent flow ranges:', np.round(hp.power,1))\n",
    "# print('Generator Efficiency:',hp.generator_efficiency)\n",
    "# print('Head Loss method:',hp.headloss_method)\n",
    "print('Net head (ft):', np.round(hp.net_head,1))\n",
    "# print('Penstock length (ft):', hp.penstock_length)\n",
    "# print('Penstock diameter (ft):', round(hp.penstock_diameter,2))"
   ]
  }
 ],
 "metadata": {
  "kernelspec": {
   "display_name": "hat-env",
   "language": "python",
   "name": "python3"
  },
  "language_info": {
   "codemirror_mode": {
    "name": "ipython",
    "version": 3
   },
   "file_extension": ".py",
   "mimetype": "text/x-python",
   "name": "python",
   "nbconvert_exporter": "python",
   "pygments_lexer": "ipython3",
   "version": "3.6.13"
  },
  "orig_nbformat": 4
 },
 "nbformat": 4,
 "nbformat_minor": 2
}
