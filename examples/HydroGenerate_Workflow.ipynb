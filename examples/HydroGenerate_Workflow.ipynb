{
 "cells": [
  {
   "attachments": {},
   "cell_type": "markdown",
   "metadata": {},
   "source": [
    "# Introduction to HydroGenerate\n",
    "\n",
    "\n",
    "The HydroGenerate (HG) package was created to assist in the process of evaluating hydropower potential from different types of hydropower generation technologies / facilities. HG is an open-source python library that has the capability of estimating hydropower generation for diversion and hydrokinetic projects.\n",
    "\n",
    "This document shows a quick workflow for working with HG. All the functionality of HG is encapsulated into a single function (calculate_hp_potential) to facilitate HG utilization by users with limited programming experience. All the base code used in each function is available for reuse and modification. Contributions are welcomed, particularly the addition of new methods, expanding the current functionality, or fixing existing issues with HG. \n"
   ]
  },
  {
   "cell_type": "code",
   "execution_count": 2,
   "metadata": {},
   "outputs": [],
   "source": [
    "%load_ext autoreload\n",
    "%autoreload 2\n",
    "# Standard imports\n",
    "import pandas as pd\n",
    "import matplotlib.pyplot as plt\n",
    "import urllib3\n",
    "urllib3.disable_warnings()\n",
    "\n",
    "# Local imports\n",
    "from hat.api_call import *\n",
    "from hat.utils.hydropower_potential import *\n",
    "# from hat.utils.PyGeoTools.geolocation import *"
   ]
  },
  {
   "attachments": {},
   "cell_type": "markdown",
   "metadata": {},
   "source": [
    "### Example 1. Basic Calculation:\n",
    "\n",
    "This section presents the workflow for basic hydropower calculations. Basic calculations compute power, head, or flow, given any combination of two parameters. Basic calculations are included for users who do not have data about their system, and it is intended to provide a general idea on existing resources. "
   ]
  },
  {
   "cell_type": "code",
   "execution_count": 2,
   "metadata": {},
   "outputs": [
    {
     "name": "stdout",
     "output_type": "stream",
     "text": [
      "Hydropower potential is 11515.0 kW\n"
     ]
    }
   ],
   "source": [
    "# 1.1) Calculate power from a given head and flow\n",
    "\n",
    "flow = 8000 # given flow, in cfs\n",
    "head = 20 # head, in ft\n",
    "power = None\n",
    "\n",
    "hp = calculate_hp_potential(flow= flow, head= head, rated_power= power)\n",
    "\n",
    "print(\"Hydropower potential is {} kW\".format(round(hp.rated_power, 0)))"
   ]
  },
  {
   "cell_type": "code",
   "execution_count": 3,
   "metadata": {},
   "outputs": [
    {
     "name": "stdout",
     "output_type": "stream",
     "text": [
      "The head required to obtain 11515 kW with a flow of 8000.0 cfs is 20.0 ft\n"
     ]
    }
   ],
   "source": [
    "# 1.2) Calculate head from a given head and flow\n",
    "\n",
    "flow = 8000 # given flow, in cfs\n",
    "head = None # head, in ft\n",
    "power = 11515\n",
    "\n",
    "hp = calculate_hp_potential(flow= flow, head= head, rated_power= power)\n",
    "print(\"The head required to obtain {} kW with a flow of {} cfs is {} ft\".format(hp.rated_power, hp.flow, round(hp.head,1)))"
   ]
  },
  {
   "cell_type": "code",
   "execution_count": 4,
   "metadata": {},
   "outputs": [
    {
     "name": "stdout",
     "output_type": "stream",
     "text": [
      "The flow required to obtain 11515 kW with a head of 20.0 ft is 8000.0 cfs\n"
     ]
    }
   ],
   "source": [
    "# 1.3) Calculate flow from a given head and power\n",
    "\n",
    "flow = None # given flow, in cfs\n",
    "head = 20 # head, in ft\n",
    "power = 11515\n",
    "\n",
    "hp = calculate_hp_potential(flow= flow, head= head, rated_power= power)\n",
    "print(\"The flow required to obtain {} kW with a head of {} ft is {} cfs\".format(hp.rated_power, hp.head, round(hp.flow, 0)))"
   ]
  },
  {
   "attachments": {},
   "cell_type": "markdown",
   "metadata": {},
   "source": [
    "### Example 2. Diversion:\n",
    "\n",
    "A diversion, sometimes called a “run-of-river” facility, channels a portion of a river through a canal and/or a penstock to utilize the natural decline of the river bed elevation to produce energy. A penstock is a closed conduit that channels the flow of water to turbines with water flow regulated by gates, valves, and turbines. A diversion may not require the use of a dam. Check [DOE - Types of Hydropower Plant](https://www.energy.gov/eere/water/types-hydropower-plants#:~:text=There%20are%20three%20types%20of,renewable%20energy%20to%20the%20grid.) for additional infomration. \n",
    "\n",
    "In diversion projects, HydroGenerate focuses on calculating hydropwoer under diffrent configurations."
   ]
  },
  {
   "cell_type": "code",
   "execution_count": 5,
   "metadata": {},
   "outputs": [
    {
     "name": "stdout",
     "output_type": "stream",
     "text": [
      "Design flow (cfs): 8000.0\n",
      "Head_loss at design flow (ft): 1.99\n",
      "Turbine type: Kaplan\n",
      "Rated Power (kW): 10894.27\n",
      "Net head (ft): 18.01\n",
      "Generator Efficiency: 0.98\n",
      "Head Loss method: Darcy-Weisbach\n",
      "Penstock length (ft): 50.0\n",
      "Penstock diameter (ft): 53.93\n",
      "Runner diameter (ft): 5.33\n",
      "\n",
      "Flow range evaluated (cfs): [4000.  4235.3 4470.6 4705.9 4941.2 5176.5 5411.8 5647.1 5882.4 6117.6\n",
      " 6352.9 6588.2 6823.5 7058.8 7294.1 7529.4 7764.7 8000. ]\n",
      "Turbine Efficiency for the given flow range: [0.907 0.909 0.91  0.911 0.911 0.911 0.911 0.911 0.911 0.911 0.911 0.911\n",
      " 0.911 0.911 0.911 0.91  0.909 0.907]\n",
      "Power (Kw) for the given flow range: [ 5869.1  6211.   6543.2  6867.9  7186.8  7500.7  7810.2  8115.4  8416.1\n",
      "  8712.2  9003.6  9289.9  9571.   9846.2 10114.1 10372.5 10617.3 10842. ]\n"
     ]
    }
   ],
   "source": [
    "# 2.1) Head, power, and lenght of penstock are known. FLow is a single value.\n",
    "# In this scenario HydroGenerate will select a turbine, compute effieincy for the given flow\n",
    "# and values within 0.6 to 1.2 the given flow, penstock diameter (assuming steel if no material is given),\n",
    "# head loss for all flows, rater power,\n",
    "# power a given range of flow, \n",
    "\n",
    "flow = 8000 # cfs\n",
    "head = 20 # ft\n",
    "power = None\n",
    "penstock_length = 50 # ft\n",
    "hp_type = 'Diversion'\n",
    "\n",
    "hp = calculate_hp_potential(flow= flow, rated_power= power, head= head,\n",
    "                           hydropower_type= hp_type, penstock_length= penstock_length)\n",
    "\n",
    "# Explore output\n",
    "print('Design flow (cfs):', hp.design_flow)\n",
    "print('Head_loss at design flow (ft):', round(hp.design_headloss, 2))\n",
    "print('Turbine type:', hp.turbine_type)\n",
    "print('Rated Power (kW):', round(hp.rated_power, 2))\n",
    "print('Net head (ft):', round(hp.net_head, 2))\n",
    "print('Generator Efficiency:',hp.generator_efficiency)\n",
    "print('Head Loss method:',hp.headloss_method)\n",
    "print('Penstock length (ft):', hp.penstock_length)\n",
    "print('Penstock diameter (ft):', round(hp.penstock_diameter,2))\n",
    "print('Runner diameter (ft):', round(hp.runner_diameter,2))\n",
    "\n",
    "print('\\nFlow range evaluated (cfs):', np.round(hp.flow, 1))\n",
    "print('Turbine Efficiency for the given flow range:', np.round(hp.effi_cal,3))\n",
    "print('Power (Kw) for the given flow range:', np.round(hp.power,1))\n"
   ]
  },
  {
   "cell_type": "code",
   "execution_count": 6,
   "metadata": {},
   "outputs": [
    {
     "name": "stdout",
     "output_type": "stream",
     "text": [
      "Design flow (cfs): 8000.0\n",
      "Head_loss at design flow (ft): 2.0\n",
      "Turbine type: Kaplan\n",
      "Rated Power (Kw): 10885.57\n",
      "Net head (ft): 18.0\n",
      "Generator Efficiency: 0.98\n",
      "Head Loss method: Hazen-Williams\n",
      "Penstock length (ft): 50.0\n",
      "Penstock diameter (ft): 40.16\n",
      "Runner diameter (ft): 5.33\n",
      "\n",
      "Flow range evaluated (cfs): [4000.  4235.3 4470.6 4705.9 4941.2 5176.5 5411.8 5647.1 5882.4 6117.6\n",
      " 6352.9 6588.2 6823.5 7058.8 7294.1 7529.4 7764.7 8000. ]\n",
      "Turbine Efficiency for the given flow range: [0.907 0.909 0.91  0.911 0.911 0.911 0.911 0.911 0.911 0.911 0.911 0.911\n",
      " 0.911 0.911 0.911 0.91  0.909 0.907]\n",
      "Power (kW) for the given flow range: [ 5851.8  6192.   6522.7  6846.   7163.7  7476.6  7785.2  8089.8  8390.2\n",
      "  8686.4  8978.2  9265.4  9547.8  9824.7 10094.9 10356.2 10604.5 10833.3]\n"
     ]
    }
   ],
   "source": [
    "# 2.2) Exploring additional options:\n",
    "#  Using Hazen-Williams for head loss calculation\n",
    "flow = 8000 # cfs\n",
    "head = 20 # ft\n",
    "power = None\n",
    "penstock_length = 50 # ft\n",
    "hp_type = 'Diversion'\n",
    "headloss_method= \"Hazen-Williams\"\n",
    "\n",
    "hp = calculate_hp_potential(flow= flow, rated_power= power, head= head,\n",
    "                           hydropower_type= hp_type, penstock_length= penstock_length,\n",
    "                           headloss_method= headloss_method)\n",
    "\n",
    "\n",
    "\n",
    "# Explore output\n",
    "print('Design flow (cfs):', hp.design_flow)\n",
    "print('Head_loss at design flow (ft):', round(hp.design_headloss, 2))\n",
    "print('Turbine type:', hp.turbine_type)\n",
    "print('Rated Power (Kw):', round(hp.rated_power, 2))\n",
    "print('Net head (ft):', round(hp.net_head, 2))\n",
    "print('Generator Efficiency:',hp.generator_efficiency)\n",
    "print('Head Loss method:',hp.headloss_method)\n",
    "print('Penstock length (ft):', hp.penstock_length)\n",
    "print('Penstock diameter (ft):', round(hp.penstock_diameter,2))\n",
    "print('Runner diameter (ft):', round(hp.runner_diameter,2))\n",
    "\n",
    "print('\\nFlow range evaluated (cfs):', np.round(hp.flow, 1))\n",
    "print('Turbine Efficiency for the given flow range:', np.round(hp.effi_cal,3))\n",
    "print('Power (kW) for the given flow range:', np.round(hp.power,1))"
   ]
  },
  {
   "cell_type": "code",
   "execution_count": 7,
   "metadata": {},
   "outputs": [
    {
     "name": "stdout",
     "output_type": "stream",
     "text": [
      "Design flow (cfs): 8000.0\n",
      "Head_loss at design flow (ft): 2.0\n",
      "Turbine type: Kaplan\n",
      "Rated Power (Kw): 10885.57\n",
      "Net head (ft): 18.0\n",
      "Generator Efficiency: 0.98\n",
      "Head Loss method: Hazen-Williams\n",
      "Penstock length (ft): 50.0\n",
      "Penstock diameter (ft): 41.87\n",
      "Runner diameter (ft): 5.33\n",
      "\n",
      "Flow range evaluated (cfs): [4000.  4235.3 4470.6 4705.9 4941.2 5176.5 5411.8 5647.1 5882.4 6117.6\n",
      " 6352.9 6588.2 6823.5 7058.8 7294.1 7529.4 7764.7 8000. ]\n",
      "Turbine Efficiency for the given flow range: [0.907 0.909 0.91  0.911 0.911 0.911 0.911 0.911 0.911 0.911 0.911 0.911\n",
      " 0.911 0.911 0.911 0.91  0.909 0.907]\n",
      "Power (kW) for the given flow range: [ 5851.8  6192.   6522.7  6846.   7163.7  7476.6  7785.2  8089.8  8390.2\n",
      "  8686.4  8978.2  9265.4  9547.8  9824.7 10094.9 10356.2 10604.5 10833.3]\n"
     ]
    }
   ],
   "source": [
    "# 2.3) Exploring additional options:\n",
    "# Using Hazen-Williams for head loss calculation and \n",
    "# a concrete penstock\n",
    "\n",
    "# 1.1) Exploring additional options:\n",
    "#  Selecting a diffrent material for the penstock\n",
    "flow = 8000 # cfs\n",
    "head = 20 # ft\n",
    "power = None\n",
    "penstock_length = 50 # ft\n",
    "hp_type = 'Diversion'\n",
    "headloss_method= \"Hazen-Williams\"\n",
    "penstock_material = 'Concrete'\n",
    "\n",
    "hp = calculate_hp_potential(flow= flow, rated_power= power, head= head,\n",
    "                           hydropower_type= hp_type, penstock_length= penstock_length,\n",
    "                           headloss_method= headloss_method, penstock_material= penstock_material)\n",
    "\n",
    "# Explore output\n",
    "print('Design flow (cfs):', hp.design_flow)\n",
    "print('Head_loss at design flow (ft):', round(hp.design_headloss, 2))\n",
    "print('Turbine type:', hp.turbine_type)\n",
    "print('Rated Power (Kw):', round(hp.rated_power, 2))\n",
    "print('Net head (ft):', round(hp.net_head, 2))\n",
    "print('Generator Efficiency:',hp.generator_efficiency)\n",
    "print('Head Loss method:',hp.headloss_method)\n",
    "print('Penstock length (ft):', hp.penstock_length)\n",
    "print('Penstock diameter (ft):', round(hp.penstock_diameter,2))\n",
    "print('Runner diameter (ft):', round(hp.runner_diameter,2))\n",
    "\n",
    "print('\\nFlow range evaluated (cfs):', np.round(hp.flow, 1))\n",
    "print('Turbine Efficiency for the given flow range:', np.round(hp.effi_cal,3))\n",
    "print('Power (kW) for the given flow range:', np.round(hp.power,1))"
   ]
  },
  {
   "cell_type": "code",
   "execution_count": 8,
   "metadata": {},
   "outputs": [
    {
     "name": "stdout",
     "output_type": "stream",
     "text": [
      "Design flow (cfs): 8000.0\n",
      "Head_loss at design flow (ft): 2.0\n",
      "Turbine type: Kaplan\n",
      "Rated Power (Kw): 10885.57\n",
      "Net head (ft): 18.0\n",
      "Generator Efficiency: 0.98\n",
      "Head Loss method: Hazen-Williams\n",
      "Penstock length (ft): 50.0\n",
      "Penstock diameter (ft): 46.26\n",
      "Runner diameter (ft): 5.33\n",
      "\n",
      "Flow range evaluated (cfs): [4000.  4235.3 4470.6 4705.9 4941.2 5176.5 5411.8 5647.1 5882.4 6117.6\n",
      " 6352.9 6588.2 6823.5 7058.8 7294.1 7529.4 7764.7 8000. ]\n",
      "Turbine Efficiency for the given flow range: [0.907 0.909 0.91  0.911 0.911 0.911 0.911 0.911 0.911 0.911 0.911 0.911\n",
      " 0.911 0.911 0.911 0.91  0.909 0.907]\n",
      "Power (kW) for the given flow range: [ 5851.8  6192.   6522.7  6846.   7163.7  7476.6  7785.2  8089.8  8390.2\n",
      "  8686.4  8978.2  9265.4  9547.8  9824.7 10094.9 10356.2 10604.5 10833.3]\n"
     ]
    }
   ],
   "source": [
    "# 2.4) Exploring additional options:\n",
    "#  Using Hazen-Williams for head loss calculation and\n",
    "# using a diffrent C value\n",
    "# Note: editing hydraulic_processing.py allows for entering materials that can be called by name.\n",
    "\n",
    "flow = 8000 # cfs\n",
    "head = 20 # ft\n",
    "power = None\n",
    "penstock_length = 50 # ft\n",
    "hp_type = 'Diversion'\n",
    "headloss_method= \"Hazen-Williams\"\n",
    "C = 100 # Hazen_williamns C\n",
    "\n",
    "hp = calculate_hp_potential(flow= flow, rated_power= power, head= head,\n",
    "                           hydropower_type= hp_type, penstock_length= penstock_length,\n",
    "                           headloss_method= headloss_method, frictionfactor= C)\n",
    "\n",
    "# Explore output\n",
    "print('Design flow (cfs):', hp.design_flow)\n",
    "print('Head_loss at design flow (ft):', round(hp.design_headloss, 2))\n",
    "print('Turbine type:', hp.turbine_type)\n",
    "print('Rated Power (Kw):', round(hp.rated_power, 2))\n",
    "print('Net head (ft):', round(hp.net_head, 2))\n",
    "print('Generator Efficiency:',hp.generator_efficiency)\n",
    "print('Head Loss method:',hp.headloss_method)\n",
    "print('Penstock length (ft):', hp.penstock_length)\n",
    "print('Penstock diameter (ft):', round(hp.penstock_diameter,2))\n",
    "print('Runner diameter (ft):', round(hp.runner_diameter,2))\n",
    "\n",
    "print('\\nFlow range evaluated (cfs):', np.round(hp.flow, 1))\n",
    "print('Turbine Efficiency for the given flow range:', np.round(hp.effi_cal,3))\n",
    "print('Power (kW) for the given flow range:', np.round(hp.power,1))"
   ]
  },
  {
   "cell_type": "code",
   "execution_count": 9,
   "metadata": {},
   "outputs": [
    {
     "name": "stdout",
     "output_type": "stream",
     "text": [
      "Design flow (cfs): 10800.0\n",
      "Head_loss at design flow (ft): 1.88\n",
      "Turbine type: Kaplan\n",
      "Rated Power (Kw): 14828.83\n",
      "Net head (ft): 18.12\n",
      "Generator Efficiency: 0.98\n",
      "Head Loss method: Darcy-Weisbach\n",
      "Penstock length (ft): 50.0\n",
      "Penstock diameter (ft): 61.46\n",
      "Runner diameter (ft): 6.14\n",
      "\n",
      "Flow range evaluated (cfs): [3260. 3270. 3250. ... 3170. 3100. 3150.]\n",
      "Turbine Efficiency for the given flow range: [0.768 0.77  0.766 ... 0.751 0.736 0.747]\n",
      "Power (kW) for the given flow range: [4118.3 4140.3 4096.2 ... 3917.7 3759.3 3872.7]\n"
     ]
    }
   ],
   "source": [
    "# 2.5) Head, power, and lenght of penstock are known. Multiple values of flow are available, the design flow is not known.\n",
    "# In this scenario HydroGenerate will select a turbine, compute effieincy for the given flow values,\n",
    "# design flow based on a percent of exceedance, penstock diameter (assuming steel if no material is given),\n",
    "# head loss for all flows, rater power,\n",
    "# power a given range of flow, \n",
    "\n",
    "flow = pd.read_csv('data_test.csv')['discharge_cfs'].to_numpy() # cfs\n",
    "head = 20 # ft\n",
    "power = None\n",
    "penstock_length = 50 # ft\n",
    "hp_type = 'Diversion'\n",
    "pctime_runfull= 20 # percent of time the turbine is running full - default is 80%\n",
    "\n",
    "# Note: decreasing the percent of time the turbine will run full will result in a \n",
    "# larger system (rated power and cost)\n",
    "\n",
    "hp = calculate_hp_potential(flow= flow, rated_power= power, head= head,\n",
    "                           hydropower_type= hp_type, penstock_length= penstock_length,\n",
    "                           pctime_runfull= pctime_runfull)\n",
    "\n",
    "# Explore output\n",
    "print('Design flow (cfs):', hp.design_flow)\n",
    "print('Head_loss at design flow (ft):', round(hp.design_headloss, 2))\n",
    "print('Turbine type:', hp.turbine_type)\n",
    "print('Rated Power (Kw):', round(hp.rated_power, 2))\n",
    "print('Net head (ft):', round(hp.net_head, 2))\n",
    "print('Generator Efficiency:',hp.generator_efficiency)\n",
    "print('Head Loss method:',hp.headloss_method)\n",
    "print('Penstock length (ft):', hp.penstock_length)\n",
    "print('Penstock diameter (ft):', round(hp.penstock_diameter,2))\n",
    "print('Runner diameter (ft):', round(hp.runner_diameter,2))\n",
    "\n",
    "print('\\nFlow range evaluated (cfs):', np.round(hp.flow, 1))\n",
    "print('Turbine Efficiency for the given flow range:', np.round(hp.effi_cal,3))\n",
    "print('Power (kW) for the given flow range:', np.round(hp.power,1))"
   ]
  },
  {
   "attachments": {},
   "cell_type": "markdown",
   "metadata": {},
   "source": [
    "### Pandas dataframe flow"
   ]
  },
  {
   "cell_type": "code",
   "execution_count": 13,
   "metadata": {},
   "outputs": [
    {
     "name": "stdout",
     "output_type": "stream",
     "text": [
      "Design flow (cfs): 12900.0\n",
      "Head_loss at design flow (ft): 1.91\n",
      "Turbine type: Kaplan\n",
      "Rated Power (Kw): 17706.39\n",
      "Net head (ft): 18.09\n",
      "Generator Efficiency: 0.98\n",
      "Head Loss method: Darcy-Weisbach\n",
      "Penstock length (ft): 50.0\n",
      "Penstock diameter (ft): 65.77\n",
      "Runner diameter (ft): 6.68\n",
      "\n",
      "Resource Category: CanalConduit\n",
      "Initial Capital Cost (M$): 71.4\n",
      "Annual Operation and Maintennance (M$): 1.1\n",
      "\n",
      "Pandas dataframe output: \n",
      "                            discharge_cfs   site_id     power_kW  turbine_flow_cfs  efficiency  energy_kWh\n",
      "dateTime                                                                                                 \n",
      "2010-01-01 08:00:00+00:00         3260.0  11370500  3455.286639            3260.0    0.642605         NaN\n",
      "2010-01-01 08:15:00+00:00         3270.0  11370500  3479.422419            3270.0    0.645140  869.855605\n",
      "2010-01-01 08:30:00+00:00         3250.0  11370500  3431.125931            3250.0    0.640051  857.781483\n",
      "2010-01-01 08:45:00+00:00         3270.0  11370500  3479.422419            3270.0    0.645140  869.855605\n",
      "2010-01-01 09:00:00+00:00         3270.0  11370500  3479.422419            3270.0    0.645140  869.855605\n",
      "...                                  ...       ...          ...               ...         ...         ...\n",
      "2021-01-01 06:45:00+00:00         3100.0  11370500  3065.957170            3100.0    0.599276  766.489292\n",
      "2021-01-01 07:00:00+00:00         3190.0  11370500  3285.656720            3190.0    0.624304  821.414180\n",
      "2021-01-01 07:15:00+00:00         3170.0  11370500  3236.982882            3170.0    0.618890  809.245721\n",
      "2021-01-01 07:30:00+00:00         3100.0  11370500  3065.957170            3100.0    0.599276  766.489292\n",
      "2021-01-01 07:45:00+00:00         3150.0  11370500  3188.221780            3150.0    0.613393  797.055445\n",
      "\n",
      "[385416 rows x 6 columns]\n",
      "Annual output: \n",
      "           annual_turbinedvolume_ft3  mean_annual_effienciency  total_annual_energy_KWh  revenue_M$  capacity_factor\n",
      "dateTime                                                                                                           \n",
      "2010                   7.258301e+06                  0.843395             8.866354e+07    4.433177         0.571625\n",
      "2011                   8.670737e+06                  0.895833             1.079383e+08    5.396914         0.695891\n",
      "2012                   7.181477e+06                  0.861128             8.854352e+07    4.427176         0.570851\n",
      "2013                   7.559344e+06                  0.866330             9.272245e+07    4.636123         0.597793\n",
      "2014                   5.698811e+06                  0.811126             6.874452e+07    3.437226         0.443204\n",
      "2015                   5.444864e+06                  0.813694             6.634125e+07    3.317062         0.427710\n",
      "2016                   6.771448e+06                  0.853932             8.397756e+07    4.198878         0.541413\n",
      "2017                   9.669997e+06                  0.907215             1.205232e+08    6.026160         0.777027\n",
      "2018                   6.705552e+06                  0.823287             8.100242e+07    4.050121         0.522232\n",
      "2019                   8.110812e+06                  0.870659             1.002366e+08    5.011828         0.646237\n",
      "2020                   7.234492e+06                  0.872355             8.988129e+07    4.494065         0.579475\n",
      "2021                   2.825733e+03                  0.604431             2.488797e+04    0.001244         0.000160\n"
     ]
    }
   ],
   "source": [
    "# 2.6) Using flow as a pandas dataframe and adding annual energy calculation\n",
    "\n",
    "# Note: When using a pandas dataframe as flow data, please set the datetime index before \n",
    "# using HydroGenerate.  (https://pandas.pydata.org/docs/reference/api/pandas.DatetimeIndex.html)\n",
    "\n",
    "flow = pd.read_csv('data_test.csv') # pandas data frame\n",
    "flow['dateTime'] = pd.to_datetime(flow['dateTime']) # preprocessing convert to datetime\n",
    "flow = flow.set_index('dateTime') # set datetime index # flolw is in cfs\n",
    "\n",
    "head = 20 # ft\n",
    "power = None\n",
    "penstock_length = 50 # ft\n",
    "hp_type = 'Diversion' \n",
    "\n",
    "hp = calculate_hp_potential(flow= flow, rated_power= power, head= head,\n",
    "                            # turbine_type='Francis',\n",
    "                            pctime_runfull = 50,\n",
    "                            # n_trub = 2,\n",
    "                            design_flow= None,\n",
    "                            electricity_sell_price = 0.05,\n",
    "                            resource_category= 'CanalConduit',\n",
    "                            hydropower_type= hp_type, penstock_length= penstock_length,\n",
    "                            flow_column= 'discharge_cfs', annual_caclulation= True)\n",
    "\n",
    "pd.set_option('display.max_columns', 10) # \n",
    "pd.set_option('display.width', 1000)\n",
    "\n",
    "# Explore output\n",
    "print('Design flow (cfs):', hp.design_flow)\n",
    "print('Head_loss at design flow (ft):', round(hp.design_headloss, 2))\n",
    "print('Turbine type:', hp.turbine_type)\n",
    "print('Rated Power (Kw):', round(hp.rated_power, 2))\n",
    "print('Net head (ft):', round(hp.net_head, 2))\n",
    "print('Generator Efficiency:',hp.generator_efficiency)\n",
    "print('Head Loss method:',hp.headloss_method)\n",
    "print('Penstock length (ft):', hp.penstock_length)\n",
    "print('Penstock diameter (ft):', round(hp.penstock_diameter,2))\n",
    "print('Runner diameter (ft):', round(hp.runner_diameter,2))\n",
    "\n",
    "print('\\nResource Category:', hp.resource_category)\n",
    "print('Initial Capital Cost (M$):', np.round(hp.icc,1))\n",
    "print('Annual Operation and Maintennance (M$):', np.round(hp.annual_om,1))\n",
    "\n",
    "print('\\nPandas dataframe output: \\n', hp.dataframe_output)\n",
    "print('Annual output: \\n', hp.annual_dataframe_output)"
   ]
  },
  {
   "cell_type": "code",
   "execution_count": 4,
   "metadata": {},
   "outputs": [
    {
     "name": "stderr",
     "output_type": "stream",
     "text": [
      "C:\\Users\\BASTC\\AppData\\Local\\Temp\\1\\ipykernel_42588\\3554683362.py:17: UserWarning: color is redundantly defined by the 'color' keyword argument and the fmt string \"b-\" (-> color='b'). The keyword argument will take precedence.\n",
      "  ax2.plot(df['power_kW'],'b-',label=\"Power\", color=color)\n"
     ]
    },
    {
     "data": {
      "image/png": "[encoded data removed]",
      "text/plain": [
       "<Figure size 640x480 with 2 Axes>"
      ]
     },
     "metadata": {},
     "output_type": "display_data"
    }
   ],
   "source": [
    "# Plot results\n",
    "# Columns:  discharge_cfs   site_id     power_kW  efficiency   energy_kWh\n",
    "\n",
    "df = hp.dataframe_output.copy()\n",
    "fig, ax1 = plt.subplots()\n",
    "\n",
    "\n",
    "color = 'tab:red'\n",
    "ax1.set_xlabel('Days')\n",
    "ax1.set_ylabel('Flow rate (cfs)', color=color)\n",
    "ax1.plot(df['turbine_flow_cfs'], label=\"Flow rate\", color=color)\n",
    "ax1.tick_params(axis='y', labelcolor=color)\n",
    "\n",
    "ax2 = ax1.twinx()  # instantiate a second axes that shares the same x-axis\n",
    "color = 'tab:blue'\n",
    "ax2.set_ylabel('Power (kW)', color=color)  # we already handled the x-label with ax1\n",
    "ax2.plot(df['power_kW'],'b-',label=\"Power\", color=color)\n",
    "ax2.tick_params(axis='y', labelcolor=color)\n",
    "ax1.grid(True, axis='both', color='k',linestyle='--',alpha=0.4)\n",
    "plt.title(\"Yearly flow data from USGS and potential power\")\n",
    "fig.tight_layout()  # otherwise the right y-label is slightly clipped\n",
    "#plt.savefig(os.path.join('..','fig','usgs_twin_falls_flow_power.jpg'))\n",
    "plt.show()"
   ]
  },
  {
   "cell_type": "code",
   "execution_count": 12,
   "metadata": {},
   "outputs": [
    {
     "name": "stdout",
     "output_type": "stream",
     "text": [
      "https://waterservices.usgs.gov/nwis/iv/?format=json&sites=05487520&startDT=2010-01-01&endDT=2020-12-30&parameterCd=00060&siteStatus=all\n",
      "Success with data retrieval from API\n"
     ]
    },
    {
     "data": {
      "text/html": [
       "<div>\n",
       "<style scoped>\n",
       "    .dataframe tbody tr th:only-of-type {\n",
       "        vertical-align: middle;\n",
       "    }\n",
       "\n",
       "    .dataframe tbody tr th {\n",
       "        vertical-align: top;\n",
       "    }\n",
       "\n",
       "    .dataframe thead th {\n",
       "        text-align: right;\n",
       "    }\n",
       "</style>\n",
       "<table border=\"1\" class=\"dataframe\">\n",
       "  <thead>\n",
       "    <tr style=\"text-align: right;\">\n",
       "      <th></th>\n",
       "      <th>discharge_cfs</th>\n",
       "      <th>qualifiers</th>\n",
       "      <th>site_name</th>\n",
       "      <th>site_id</th>\n",
       "      <th>lat</th>\n",
       "      <th>long</th>\n",
       "    </tr>\n",
       "    <tr>\n",
       "      <th>dateTime</th>\n",
       "      <th></th>\n",
       "      <th></th>\n",
       "      <th></th>\n",
       "      <th></th>\n",
       "      <th></th>\n",
       "      <th></th>\n",
       "    </tr>\n",
       "  </thead>\n",
       "  <tbody>\n",
       "    <tr>\n",
       "      <th>2010-03-21 05:00:00+00:00</th>\n",
       "      <td>48400.0</td>\n",
       "      <td>[A]</td>\n",
       "      <td>Des Moines River near Swan, IA</td>\n",
       "      <td>05487520</td>\n",
       "      <td>41.489389</td>\n",
       "      <td>-93.278222</td>\n",
       "    </tr>\n",
       "    <tr>\n",
       "      <th>2010-03-23 05:00:00+00:00</th>\n",
       "      <td>44900.0</td>\n",
       "      <td>[A]</td>\n",
       "      <td>Des Moines River near Swan, IA</td>\n",
       "      <td>05487520</td>\n",
       "      <td>41.489389</td>\n",
       "      <td>-93.278222</td>\n",
       "    </tr>\n",
       "    <tr>\n",
       "      <th>2010-03-23 05:30:00+00:00</th>\n",
       "      <td>44900.0</td>\n",
       "      <td>[A]</td>\n",
       "      <td>Des Moines River near Swan, IA</td>\n",
       "      <td>05487520</td>\n",
       "      <td>41.489389</td>\n",
       "      <td>-93.278222</td>\n",
       "    </tr>\n",
       "    <tr>\n",
       "      <th>2010-03-23 06:00:00+00:00</th>\n",
       "      <td>44800.0</td>\n",
       "      <td>[A]</td>\n",
       "      <td>Des Moines River near Swan, IA</td>\n",
       "      <td>05487520</td>\n",
       "      <td>41.489389</td>\n",
       "      <td>-93.278222</td>\n",
       "    </tr>\n",
       "    <tr>\n",
       "      <th>2010-03-23 06:30:00+00:00</th>\n",
       "      <td>44800.0</td>\n",
       "      <td>[A]</td>\n",
       "      <td>Des Moines River near Swan, IA</td>\n",
       "      <td>05487520</td>\n",
       "      <td>41.489389</td>\n",
       "      <td>-93.278222</td>\n",
       "    </tr>\n",
       "  </tbody>\n",
       "</table>\n",
       "</div>"
      ],
      "text/plain": [
       "                           discharge_cfs qualifiers                       site_name   site_id        lat       long\n",
       "dateTime                                                                                                           \n",
       "2010-03-21 05:00:00+00:00        48400.0        [A]  Des Moines River near Swan, IA  05487520  41.489389 -93.278222\n",
       "2010-03-23 05:00:00+00:00        44900.0        [A]  Des Moines River near Swan, IA  05487520  41.489389 -93.278222\n",
       "2010-03-23 05:30:00+00:00        44900.0        [A]  Des Moines River near Swan, IA  05487520  41.489389 -93.278222\n",
       "2010-03-23 06:00:00+00:00        44800.0        [A]  Des Moines River near Swan, IA  05487520  41.489389 -93.278222\n",
       "2010-03-23 06:30:00+00:00        44800.0        [A]  Des Moines River near Swan, IA  05487520  41.489389 -93.278222"
      ]
     },
     "execution_count": 12,
     "metadata": {},
     "output_type": "execute_result"
    }
   ],
   "source": [
    "# 2.7) Use streamflow data from a USGS stream gage. \n",
    "# HydroGenerate has functions to \n",
    "query = {}\n",
    "query['id'] = '05487520'\n",
    "query['start_date'] = '2010-01-01'\n",
    "query['end_date'] = '2020-12-30'\n",
    "\n",
    "# Call the get_data method. Note that the id_type has been set to 'sites'\n",
    "flow_info = get_data(query, id_type='sites', path='../data_test_1.csv')\n",
    "\n",
    "# Clean the data and make the date time column the index \n",
    "flow = clean_data(flow_info[0], column_change={'Streamflow, ft&#179;/s':'discharge_cfs'}, keep_nan=True, timestamp_col='dateTime', no_data=-999999)\n",
    "flow.head()"
   ]
  },
  {
   "cell_type": "code",
   "execution_count": 13,
   "metadata": {},
   "outputs": [
    {
     "name": "stdout",
     "output_type": "stream",
     "text": [
      "Design flow (cfs): 2780.0\n",
      "Head_loss at design flow (ft): 9.23\n",
      "Turbine type: Kaplan\n",
      "Rated Power (Kw): 20369.2\n",
      "Net head (ft): 94.77\n",
      "Generator Efficiency: 0.98\n",
      "Head Loss method: Darcy-Weisbach\n",
      "Penstock length (ft): 20.0\n",
      "Penstock diameter (ft): 21.64\n",
      "Runner diameter (ft): 3.23\n",
      "\n",
      "Pandas dataframe output: \n",
      "                            discharge_cfs qualifiers                       site_name   site_id        lat       long      power_kW  turbine_flow_cfs  efficiency     energy_kWh\n",
      "dateTime                                                                                                                                                                      \n",
      "2010-03-21 05:00:00+00:00        48400.0        [A]  Des Moines River near Swan, IA  05487520  41.489389 -93.278222  20271.402241            2780.0    0.927259            NaN\n",
      "2010-03-23 05:00:00+00:00        44900.0        [A]  Des Moines River near Swan, IA  05487520  41.489389 -93.278222  20271.402241            2780.0    0.927259  973027.307588\n",
      "2010-03-23 05:30:00+00:00        44900.0        [A]  Des Moines River near Swan, IA  05487520  41.489389 -93.278222  20271.402241            2780.0    0.927259   10135.701121\n",
      "2010-03-23 06:00:00+00:00        44800.0        [A]  Des Moines River near Swan, IA  05487520  41.489389 -93.278222  20271.402241            2780.0    0.927259   10135.701121\n",
      "2010-03-23 06:30:00+00:00        44800.0        [A]  Des Moines River near Swan, IA  05487520  41.489389 -93.278222  20271.402241            2780.0    0.927259   10135.701121\n",
      "...                                  ...        ...                             ...       ...        ...        ...           ...               ...         ...            ...\n",
      "2020-12-31 04:45:00+00:00          658.0     [A, e]  Des Moines River near Swan, IA  05487520  41.489389 -93.278222   3370.579628             658.0    0.596561     842.644907\n",
      "2020-12-31 05:00:00+00:00          658.0     [A, e]  Des Moines River near Swan, IA  05487520  41.489389 -93.278222   3370.579628             658.0    0.596561     842.644907\n",
      "2020-12-31 05:15:00+00:00          658.0     [A, e]  Des Moines River near Swan, IA  05487520  41.489389 -93.278222   3370.579628             658.0    0.596561     842.644907\n",
      "2020-12-31 05:30:00+00:00          658.0     [A, e]  Des Moines River near Swan, IA  05487520  41.489389 -93.278222   3370.579628             658.0    0.596561     842.644907\n",
      "2020-12-31 05:45:00+00:00          658.0     [A, e]  Des Moines River near Swan, IA  05487520  41.489389 -93.278222   3370.579628             658.0    0.596561     842.644907\n",
      "\n",
      "[265614 rows x 10 columns]\n",
      "Annual output: \n",
      "           annual_turbinedvolume_ft3  mean_annual_effienciency  total_annual_energy_KWh  revenue_M$  capacity_factor\n",
      "dateTime                                                                                                           \n",
      "2010                   1.245676e+06                  0.927259             1.260222e+08    1.398847         0.706267\n",
      "2011                   7.489779e+05                  0.865069             1.457808e+08    1.618167         0.817001\n",
      "2012                   6.879766e+05                  0.619257             7.023203e+07    0.779575         0.393602\n",
      "2013                   9.064081e+05                  0.872669             1.470631e+08    1.632400         0.824187\n",
      "2014                   1.605288e+06                  0.904303             2.045286e+08    2.270267         1.000000\n",
      "2015                   1.943198e+06                  0.927361             1.779571e+08    1.975324         0.997326\n",
      "2016                   2.076662e+06                  0.927334             1.778297e+08    1.973910         0.996612\n",
      "2017                   2.300819e+06                  0.920981             1.600820e+08    1.776910         0.897149\n",
      "2018                   2.553200e+06                  0.923967             1.663178e+08    1.846127         0.932096\n",
      "2019                   2.685253e+06                  0.927202             1.737495e+08    1.928620         0.973746\n",
      "2020                   1.813321e+06                  0.759610             1.247032e+08    1.384205         0.698875\n"
     ]
    }
   ],
   "source": [
    "# 2.6) Using USGS streamflow data.\n",
    "\n",
    "# The flow data for this example was created in the previous step. # cfs\n",
    "\n",
    "head = 104 # ft\n",
    "power = None\n",
    "penstock_length = 20 # ft\n",
    "hp_type = 'Diversion' \n",
    "\n",
    "hp = calculate_hp_potential(flow= flow, rated_power= power, head= head,\n",
    "                           hydropower_type= hp_type, penstock_length= penstock_length,\n",
    "                           flow_column= 'discharge_cfs', annual_caclulation= True)\n",
    "\n",
    "# Explore output\n",
    "print('Design flow (cfs):', hp.design_flow)\n",
    "print('Head_loss at design flow (ft):', round(hp.design_headloss, 2))\n",
    "print('Turbine type:', hp.turbine_type)\n",
    "print('Rated Power (Kw):', round(hp.rated_power, 2))\n",
    "print('Net head (ft):', round(hp.net_head, 2))\n",
    "print('Generator Efficiency:',hp.generator_efficiency)\n",
    "print('Head Loss method:',hp.headloss_method)\n",
    "print('Penstock length (ft):', hp.penstock_length)\n",
    "print('Penstock diameter (ft):', round(hp.penstock_diameter,2))\n",
    "print('Runner diameter (ft):', round(hp.runner_diameter,2))\n",
    "\n",
    "print('\\nPandas dataframe output: \\n', hp.dataframe_output)\n",
    "print('Annual output: \\n', hp.annual_dataframe_output)"
   ]
  },
  {
   "cell_type": "code",
   "execution_count": 14,
   "metadata": {},
   "outputs": [],
   "source": [
    "# Full list of parameters included in HydroGenerate calculation\n",
    "# dir(hp)"
   ]
  },
  {
   "attachments": {},
   "cell_type": "markdown",
   "metadata": {},
   "source": [
    "# Economic calculation"
   ]
  },
  {
   "cell_type": "code",
   "execution_count": 15,
   "metadata": {},
   "outputs": [
    {
     "name": "stdout",
     "output_type": "stream",
     "text": [
      "Design flow (cfs): 8000.0\n",
      "Head_loss at design flow (ft): 8.92\n",
      "Turbine type: Kaplan\n",
      "Rated Power (Kw): 56691.5\n",
      "Net head (ft): 91.08\n",
      "Generator Efficiency: 0.98\n",
      "Head Loss method: Darcy-Weisbach\n",
      "Penstock length (ft): 50.0\n",
      "Penstock diameter (ft): 39.93\n",
      "Runner diameter (ft): 5.33\n",
      "\n",
      "Resource Category: NewStream-reach\n",
      "Initial Capital Cost (M$): 200.2\n",
      "Annual Operation and Maintennance (M$): 2.0\n"
     ]
    }
   ],
   "source": [
    "# 3.1) Cost and Annual O&M as part of a project. Resource_category =  'Non-PoweredDam'\n",
    "flow = 8000 # cfs\n",
    "head = 100 # ft\n",
    "power = None\n",
    "\n",
    "hp = calculate_hp_potential(flow= flow, rated_power= power, head= head,\n",
    "                           hydropower_type= 'Diversion', penstock_length = 50,\n",
    "                           resource_category= 'NewStream-reach')\n",
    "\n",
    "# Explore output\n",
    "print('Design flow (cfs):', hp.design_flow)\n",
    "print('Head_loss at design flow (ft):', round(hp.design_headloss, 2))\n",
    "print('Turbine type:', hp.turbine_type)\n",
    "print('Rated Power (Kw):', round(hp.rated_power, 2))\n",
    "print('Net head (ft):', round(hp.net_head, 2))\n",
    "print('Generator Efficiency:',hp.generator_efficiency)\n",
    "print('Head Loss method:',hp.headloss_method)\n",
    "print('Penstock length (ft):', hp.penstock_length)\n",
    "print('Penstock diameter (ft):', round(hp.penstock_diameter,2))\n",
    "print('Runner diameter (ft):', round(hp.runner_diameter,2))\n",
    "\n",
    "print('\\nResource Category:', hp.resource_category)\n",
    "print('Initial Capital Cost (M$):', np.round(hp.icc,1))\n",
    "print('Annual Operation and Maintennance (M$):', np.round(hp.annual_om,1))"
   ]
  },
  {
   "cell_type": "code",
   "execution_count": 16,
   "metadata": {},
   "outputs": [
    {
     "name": "stdout",
     "output_type": "stream",
     "text": [
      "\n",
      "Resource Category: Non-PoweredDam\n",
      "Initial Capital Cost (M$): 102.3\n",
      "Annual Operation and Maintennance (M$): 1.2\n"
     ]
    }
   ],
   "source": [
    "# 3.2) resource_category: 'Non-PoweredDam'\n",
    "head = 104 # ft\n",
    "power = 20500 # kW\n",
    "\n",
    "hp = calculate_hp_potential(rated_power= power, head= head,\n",
    "                           hydropower_type= None, resource_category= 'Non-PoweredDam')\n",
    "\n",
    "print('\\nResource Category:', hp.resource_category)\n",
    "print('Initial Capital Cost (M$):', np.round(hp.icc,1))\n",
    "print('Annual Operation and Maintennance (M$):', np.round(hp.annual_om,1))"
   ]
  },
  {
   "cell_type": "code",
   "execution_count": 17,
   "metadata": {},
   "outputs": [
    {
     "name": "stdout",
     "output_type": "stream",
     "text": [
      "\n",
      "Resource Category: GeneratorRewind\n",
      "Initial Capital Cost (M$): 3.0\n",
      "Annual Operation and Maintennance (M$): 1.2\n"
     ]
    }
   ],
   "source": [
    "# 3.3 Rewinding a generator. resource_caterogy= 'GeneratorRewind')\n",
    "head = 104 # ft\n",
    "power = 20500 # kWred dev\n",
    "\n",
    "hp = calculate_hp_potential(rated_power= power, head= head,\n",
    "                           hydropower_type= None, resource_category= 'GeneratorRewind')\n",
    "\n",
    "print('\\nResource Category:', hp.resource_category)\n",
    "print('Initial Capital Cost (M$):', np.round(hp.icc,1))\n",
    "print('Annual Operation and Maintennance (M$):', np.round(hp.annual_om,1))"
   ]
  },
  {
   "cell_type": "code",
   "execution_count": 18,
   "metadata": {},
   "outputs": [
    {
     "name": "stdout",
     "output_type": "stream",
     "text": [
      "\n",
      "Resource Category: UnitAddition\n",
      "Initial Capital Cost (M$): 39.0\n",
      "Annual Operation and Maintennance (M$): 1.0\n"
     ]
    }
   ],
   "source": [
    "# Adding a new unit. resource_caterogy= 'UnitAddition')\n",
    "head = 104 # ft\n",
    "power = 20500 # kW\n",
    "\n",
    "hp = calculate_hp_potential(rated_power= power, head= head,\n",
    "                           hydropower_type= None, resource_category= 'UnitAddition')\n",
    "\n",
    "print('\\nResource Category:', hp.resource_category)\n",
    "print('Initial Capital Cost (M$):', np.round(hp.icc,1))\n",
    "print('Annual Operation and Maintennance (M$):', np.round(hp.annual_om,1))"
   ]
  },
  {
   "cell_type": "code",
   "execution_count": 19,
   "metadata": {},
   "outputs": [
    {
     "name": "stdout",
     "output_type": "stream",
     "text": [
      "Design flow (cfs): 8000.0\n",
      "Turbine type: Kaplan\n",
      "Rated Power (MW): 10.89\n",
      "Net head (ft): 18.01\n",
      "Generator Efficiency: 0.98\n",
      "Head Loss method: Darcy-Weisbach\n",
      "Runner diameter (ft): 5.33\n",
      "\n",
      "Annual energy generated (MwH): 37203.0\n",
      "Number of days a year the plant operates: 182.5\n",
      "Annual revenue (M$): 0.4\n"
     ]
    }
   ],
   "source": [
    "# Annual energy generated and revenue\n",
    "flow = 8000 # cfs\n",
    "head = 20 # ft\n",
    "\n",
    "hp = calculate_hp_potential(flow= flow, head= head, penstock_length= 50, \n",
    "                           hydropower_type= 'Diversion', # head_loss_calculation= False,\n",
    "                           annual_caclulation= True, capacity_factor= 0.5)\n",
    "\n",
    "\n",
    "# Explore output\n",
    "print('Design flow (cfs):', hp.design_flow)\n",
    "print('Turbine type:', hp.turbine_type)\n",
    "print('Rated Power (MW):', round(hp.rated_power / 1000, 2))\n",
    "print('Net head (ft):', round(hp.net_head, 2))\n",
    "print('Generator Efficiency:',hp.generator_efficiency)\n",
    "print('Head Loss method:',hp.headloss_method)\n",
    "print('Runner diameter (ft):', round(hp.runner_diameter,2))\n",
    "\n",
    "\n",
    "print('\\nAnnual energy generated (MwH):', round(hp.annual_energy_generated / 1000, 0))\n",
    "print('Number of days a year the plant operates:', hp.n_operation_days)\n",
    "print('Annual revenue (M$):', round(hp.annual_revenue, 1))\n"
   ]
  },
  {
   "attachments": {},
   "cell_type": "markdown",
   "metadata": {},
   "source": [
    "# Hydrokinetics Calculations"
   ]
  },
  {
   "cell_type": "code",
   "execution_count": 20,
   "metadata": {},
   "outputs": [
    {
     "name": "stdout",
     "output_type": "stream",
     "text": [
      "Rated Power (kW): 0.46\n"
     ]
    }
   ],
   "source": [
    "V = 2  # average cross-section velovicty m/s\n",
    "\n",
    "hp = calculate_hp_potential(average_velocity = V,\n",
    "                           hydropower_type = 'Hydrokinetic', units = 'SI',\n",
    "                           hk_blade_type= 'ConventionalRotor')\n",
    "\n",
    "print('Rated Power (kW):', round(hp.rated_power, 2))"
   ]
  },
  {
   "cell_type": "code",
   "execution_count": 21,
   "metadata": {},
   "outputs": [
    {
     "name": "stdout",
     "output_type": "stream",
     "text": [
      "Rated Power (kW): 0.9\n"
     ]
    }
   ],
   "source": [
    "# HK\n",
    "V = 10 # average cross-section velovicty ft/s\n",
    "\n",
    "hp = calculate_hp_potential(average_velocity = V,\n",
    "                           hydropower_type = 'Hydrokinetic', units = 'US',\n",
    "                           hk_blade_type= 'H-DarrieusRotor')\n",
    "\n",
    "print('Rated Power (kW):', round(hp.rated_power, 2))"
   ]
  },
  {
   "cell_type": "code",
   "execution_count": 22,
   "metadata": {},
   "outputs": [
    {
     "name": "stdout",
     "output_type": "stream",
     "text": [
      "Rated Power (kW): 0.38\n"
     ]
    }
   ],
   "source": [
    "# HK\n",
    "V = 2 # average cross-section velovicty m/s\n",
    "\n",
    "hp = calculate_hp_potential(average_velocity = V,\n",
    "                           hydropower_type = 'Hydrokinetic', units = 'SI',\n",
    "                           hk_blade_type= 'DarrieusRotor')\n",
    "\n",
    "print('Rated Power (kW):', round(hp.rated_power, 2))"
   ]
  },
  {
   "cell_type": "code",
   "execution_count": 23,
   "metadata": {},
   "outputs": [
    {
     "name": "stdout",
     "output_type": "stream",
     "text": [
      "Rated Power (kW): 1.44\n"
     ]
    }
   ],
   "source": [
    "V = 2 # average cross-section velovicty m/s\n",
    "\n",
    "hp = calculate_hp_potential(average_velocity = V,\n",
    "                           hydropower_type = 'Hydrokinetic', units = 'SI',\n",
    "                           hk_blade_type= 'H-DarrieusRotor',\n",
    "                           hk_blade_diameter= 1.36,\n",
    "                           hk_blade_heigth = 1.8)\n",
    "\n",
    "# hk_blade_diameter= None, \n",
    "#                            hk_blade_heigth= None, \n",
    "#                            hk_blade_type= None, \n",
    "#                            hk_swept_area = None):\n",
    "\n",
    "print('Rated Power (kW):', round(hp.rated_power, 2))"
   ]
  }
 ],
 "metadata": {
  "kernelspec": {
   "display_name": "hat-env",
   "language": "python",
   "name": "python3"
  },
  "language_info": {
   "codemirror_mode": {
    "name": "ipython",
    "version": 3
   },
   "file_extension": ".py",
   "mimetype": "text/x-python",
   "name": "python",
   "nbconvert_exporter": "python",
   "pygments_lexer": "ipython3",
   "version": "3.9.13"
  },
  "orig_nbformat": 4
 },
 "nbformat": 4,
 "nbformat_minor": 2
}
