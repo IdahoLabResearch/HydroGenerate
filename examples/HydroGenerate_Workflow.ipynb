{
 "cells": [
  {
   "attachments": {},
   "cell_type": "markdown",
   "metadata": {},
   "source": [
    "# Introduction to HydroGenerate\n",
    "\n",
    "HydroGenerate is...\n",
    "\n",
    "This document shows a quick workflow for HydroGenerate functions."
   ]
  },
  {
   "cell_type": "code",
   "execution_count": 11,
   "metadata": {},
   "outputs": [
    {
     "name": "stdout",
     "output_type": "stream",
     "text": [
      "The autoreload extension is already loaded. To reload it, use:\n",
      "  %reload_ext autoreload\n"
     ]
    }
   ],
   "source": [
    "%load_ext autoreload\n",
    "%autoreload 2\n",
    "# Standard imports\n",
    "import pandas as pd\n",
    "import matplotlib.pyplot as plt\n",
    "import urllib3\n",
    "urllib3.disable_warnings()\n",
    "\n",
    "# Local imports\n",
    "from hat.api_call import *\n",
    "from hat.utils.hydropower_potential import *\n",
    "from hat.utils.PyGeoTools.geolocation import *"
   ]
  },
  {
   "attachments": {},
   "cell_type": "markdown",
   "metadata": {},
   "source": [
    "### Example 1. Basic Calculation:\n",
    "\n",
    "This section presents the workflow for basic hydropower calculations. Basic calculations compute power, head, or flow, given any combination of two parameters. Basic calculations are included for users who do not have data about their system, and it is intended to provide a general estimation only. "
   ]
  },
  {
   "cell_type": "code",
   "execution_count": 58,
   "metadata": {},
   "outputs": [
    {
     "name": "stdout",
     "output_type": "stream",
     "text": [
      "Hydropower potential is 11515.0 Kw\n"
     ]
    }
   ],
   "source": [
    "# 1.1) Calculate power from a given head and flow\n",
    "\n",
    "flow = 8000 # given flow, in cfs\n",
    "head = 20 # head, in ft\n",
    "power = None\n",
    "\n",
    "hp_results = calculate_hp_potential(flow= flow, head= head, rated_power= power)\n",
    "print(\"Hydropower potential is {} kW\".format(round(hp_results.rated_power, 0)))"
   ]
  },
  {
   "cell_type": "code",
   "execution_count": 13,
   "metadata": {},
   "outputs": [
    {
     "name": "stdout",
     "output_type": "stream",
     "text": [
      "The head required to obtain 11515 Kw with a flow of 8000.0 cfs is 20.0 ft\n"
     ]
    }
   ],
   "source": [
    "# 1.2) Calculate head from a given head and flow\n",
    "\n",
    "flow = 8000 # given flow, in cfs\n",
    "head = None # head, in ft\n",
    "power = 11515\n",
    "\n",
    "hp_results = calculate_hp_potential(flow= flow, head= head, rated_power= power)\n",
    "print(\"The head required to obtain {} kW with a flow of {} cfs is {} ft\".format(hp_results.rated_power, hp_results.flow, round(hp_results.head,1)))"
   ]
  },
  {
   "cell_type": "code",
   "execution_count": 14,
   "metadata": {},
   "outputs": [
    {
     "name": "stdout",
     "output_type": "stream",
     "text": [
      "The flow required to obtain 11515 Kw with a head of 20.0 ft is 8000.0 cfs\n"
     ]
    }
   ],
   "source": [
    "# 1.3) Calculate flow from a given head and power\n",
    "\n",
    "flow = None # given flow, in cfs\n",
    "head = 20 # head, in ft\n",
    "power = 11515\n",
    "\n",
    "hp_results = calculate_hp_potential(flow= flow, head= head, rated_power= power)\n",
    "print(\"The flow required to obtain {} kW with a head of {} ft is {} cfs\".format(hp_results.rated_power, hp_results.head, round(hp_results.flow, 0)))"
   ]
  },
  {
   "attachments": {},
   "cell_type": "markdown",
   "metadata": {},
   "source": [
    "### Example 2. Diversion:\n",
    "\n",
    "A diversion, sometimes called a “run-of-river” facility, channels a portion of a river through a canal and/or a penstock to utilize the natural decline of the river bed elevation to produce energy. A penstock is a closed conduit that channels the flow of water to turbines with water flow regulated by gates, valves, and turbines. A diversion may not require the use of a dam. Check [DOE - Types of Hydropower Plant](https://www.energy.gov/eere/water/types-hydropower-plants#:~:text=There%20are%20three%20types%20of,renewable%20energy%20to%20the%20grid.) for additional infomration. \n",
    "\n",
    "In diversion projects, HydroGenerate focuses on calculating hydropwoer under diffrent configurations."
   ]
  },
  {
   "cell_type": "code",
   "execution_count": 15,
   "metadata": {},
   "outputs": [
    {
     "name": "stdout",
     "output_type": "stream",
     "text": [
      "Design flow (cfs): 8000.0\n",
      "Head_loss at design flow (ft): 1.99\n",
      "Turbine type: Kaplan\n",
      "Rated Power (Kw): 10894.27\n",
      "Net head (ft): 18.01\n",
      "Generator Efficiency: 0.98\n",
      "Head Loss method: Darcy-Weisbach\n",
      "Penstock length (ft): 50.0\n",
      "Penstock diameter (ft): 16.44\n",
      "Runner diameter (ft): 5.33\n",
      "Flow range evaluated (cfs): [4800.  5082.4 5364.7 5647.1 5929.4 6211.8 6494.1 6776.5 7058.8 7341.2\n",
      " 7623.5 7905.9 8188.2 8470.6 8752.9 9035.3 9317.6 9600. ]\n",
      "Turbine Efficiency for the given flow range: [0.911 0.911 0.911 0.911 0.911 0.911 0.911 0.911 0.911 0.911 0.91  0.908\n",
      " 0.904 0.895 0.881 0.858 0.82  0.762]\n",
      "Power (Kw) for the given flow range: [ 6996.1  7375.7  7748.7  8115.4  8475.7  8829.3  9176.   9515.3  9846.2\n",
      " 10166.7 10472.4 10755.1 11000.7 11187.  11279.9 11230.5 10970.6 10407.8]\n"
     ]
    }
   ],
   "source": [
    "# 2.1) Head, power, and lenght of penstock are known. FLow is a single value.\n",
    "# In this scenario HydroGenerate will select a turbine, compute effieincy for the given flow\n",
    "# and values within 0.6 to 1.2 the given flow, penstock diameter (assuming steel if no material is given),\n",
    "# head loss for all flows, rater power,\n",
    "# power a given range of flow, \n",
    "\n",
    "flow = 8000\n",
    "head = 20\n",
    "power = None\n",
    "\n",
    "hp = calculate_hp_potential(flow= flow, rated_power= power, head= head,\n",
    "                           hydropower_type= 'Diversion', penstock_length = 50)\n",
    "\n",
    "# Explore output\n",
    "print('Design flow (cfs):', hp.design_flow)\n",
    "print('Head_loss at design flow (ft):', round(hp.design_headloss, 2))\n",
    "print('Turbine type:', hp.turbine_type)\n",
    "print('Rated Power (kW):', round(hp.rated_power, 2))\n",
    "print('Net head (ft):', round(hp.net_head, 2))\n",
    "print('Generator Efficiency:',hp.generator_efficiency)\n",
    "print('Head Loss method:',hp.headloss_method)\n",
    "print('Penstock length (ft):', hp.penstock_length)\n",
    "print('Penstock diameter (ft):', round(hp.penstock_diameter,2))\n",
    "print('Runner diameter (ft):', round(hp.runner_diameter,2))\n",
    "\n",
    "print('Flow range evaluated (cfs):', np.round(hp.flow, 1))\n",
    "print('Turbine Efficiency for the given flow range:', np.round(hp.effi_cal,3))\n",
    "print('Power (Kw) for the given flow range:', np.round(hp.power,1))\n"
   ]
  },
  {
   "cell_type": "code",
   "execution_count": 16,
   "metadata": {},
   "outputs": [
    {
     "data": {
      "text/plain": [
       "['Re',\n",
       " 'Rm',\n",
       " '__class__',\n",
       " '__delattr__',\n",
       " '__dict__',\n",
       " '__dir__',\n",
       " '__doc__',\n",
       " '__eq__',\n",
       " '__format__',\n",
       " '__ge__',\n",
       " '__getattribute__',\n",
       " '__gt__',\n",
       " '__hash__',\n",
       " '__init__',\n",
       " '__init_subclass__',\n",
       " '__le__',\n",
       " '__lt__',\n",
       " '__module__',\n",
       " '__ne__',\n",
       " '__new__',\n",
       " '__reduce__',\n",
       " '__reduce_ex__',\n",
       " '__repr__',\n",
       " '__setattr__',\n",
       " '__sizeof__',\n",
       " '__str__',\n",
       " '__subclasshook__',\n",
       " '__weakref__',\n",
       " 'design_diameter',\n",
       " 'design_efficiency',\n",
       " 'design_flow',\n",
       " 'design_headloss',\n",
       " 'designdiameter_calculator',\n",
       " 'effi_cal',\n",
       " 'flow',\n",
       " 'flow_column',\n",
       " 'generator_efficiency',\n",
       " 'h',\n",
       " 'head',\n",
       " 'head_loss',\n",
       " 'head_loss_calculation',\n",
       " 'headloss_method',\n",
       " 'max_headloss_allowed',\n",
       " 'net_head',\n",
       " 'pctime_runfull',\n",
       " 'pelton_n_jets',\n",
       " 'penstock_diameter',\n",
       " 'penstock_frictionfactor',\n",
       " 'penstock_length',\n",
       " 'penstock_material',\n",
       " 'pmax',\n",
       " 'pmin',\n",
       " 'power',\n",
       " 'rated_power',\n",
       " 'raw_power',\n",
       " 'reynoldsnumber_calculator',\n",
       " 'runner_diameter',\n",
       " 'system_efficiency',\n",
       " 'turb_cap',\n",
       " 'turbine_type']"
      ]
     },
     "execution_count": 16,
     "metadata": {},
     "output_type": "execute_result"
    }
   ],
   "source": [
    "# Full list of parameters in cluded in HydroGenerate calculation\n",
    "dir(hp)"
   ]
  },
  {
   "cell_type": "code",
   "execution_count": 66,
   "metadata": {},
   "outputs": [
    {
     "name": "stdout",
     "output_type": "stream",
     "text": [
      "Design flow (cfs): 8000.0\n",
      "Head_loss at design flow (ft): 2.0\n",
      "Turbine type: Kaplan\n",
      "Rated Power (Kw): 10885.57\n",
      "Net head (ft): 18.0\n",
      "Generator Efficiency: 0.98\n",
      "Head Loss method: Hazen-Williams\n",
      "Penstock length (ft): 50.0\n",
      "Penstock diameter (ft): 12.24\n",
      "Runner diameter (ft): 5.33\n",
      "Flow range evaluated (cfs): [4800.  5082.4 5364.7 5647.1 5929.4 6211.8 6494.1 6776.5 7058.8 7341.2\n",
      " 7623.5 7905.9 8188.2 8470.6 8752.9 9035.3 9317.6 9600. ]\n",
      "Turbine Efficiency for the given flow range: [0.911 0.911 0.911 0.911 0.911 0.911 0.911 0.911 0.911 0.911 0.91  0.908\n",
      " 0.904 0.895 0.881 0.858 0.82  0.762]\n",
      "Power (Kw) for the given flow range: [ 6973.7  7351.9  7723.8  8089.8  8449.8  8803.6  9151.1  9491.7  9824.7\n",
      " 10148.  10457.4 10744.6 10995.9 11188.7 11289.1 11248.  10996.6 10441.8]\n"
     ]
    }
   ],
   "source": [
    "# 2.1) Exploring additional options:\n",
    "#  Using Hazen-Williams for head loss calculation\n",
    "\n",
    "flow = 8000\n",
    "head = 20\n",
    "power = None\n",
    "\n",
    "hp = calculate_hp_potential(flow= flow, rated_power= power, head= head,\n",
    "                           hydropower_type= 'Diversion', penstock_length = 50,\n",
    "                           headloss_method= \"Hazen-Williams\")\n",
    "\n",
    "# Explore output\n",
    "print('Design flow (cfs):', hp.design_flow)\n",
    "print('Head_loss at design flow (ft):', round(hp.design_headloss, 2))\n",
    "print('Turbine type:', hp.turbine_type)\n",
    "print('Rated Power (Kw):', round(hp.rated_power, 2))\n",
    "print('Net head (ft):', round(hp.net_head, 2))\n",
    "print('Generator Efficiency:',hp.generator_efficiency)\n",
    "print('Head Loss method:',hp.headloss_method)\n",
    "print('Penstock length (ft):', hp.penstock_length)\n",
    "print('Penstock diameter (ft):', round(hp.penstock_diameter,2))\n",
    "print('Runner diameter (ft):', round(hp.runner_diameter,2))\n",
    "\n",
    "print('Flow range evaluated (cfs):', np.round(hp.flow, 1))\n",
    "print('Turbine Efficiency for the given flow range:', np.round(hp.effi_cal,3))\n",
    "print('Power (kW) for the given flow range:', np.round(hp.power,1))"
   ]
  },
  {
   "cell_type": "code",
   "execution_count": 67,
   "metadata": {},
   "outputs": [
    {
     "name": "stdout",
     "output_type": "stream",
     "text": [
      "Design flow (cfs): 8000.0\n",
      "Head_loss at design flow (ft): 2.0\n",
      "Turbine type: Kaplan\n",
      "Rated Power (Kw): 10885.57\n",
      "Net head (ft): 18.0\n",
      "Generator Efficiency: 0.98\n",
      "Head Loss method: Hazen-Williams\n",
      "Penstock length (ft): 50.0\n",
      "Penstock diameter (ft): 12.76\n",
      "Runner diameter (ft): 5.33\n",
      "Flow range evaluated (cfs): [4800.  5082.4 5364.7 5647.1 5929.4 6211.8 6494.1 6776.5 7058.8 7341.2\n",
      " 7623.5 7905.9 8188.2 8470.6 8752.9 9035.3 9317.6 9600. ]\n",
      "Turbine Efficiency for the given flow range: [0.911 0.911 0.911 0.911 0.911 0.911 0.911 0.911 0.911 0.911 0.91  0.908\n",
      " 0.904 0.895 0.881 0.858 0.82  0.762]\n",
      "Power (Kw) for the given flow range: [ 6973.7  7351.9  7723.8  8089.8  8449.8  8803.6  9151.1  9491.7  9824.7\n",
      " 10148.  10457.4 10744.6 10995.9 11188.7 11289.1 11248.  10996.6 10441.8]\n"
     ]
    }
   ],
   "source": [
    "# 2.1) Exploring additional options:\n",
    "#  Using Hazen-Williams for head loss calculation and \n",
    "# using a known C\n",
    "\n",
    "# 1.1) Exploring additional options:\n",
    "#  Selecting a diffrent material for the penstock\n",
    "\n",
    "flow = 8000\n",
    "head = 20\n",
    "power = None\n",
    "\n",
    "hp = calculate_hp_potential(flow= flow, rated_power= power, head= head,\n",
    "                           hydropower_type= 'Diversion', penstock_length = 50,\n",
    "                           headloss_method= 'Hazen-Williams', penstock_material= 'Concrete')\n",
    "\n",
    "# Explore output\n",
    "print('Design flow (cfs):', hp.design_flow)\n",
    "print('Head_loss at design flow (ft):', round(hp.design_headloss, 2))\n",
    "print('Turbine type:', hp.turbine_type)\n",
    "print('Rated Power (Kw):', round(hp.rated_power, 2))\n",
    "print('Net head (ft):', round(hp.net_head, 2))\n",
    "print('Generator Efficiency:',hp.generator_efficiency)\n",
    "print('Head Loss method:',hp.headloss_method)\n",
    "print('Penstock length (ft):', hp.penstock_length)\n",
    "print('Penstock diameter (ft):', round(hp.penstock_diameter,2))\n",
    "print('Runner diameter (ft):', round(hp.runner_diameter,2))\n",
    "\n",
    "print('Flow range evaluated (cfs):', np.round(hp.flow, 1))\n",
    "print('Turbine Efficiency for the given flow range:', np.round(hp.effi_cal,3))\n",
    "print('Power (kW) for the given flow range:', np.round(hp.power,1))"
   ]
  },
  {
   "cell_type": "code",
   "execution_count": 19,
   "metadata": {},
   "outputs": [
    {
     "name": "stdout",
     "output_type": "stream",
     "text": [
      "Design flow (cfs): 8000.0\n",
      "Head_loss at design flow (ft): 2.0\n",
      "Turbine type: Kaplan\n",
      "Rated Power (Kw): 10885.57\n",
      "Net head (ft): 18.0\n",
      "Generator Efficiency: 0.98\n",
      "Head Loss method: Hazen-Williams\n",
      "Penstock length (ft): 50.0\n",
      "Penstock diameter (ft): 14.1\n",
      "Runner diameter (ft): 5.33\n",
      "Flow range evaluated (cfs): [4800.  5082.4 5364.7 5647.1 5929.4 6211.8 6494.1 6776.5 7058.8 7341.2\n",
      " 7623.5 7905.9 8188.2 8470.6 8752.9 9035.3 9317.6 9600. ]\n",
      "Turbine Efficiency for the given flow range: [0.911 0.911 0.911 0.911 0.911 0.911 0.911 0.911 0.911 0.911 0.91  0.908\n",
      " 0.904 0.895 0.881 0.858 0.82  0.762]\n",
      "Power (Kw) for the given flow range: [ 6973.7  7351.9  7723.8  8089.8  8449.8  8803.6  9151.1  9491.7  9824.7\n",
      " 10148.  10457.4 10744.6 10995.9 11188.7 11289.1 11248.  10996.6 10441.8]\n"
     ]
    }
   ],
   "source": [
    "# 2.1) Exploring additional options:\n",
    "#  Using Hazen-Williams for head loss calculation and\n",
    "# using a diffrent C value\n",
    "# Note: editing hydraulic_processing.py allows for entering materials that can be called by name\n",
    "\n",
    "flow = 8000\n",
    "head = 20\n",
    "power = None\n",
    "C = 100 # Hazen_williamns C\n",
    "\n",
    "hp = calculate_hp_potential(flow= flow, rated_power= power, head= head,\n",
    "                           hydropower_type= 'Diversion', penstock_length = 50,\n",
    "                           headloss_method= 'Hazen-Williams', penstock_frictionfactor= C)\n",
    "\n",
    "# Explore output\n",
    "print('Design flow (cfs):', hp.design_flow)\n",
    "print('Head_loss at design flow (ft):', round(hp.design_headloss, 2))\n",
    "print('Turbine type:', hp.turbine_type)\n",
    "print('Rated Power (Kw):', round(hp.rated_power, 2))\n",
    "print('Net head (ft):', round(hp.net_head, 2))\n",
    "print('Generator Efficiency:',hp.generator_efficiency)\n",
    "print('Head Loss method:',hp.headloss_method)\n",
    "print('Penstock length (ft):', hp.penstock_length)\n",
    "print('Penstock diameter (ft):', round(hp.penstock_diameter,2))\n",
    "print('Runner diameter (ft):', round(hp.runner_diameter,2))\n",
    "\n",
    "print('Flow range evaluated (cfs):', np.round(hp.flow, 1))\n",
    "print('Turbine Efficiency for the given flow range:', np.round(hp.effi_cal,3))\n",
    "print('Power (kW) for the given flow range:', np.round(hp.power,1))"
   ]
  },
  {
   "cell_type": "code",
   "execution_count": 69,
   "metadata": {},
   "outputs": [
    {
     "name": "stdout",
     "output_type": "stream",
     "text": [
      "Design flow (cfs): 4120.0\n",
      "Head_loss at design flow (ft): 1.82\n",
      "Turbine type: Kaplan\n",
      "Rated Power (Kw): 5629.86\n",
      "Net head (ft): 18.18\n",
      "Generator Efficiency: 0.98\n",
      "Head Loss method: Darcy-Weisbach\n",
      "Penstock length (ft): 50.0\n",
      "Penstock diameter (ft): 12.83\n",
      "Runner diameter (ft): 3.89\n",
      "Flow range evaluated (cfs): [3260. 3270. 3250. ... 3170. 3100. 3150.]\n",
      "Turbine Efficiency for the given flow range: [0.906 0.906 0.906 ... 0.906 0.906 0.906]\n",
      "Power (Kw) for the given flow range: [4621.3 4633.8 4608.9 ... 4508.5 4419.9 4483.3]\n"
     ]
    }
   ],
   "source": [
    "# 2.2) Head, power, and lenght of penstock are known. FLow is a time series, the design flow is not known.\n",
    "# In this scenario HydroGenerate will select a turbine, compute effieincy for the given flow values,\n",
    "# design flow based on a percent of exceedance, penstock diameter (assuming steel if no material is given),\n",
    "# head loss for all flows, rater power,\n",
    "# power a given range of flow, \n",
    "\n",
    "flow = pd.read_csv('data_test.csv')['discharge_cfs'].to_numpy()\n",
    "head = 20\n",
    "power = None\n",
    "\n",
    "hp = calculate_hp_potential(flow= flow, rated_power= power, head= head,\n",
    "                           hydropower_type= 'Diversion', penstock_length = 50, pctime_runfull= 80)\n",
    "\n",
    "# Explore output\n",
    "print('Design flow (cfs):', hp.design_flow)\n",
    "print('Head_loss at design flow (ft):', round(hp.design_headloss, 2))\n",
    "print('Turbine type:', hp.turbine_type)\n",
    "print('Rated Power (Kw):', round(hp.rated_power, 2))\n",
    "print('Net head (ft):', round(hp.net_head, 2))\n",
    "print('Generator Efficiency:',hp.generator_efficiency)\n",
    "print('Head Loss method:',hp.headloss_method)\n",
    "print('Penstock length (ft):', hp.penstock_length)\n",
    "print('Penstock diameter (ft):', round(hp.penstock_diameter,2))\n",
    "print('Runner diameter (ft):', round(hp.runner_diameter,2))\n",
    "\n",
    "print('Flow range evaluated (cfs):', np.round(hp.flow, 1))\n",
    "print('Turbine Efficiency for the given flow range:', np.round(hp.effi_cal,3))\n",
    "print('Power (kW) for the given flow range:', np.round(hp.power,1))"
   ]
  },
  {
   "cell_type": "code",
   "execution_count": 21,
   "metadata": {},
   "outputs": [],
   "source": [
    "# 2.2) Head, power, and lenght of penstock are known. FLow is a time series entered as a pandas dataframe, \n",
    "# the design flow is not known. In this scenario HydroGenerate will select a turbine, compute effieincy for the given flow values,\n",
    "# design flow based on a percent of exceedance, penstock diameter (assuming steel if no material is given),\n",
    "# head loss for all flows, rater power,\n",
    "# power a given range of flow, \n",
    "\n",
    "flow = pd.read_csv('data_test.csv') # ['discharge_cfs'].to_numpy()\n",
    "head = 20\n",
    "power = None\n",
    "\n",
    "hp = calculate_hp_potential(flow= flow, rated_power= power, head= head,\n",
    "                           hydropower_type= 'Diversion', penstock_length = 50,\n",
    "                           flow_column= 'discharge_cfs')\n",
    "\n",
    "# # Explore output\n",
    "# print('Design flow (cfs):', hp.design_flow)\n",
    "# print('Head_loss at design flow (ft):', round(hp.design_headloss, 2))\n",
    "# print('Turbine type:', hp.turbine_type)\n",
    "# print('Rated Power (Kw):', round(hp.rated_power, 2))\n",
    "# print('Net head (ft):', round(hp.net_head, 2))\n",
    "# print('Generator Efficiency:',hp.generator_efficiency)\n",
    "# print('Head Loss method:',hp.headloss_method)\n",
    "# print('Penstock length (ft):', hp.penstock_length)\n",
    "# print('Penstock diameter (ft):', round(hp.penstock_diameter,2))\n",
    "# print('Runner diameter (ft):', round(hp.runner_diameter,2))\n",
    "\n",
    "# print('Flow range evaluated (cfs):', np.round(hp.flow, 1))\n",
    "# print('Turbine Efficiency for the given flow range:', np.round(hp.effi_cal,3))\n",
    "# print('Power (Kw) for the given flow range:', np.round(hp.power,1))"
   ]
  },
  {
   "cell_type": "code",
   "execution_count": 35,
   "metadata": {},
   "outputs": [
    {
     "name": "stdout",
     "output_type": "stream",
     "text": [
      "Design flow (cfs): 8000.0\n",
      "Head_loss at design flow (ft): 18.39\n",
      "Turbine type: Francis\n",
      "Rated Power (Kw): 113624.11\n",
      "Net head (ft): 181.61\n",
      "Generator Efficiency: 0.98\n",
      "Head Loss method: Darcy-Weisbach\n",
      "Penstock length (ft): 50.0\n",
      "Penstock diameter (ft): 10.53\n",
      "Runner diameter (ft): 5.33\n",
      "Flow range evaluated (cfs): [4800.  5082.4 5364.7 5647.1 5929.4 6211.8 6494.1 6776.5 7058.8 7341.2\n",
      " 7623.5 7905.9 8188.2 8470.6 8752.9 9035.3 9317.6 9600. ]\n",
      "Turbine Efficiency for the given flow range: [0.9   0.915 0.927 0.935 0.94  0.942 0.943 0.942 0.942 0.942 0.942 0.942\n",
      " 0.942 0.941 0.941 0.941 0.941 0.941]\n",
      "Power (Kw) for the given flow range: [ 69302.3  74343.3  79119.9  83612.1  87813.   91734.5  95421.1  98982.3\n",
      " 102469.4 105879.4 109209.5 112456.5 115617.5 118689.4 121669.4 124554.5\n",
      " 127341.6 130027.7]\n"
     ]
    }
   ],
   "source": [
    "# 2.1) Head, power, and lenght of penstock are known. FLow is a single value.\n",
    "# In this scenario HydroGenerate will select a turbine, compute effieincy for the given flow\n",
    "# and values within 0.6 to 1.2 the given flow, penstock diameter (assuming steel if no material is given),\n",
    "# head loss for all flows, rater power,\n",
    "# power a given range of flow, \n",
    "\n",
    "flow = 8000\n",
    "head = 200\n",
    "power = None\n",
    "\n",
    "hp = calculate_hp_potential(flow= flow, rated_power= power, head= head,\n",
    "                           hydropower_type= 'Diversion', penstock_length = 50)\n",
    "\n",
    "# Explore output\n",
    "print('Design flow (cfs):', hp.design_flow)\n",
    "print('Head_loss at design flow (ft):', round(hp.design_headloss, 2))\n",
    "print('Turbine type:', hp.turbine_type)\n",
    "print('Rated Power (Kw):', round(hp.rated_power, 2))\n",
    "print('Net head (ft):', round(hp.net_head, 2))\n",
    "print('Generator Efficiency:',hp.generator_efficiency)\n",
    "print('Head Loss method:',hp.headloss_method)\n",
    "print('Penstock length (ft):', hp.penstock_length)\n",
    "print('Penstock diameter (ft):', round(hp.penstock_diameter,2))\n",
    "print('Runner diameter (ft):', round(hp.runner_diameter,2))\n",
    "\n",
    "print('Flow range evaluated (cfs):', np.round(hp.flow, 1))\n",
    "print('Turbine Efficiency for the given flow range:', np.round(hp.effi_cal,3))\n",
    "print('Power (kW) for the given flow range:', np.round(hp.power,1))"
   ]
  },
  {
   "cell_type": "code",
   "execution_count": 81,
   "metadata": {},
   "outputs": [
    {
     "name": "stdout",
     "output_type": "stream",
     "text": [
      "Design flow (cfs): 8000.0\n",
      "Head_loss at design flow (ft): 191.03\n",
      "Turbine type: Pelton\n",
      "Rated Power (Kw): 970298.36\n",
      "Net head (ft): 1808.97\n",
      "Generator Efficiency: 0.98\n",
      "Head Loss method: Darcy-Weisbach\n",
      "Penstock length (ft): 50.0\n",
      "Penstock diameter (ft): 6.59\n",
      "Runner diameter (ft): 0.19\n",
      "Flow range evaluated (cfs): [4800.  5082.4 5364.7 5647.1 5929.4 6211.8 6494.1 6776.5 7058.8 7341.2\n",
      " 7623.5 7905.9 8188.2 8470.6 8752.9 9035.3 9317.6 9600. ]\n",
      "Turbine Efficiency for the given flow range: [0.808 0.808 0.808 0.808 0.808 0.808 0.808 0.808 0.807 0.806 0.804 0.8\n",
      " 0.791 0.776 0.751 0.711 0.648 0.553]\n",
      "Power (Kw) for the given flow range: [621525.5 655247.9 688483.6 721205.8 753387.  784995.6 815981.7 846243.2\n",
      " 875562.5 903502.2 929248.9 951392.8 967631.1 974383.3 966306.8 935702.6\n",
      " 871800.1 759914.9]\n"
     ]
    }
   ],
   "source": [
    "# 2.1) Head, power, and lenght of penstock are known. FLow is a single value.\n",
    "# In this scenario HydroGenerate will select a turbine, compute effieincy for the given flow\n",
    "# and values within 0.6 to 1.2 the given flow, penstock diameter (assuming steel if no material is given),\n",
    "# head loss for all flows, rater power,\n",
    "# power a given range of flow, \n",
    "\n",
    "flow = 8000\n",
    "head = 2000\n",
    "power = None\n",
    "\n",
    "hp = calculate_hp_potential(flow= flow, rated_power= power, head= head,\n",
    "                           hydropower_type= 'Diversion', penstock_length = 50)\n",
    "\n",
    "# Explore output\n",
    "print('Design flow (cfs):', hp.design_flow)\n",
    "print('Head_loss at design flow (ft):', round(hp.design_headloss, 2))\n",
    "print('Turbine type:', hp.turbine_type)\n",
    "print('Rated Power (Kw):', round(hp.rated_power, 2))\n",
    "print('Net head (ft):', round(hp.net_head, 2))\n",
    "print('Generator Efficiency:',hp.generator_efficiency)\n",
    "print('Head Loss method:',hp.headloss_method)\n",
    "print('Penstock length (ft):', hp.penstock_length)\n",
    "print('Penstock diameter (ft):', round(hp.penstock_diameter,2))\n",
    "print('Runner diameter (ft):', round(hp.runner_diameter,2))\n",
    "\n",
    "print('Flow range evaluated (cfs):', np.round(hp.flow, 1))\n",
    "print('Turbine Efficiency for the given flow range:', np.round(hp.effi_cal,3))\n",
    "print('Power (kW) for the given flow range:', np.round(hp.power,1))"
   ]
  },
  {
   "attachments": {},
   "cell_type": "markdown",
   "metadata": {},
   "source": [
    "# Hydrokinetics module"
   ]
  },
  {
   "cell_type": "code",
   "execution_count": 102,
   "metadata": {},
   "outputs": [
    {
     "name": "stdout",
     "output_type": "stream",
     "text": [
      "Rated Power (Kw): 0.46\n"
     ]
    }
   ],
   "source": [
    "V = 2\n",
    "\n",
    "hp = calculate_hp_potential(average_velocity = V,\n",
    "                           hydropower_type = 'Hydrokinetic', units = 'SI',\n",
    "                           hk_blade_type= 'ConventionalRotor')\n",
    "\n",
    "print('Rated Power (kW):', round(hp.rated_power, 2))"
   ]
  },
  {
   "cell_type": "code",
   "execution_count": 103,
   "metadata": {},
   "outputs": [
    {
     "name": "stdout",
     "output_type": "stream",
     "text": [
      "Rated Power (Kw): 0.59\n"
     ]
    }
   ],
   "source": [
    "V = 2\n",
    "\n",
    "hp = calculate_hp_potential(average_velocity = V,\n",
    "                           hydropower_type = 'Hydrokinetic', units = 'SI',\n",
    "                           hk_blade_type= 'H-DarrieusRotor')\n",
    "\n",
    "print('Rated Power (kW):', round(hp.rated_power, 2))"
   ]
  },
  {
   "cell_type": "code",
   "execution_count": 104,
   "metadata": {},
   "outputs": [
    {
     "name": "stdout",
     "output_type": "stream",
     "text": [
      "Rated Power (Kw): 0.38\n"
     ]
    }
   ],
   "source": [
    "V = 2\n",
    "\n",
    "hp = calculate_hp_potential(average_velocity = V,\n",
    "                           hydropower_type = 'Hydrokinetic', units = 'SI',\n",
    "                           hk_blade_type= 'DarrieusRotor')\n",
    "\n",
    "print('Rated Power (kW):', round(hp.rated_power, 2))"
   ]
  },
  {
   "cell_type": "code",
   "execution_count": 105,
   "metadata": {},
   "outputs": [
    {
     "name": "stdout",
     "output_type": "stream",
     "text": [
      "Rated Power (Kw): 2.89\n"
     ]
    }
   ],
   "source": [
    "V = 4\n",
    "\n",
    "hp = calculate_hp_potential(average_velocity = V,\n",
    "                           hydropower_type = 'Hydrokinetic', units = 'SI',\n",
    "                           hk_blade_type= 'H-DarrieusRotor',\n",
    "                           hk_blade_diameter= 1.36,\n",
    "                           hk_blade_heigth = 1.8)\n",
    "\n",
    "# hk_blade_diameter= None, \n",
    "#                            hk_blade_heigth= None, \n",
    "#                            hk_blade_type= None, \n",
    "#                            hk_swept_area = None):\n",
    "\n",
    "print('Rated Power (kW):', round(hp.rated_power, 2))"
   ]
  },
  {
   "cell_type": "code",
   "execution_count": null,
   "metadata": {},
   "outputs": [],
   "source": []
  },
  {
   "cell_type": "code",
   "execution_count": null,
   "metadata": {},
   "outputs": [],
   "source": []
  },
  {
   "attachments": {},
   "cell_type": "markdown",
   "metadata": {},
   "source": [
    "# Cost - Under Development"
   ]
  },
  {
   "cell_type": "code",
   "execution_count": 25,
   "metadata": {},
   "outputs": [],
   "source": [
    "from math import exp"
   ]
  },
  {
   "cell_type": "code",
   "execution_count": 45,
   "metadata": {},
   "outputs": [
    {
     "name": "stdout",
     "output_type": "stream",
     "text": [
      "The Initial Capital Cost for a Non-Powered Dam of 20 ft head, and 11.515 MW, is $60.8 M\n",
      "The Initial Capital Cost for a New Stream-reach Development of 20 ft head, and 11.515 MG, is $71.7 M\n",
      "The Initial Capital Cost for a Canal / Conduit project of 20 ft head, and 11.515 MW, is $49.9 M\n",
      "The Initial Capital Cost for a Non-Powered Dam, of 20 ft head, and 11.515 MW is $34.5 M\n",
      "The Initial Capital Cost for a Non-Powered Dam, of 20 ft head, and 11.515 Mw is $55.7 M\n",
      "The Initial Capital Cost for a Unit Addition Project generating 11.515 MW is $25461313.8 M\n",
      "The Annual Operation and Maintennance Cost for a hydropower facility generating 11.515 MW is $0.8 M\n"
     ]
    }
   ],
   "source": [
    "\n",
    "H = 20 # head, in ft\n",
    "P = 11515/1000\n",
    "\n",
    "ICC_NPD = 11489245 * P**0.976 * 𝐻**-0.240 / 1000000 # Non-Powered Dam\n",
    "𝐼𝐶𝐶_NSRD = 9605710 * 𝑃**0.977 * 𝐻**-0.126 / 1000000 # New Stream-reach Development\n",
    "𝐼𝐶𝐶_CCP = 9297820 * 𝑃**0.810 * 𝐻**-0.10 / 1000000 # Canal / Conduit Project\n",
    "ICC_PSHP_EXIST = 3008246 * 𝑃 * exp(-0.000460 * P) / 1000000 # Pumped Storage Hydropower Porojects - Existing Infrastructure\n",
    "ICC_PSHP_GREENFLD = 4882655 * 𝑃 * exp(-0.000776 * P) / 1000000 #  Pumped Storage Hydropower Porojects - Greenfield Sites\n",
    "𝐼𝐶𝐶_UAD = 4163746 * 𝑃**0.741 # Unit Addition Projects\n",
    "ICC_GRP = 250147 * 𝑃**0.817 # Generator Rewind Projects\n",
    "\n",
    "Annual_OM =  225417 * 𝑃**0.54 / 1000000 # \n",
    "\n",
    "print(\"The Initial Capital Cost for a Non-Powered Dam of {} ft head, and {} MW, is ${} M\".format(H, P, round(ICC_NPD, 1)))\n",
    "print(\"The Initial Capital Cost for a New Stream-reach Development of {} ft head, and {} MG, is ${} M\".format(H, P, round(ICC_NSRD, 1)))\n",
    "print(\"The Initial Capital Cost for a Canal / Conduit project of {} ft head, and {} MW, is ${} M\".format(H, P, round(ICC_CCP, 1)))\n",
    "print(\"The Initial Capital Cost for a Non-Powered Dam, of {} ft head, and {} MW is ${} M\".format(H, P, round(ICC_PSHP_EXIST, 1)))\n",
    "print(\"The Initial Capital Cost for a Non-Powered Dam, of {} ft head, and {} Mw is ${} M\".format(H, P, round(ICC_PSHP_GREENFLD, 1)))\n",
    "print(\"The Initial Capital Cost for a Unit Addition Project generating {} MW is ${} M\".format(P, round(ICC_UAD, 1)))\n",
    "print(\"The Annual Operation and Maintennance Cost for a hydropower facility generating {} MW is ${} M\".format(P, round(Annual_OM, 1)))\n",
    "\n",
    "\n"
   ]
  },
  {
   "cell_type": "code",
   "execution_count": null,
   "metadata": {},
   "outputs": [],
   "source": []
  }
 ],
 "metadata": {
  "kernelspec": {
   "display_name": "hat-env",
   "language": "python",
   "name": "python3"
  },
  "language_info": {
   "codemirror_mode": {
    "name": "ipython",
    "version": 3
   },
   "file_extension": ".py",
   "mimetype": "text/x-python",
   "name": "python",
   "nbconvert_exporter": "python",
   "pygments_lexer": "ipython3",
   "version": "3.6.13"
  },
  "orig_nbformat": 4
 },
 "nbformat": 4,
 "nbformat_minor": 2
}
