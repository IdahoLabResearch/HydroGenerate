{
 "cells": [
  {
   "attachments": {},
   "cell_type": "markdown",
   "metadata": {},
   "source": [
    "# Introduction to HydroGenerate\n",
    "\n",
    "\n",
    "The HydroGenerate (HG) package was created to assist in the process of evaluating hydropower potential from different types of hydropower generation technologies / facilities. HG is an open-source python library that has the capability of estimating hydropower generation for diversion and hydrokinetic projects.\n",
    "\n",
    "This document shows a quick workflow for working with HG. All the functionality of HG is encapsulated into a single function (calculate_hp_potential) to facilitate HG utilization by users with limited programming experience. All the base code used in each function is available for reuse and modification. Contributions are welcomed, particularly the addition of new methods, expanding the current functionality, or fixing existing issues with HG. \n"
   ]
  },
  {
   "cell_type": "code",
   "execution_count": 1,
   "metadata": {},
   "outputs": [],
   "source": [
    "%load_ext autoreload\n",
    "%autoreload 2\n",
    "# Standard imports\n",
    "import pandas as pd\n",
    "import matplotlib.pyplot as plt\n",
    "import urllib3\n",
    "urllib3.disable_warnings()\n",
    "\n",
    "# Local imports\n",
    "# from hat.api_call import *\n",
    "from hat.utils.hydropower_potential import *\n",
    "# from hat.utils.PyGeoTools.geolocation import *"
   ]
  },
  {
   "attachments": {},
   "cell_type": "markdown",
   "metadata": {},
   "source": [
    "### Example 1. Basic Calculation:\n",
    "\n",
    "This section presents the workflow for basic hydropower calculations. Basic calculations compute power, head, or flow, given any combination of two parameters. Basic calculations are included for users who do not have data about their system, and it is intended to provide a general idea on existing resources. "
   ]
  },
  {
   "cell_type": "code",
   "execution_count": 2,
   "metadata": {},
   "outputs": [
    {
     "name": "stdout",
     "output_type": "stream",
     "text": [
      "Hydropower potential is 11515.0 kW\n"
     ]
    }
   ],
   "source": [
    "# 1.1) Calculate power from a given head and flow\n",
    "\n",
    "flow = 8000 # given flow, in cfs\n",
    "head = 20 # head, in ft\n",
    "power = None\n",
    "\n",
    "hp = calculate_hp_potential(flow= flow, head= head, rated_power= power)\n",
    "\n",
    "print(\"Hydropower potential is {} kW\".format(round(hp.rated_power, 0)))"
   ]
  },
  {
   "cell_type": "code",
   "execution_count": 3,
   "metadata": {},
   "outputs": [
    {
     "name": "stdout",
     "output_type": "stream",
     "text": [
      "The head required to obtain 11515 kW with a flow of 8000.0 cfs is 20.0 ft\n"
     ]
    }
   ],
   "source": [
    "# 1.2) Calculate head from a given head and flow\n",
    "\n",
    "flow = 8000 # given flow, in cfs\n",
    "head = None # head, in ft\n",
    "power = 11515\n",
    "\n",
    "hp = calculate_hp_potential(flow= flow, head= head, rated_power= power)\n",
    "print(\"The head required to obtain {} kW with a flow of {} cfs is {} ft\".format(hp.rated_power, hp.flow, round(hp.head,1)))"
   ]
  },
  {
   "cell_type": "code",
   "execution_count": 4,
   "metadata": {},
   "outputs": [
    {
     "name": "stdout",
     "output_type": "stream",
     "text": [
      "The flow required to obtain 11515 kW with a head of 20.0 ft is 8000.0 cfs\n"
     ]
    }
   ],
   "source": [
    "# 1.3) Calculate flow from a given head and power\n",
    "\n",
    "flow = None # given flow, in cfs\n",
    "head = 20 # head, in ft\n",
    "power = 11515\n",
    "\n",
    "hp = calculate_hp_potential(flow= flow, head= head, rated_power= power)\n",
    "print(\"The flow required to obtain {} kW with a head of {} ft is {} cfs\".format(hp.rated_power, hp.head, round(hp.flow, 0)))"
   ]
  },
  {
   "attachments": {},
   "cell_type": "markdown",
   "metadata": {},
   "source": [
    "### Example 2. Diversion:\n",
    "\n",
    "A diversion, sometimes called a “run-of-river” facility, channels a portion of a river through a canal and/or a penstock to utilize the natural decline of the river bed elevation to produce energy. A penstock is a closed conduit that channels the flow of water to turbines with water flow regulated by gates, valves, and turbines. A diversion may not require the use of a dam. Check [DOE - Types of Hydropower Plant](https://www.energy.gov/eere/water/types-hydropower-plants#:~:text=There%20are%20three%20types%20of,renewable%20energy%20to%20the%20grid.) for additional infomration. \n",
    "\n",
    "In diversion projects, HydroGenerate focuses on calculating hydropwoer under diffrent configurations."
   ]
  },
  {
   "cell_type": "code",
   "execution_count": 5,
   "metadata": {},
   "outputs": [
    {
     "name": "stdout",
     "output_type": "stream",
     "text": [
      "Design flow (cfs): 8000.0\n",
      "Head_loss at design flow (ft): 1.99\n",
      "Turbine type: Kaplan\n",
      "Rated Power (kW): 10894.27\n",
      "Net head (ft): 18.01\n",
      "Generator Efficiency: 0.98\n",
      "Head Loss method: Darcy-Weisbach\n",
      "Penstock length (ft): 50.0\n",
      "Penstock diameter (ft): 16.44\n",
      "Runner diameter (ft): 5.33\n",
      "\n",
      "Flow range evaluated (cfs): [4800.  5082.4 5364.7 5647.1 5929.4 6211.8 6494.1 6776.5 7058.8 7341.2\n",
      " 7623.5 7905.9 8188.2 8470.6 8752.9 9035.3 9317.6 9600. ]\n",
      "Turbine Efficiency for the given flow range: [0.911 0.911 0.911 0.911 0.911 0.911 0.911 0.911 0.911 0.911 0.91  0.908\n",
      " 0.904 0.895 0.881 0.858 0.82  0.762]\n",
      "Power (Kw) for the given flow range: [ 6996.1  7375.7  7748.7  8115.4  8475.7  8829.3  9176.   9515.3  9846.2\n",
      " 10166.7 10472.4 10755.1 11000.7 11187.  11279.9 11230.5 10970.6 10407.8]\n"
     ]
    }
   ],
   "source": [
    "# 2.1) Head, power, and lenght of penstock are known. FLow is a single value.\n",
    "# In this scenario HydroGenerate will select a turbine, compute effieincy for the given flow\n",
    "# and values within 0.6 to 1.2 the given flow, penstock diameter (assuming steel if no material is given),\n",
    "# head loss for all flows, rater power,\n",
    "# power a given range of flow, \n",
    "\n",
    "flow = 8000\n",
    "head = 20\n",
    "power = None\n",
    "\n",
    "hp = calculate_hp_potential(flow= flow, rated_power= power, head= head,\n",
    "                           hydropower_type= 'Diversion', penstock_length = 50)\n",
    "\n",
    "# Explore output\n",
    "print('Design flow (cfs):', hp.design_flow)\n",
    "print('Head_loss at design flow (ft):', round(hp.design_headloss, 2))\n",
    "print('Turbine type:', hp.turbine_type)\n",
    "print('Rated Power (kW):', round(hp.rated_power, 2))\n",
    "print('Net head (ft):', round(hp.net_head, 2))\n",
    "print('Generator Efficiency:',hp.generator_efficiency)\n",
    "print('Head Loss method:',hp.headloss_method)\n",
    "print('Penstock length (ft):', hp.penstock_length)\n",
    "print('Penstock diameter (ft):', round(hp.penstock_diameter,2))\n",
    "print('Runner diameter (ft):', round(hp.runner_diameter,2))\n",
    "\n",
    "print('\\nFlow range evaluated (cfs):', np.round(hp.flow, 1))\n",
    "print('Turbine Efficiency for the given flow range:', np.round(hp.effi_cal,3))\n",
    "print('Power (Kw) for the given flow range:', np.round(hp.power,1))\n"
   ]
  },
  {
   "cell_type": "code",
   "execution_count": 6,
   "metadata": {},
   "outputs": [
    {
     "name": "stdout",
     "output_type": "stream",
     "text": [
      "Design flow (cfs): 8000.0\n",
      "Head_loss at design flow (ft): 2.0\n",
      "Turbine type: Kaplan\n",
      "Rated Power (Kw): 10885.57\n",
      "Net head (ft): 18.0\n",
      "Generator Efficiency: 0.98\n",
      "Head Loss method: Hazen-Williams\n",
      "Penstock length (ft): 50.0\n",
      "Penstock diameter (ft): 12.24\n",
      "Runner diameter (ft): 5.33\n",
      "\n",
      "Flow range evaluated (cfs): [4800.  5082.4 5364.7 5647.1 5929.4 6211.8 6494.1 6776.5 7058.8 7341.2\n",
      " 7623.5 7905.9 8188.2 8470.6 8752.9 9035.3 9317.6 9600. ]\n",
      "Turbine Efficiency for the given flow range: [0.911 0.911 0.911 0.911 0.911 0.911 0.911 0.911 0.911 0.911 0.91  0.908\n",
      " 0.904 0.895 0.881 0.858 0.82  0.762]\n",
      "Power (kW) for the given flow range: [ 6973.7  7351.9  7723.8  8089.8  8449.8  8803.6  9151.1  9491.7  9824.7\n",
      " 10148.  10457.4 10744.6 10995.9 11188.7 11289.1 11248.  10996.6 10441.8]\n"
     ]
    }
   ],
   "source": [
    "# 2.1) Exploring additional options:\n",
    "#  Using Hazen-Williams for head loss calculation\n",
    "\n",
    "flow = 8000\n",
    "head = 20\n",
    "power = None\n",
    "\n",
    "hp = calculate_hp_potential(flow= flow, rated_power= power, head= head,\n",
    "                           hydropower_type= 'Diversion', penstock_length = 50,\n",
    "                           headloss_method= \"Hazen-Williams\")\n",
    "\n",
    "# Explore output\n",
    "print('Design flow (cfs):', hp.design_flow)\n",
    "print('Head_loss at design flow (ft):', round(hp.design_headloss, 2))\n",
    "print('Turbine type:', hp.turbine_type)\n",
    "print('Rated Power (Kw):', round(hp.rated_power, 2))\n",
    "print('Net head (ft):', round(hp.net_head, 2))\n",
    "print('Generator Efficiency:',hp.generator_efficiency)\n",
    "print('Head Loss method:',hp.headloss_method)\n",
    "print('Penstock length (ft):', hp.penstock_length)\n",
    "print('Penstock diameter (ft):', round(hp.penstock_diameter,2))\n",
    "print('Runner diameter (ft):', round(hp.runner_diameter,2))\n",
    "\n",
    "print('\\nFlow range evaluated (cfs):', np.round(hp.flow, 1))\n",
    "print('Turbine Efficiency for the given flow range:', np.round(hp.effi_cal,3))\n",
    "print('Power (kW) for the given flow range:', np.round(hp.power,1))"
   ]
  },
  {
   "cell_type": "code",
   "execution_count": 7,
   "metadata": {},
   "outputs": [
    {
     "name": "stdout",
     "output_type": "stream",
     "text": [
      "Design flow (cfs): 8000.0\n",
      "Head_loss at design flow (ft): 2.0\n",
      "Turbine type: Kaplan\n",
      "Rated Power (Kw): 10885.57\n",
      "Net head (ft): 18.0\n",
      "Generator Efficiency: 0.98\n",
      "Head Loss method: Hazen-Williams\n",
      "Penstock length (ft): 50.0\n",
      "Penstock diameter (ft): 12.76\n",
      "Runner diameter (ft): 5.33\n",
      "\n",
      "Flow range evaluated (cfs): [4800.  5082.4 5364.7 5647.1 5929.4 6211.8 6494.1 6776.5 7058.8 7341.2\n",
      " 7623.5 7905.9 8188.2 8470.6 8752.9 9035.3 9317.6 9600. ]\n",
      "Turbine Efficiency for the given flow range: [0.911 0.911 0.911 0.911 0.911 0.911 0.911 0.911 0.911 0.911 0.91  0.908\n",
      " 0.904 0.895 0.881 0.858 0.82  0.762]\n",
      "Power (kW) for the given flow range: [ 6973.7  7351.9  7723.8  8089.8  8449.8  8803.6  9151.1  9491.7  9824.7\n",
      " 10148.  10457.4 10744.6 10995.9 11188.7 11289.1 11248.  10996.6 10441.8]\n"
     ]
    }
   ],
   "source": [
    "# 2.1) Exploring additional options:\n",
    "#  Using Hazen-Williams for head loss calculation and \n",
    "# using a known C\n",
    "\n",
    "# 1.1) Exploring additional options:\n",
    "#  Selecting a diffrent material for the penstock\n",
    "\n",
    "flow = 8000\n",
    "head = 20\n",
    "power = None\n",
    "\n",
    "hp = calculate_hp_potential(flow= flow, rated_power= power, head= head,\n",
    "                           hydropower_type= 'Diversion', penstock_length = 50,\n",
    "                           headloss_method= 'Hazen-Williams', penstock_material= 'Concrete')\n",
    "\n",
    "# Explore output\n",
    "print('Design flow (cfs):', hp.design_flow)\n",
    "print('Head_loss at design flow (ft):', round(hp.design_headloss, 2))\n",
    "print('Turbine type:', hp.turbine_type)\n",
    "print('Rated Power (Kw):', round(hp.rated_power, 2))\n",
    "print('Net head (ft):', round(hp.net_head, 2))\n",
    "print('Generator Efficiency:',hp.generator_efficiency)\n",
    "print('Head Loss method:',hp.headloss_method)\n",
    "print('Penstock length (ft):', hp.penstock_length)\n",
    "print('Penstock diameter (ft):', round(hp.penstock_diameter,2))\n",
    "print('Runner diameter (ft):', round(hp.runner_diameter,2))\n",
    "\n",
    "print('\\nFlow range evaluated (cfs):', np.round(hp.flow, 1))\n",
    "print('Turbine Efficiency for the given flow range:', np.round(hp.effi_cal,3))\n",
    "print('Power (kW) for the given flow range:', np.round(hp.power,1))"
   ]
  },
  {
   "cell_type": "code",
   "execution_count": 8,
   "metadata": {},
   "outputs": [
    {
     "name": "stdout",
     "output_type": "stream",
     "text": [
      "Design flow (cfs): 8000.0\n",
      "Head_loss at design flow (ft): 2.0\n",
      "Turbine type: Kaplan\n",
      "Rated Power (Kw): 10885.57\n",
      "Net head (ft): 18.0\n",
      "Generator Efficiency: 0.98\n",
      "Head Loss method: Hazen-Williams\n",
      "Penstock length (ft): 50.0\n",
      "Penstock diameter (ft): 14.1\n",
      "Runner diameter (ft): 5.33\n",
      "\n",
      "Flow range evaluated (cfs): [4800.  5082.4 5364.7 5647.1 5929.4 6211.8 6494.1 6776.5 7058.8 7341.2\n",
      " 7623.5 7905.9 8188.2 8470.6 8752.9 9035.3 9317.6 9600. ]\n",
      "Turbine Efficiency for the given flow range: [0.911 0.911 0.911 0.911 0.911 0.911 0.911 0.911 0.911 0.911 0.91  0.908\n",
      " 0.904 0.895 0.881 0.858 0.82  0.762]\n",
      "Power (kW) for the given flow range: [ 6973.7  7351.9  7723.8  8089.8  8449.8  8803.6  9151.1  9491.7  9824.7\n",
      " 10148.  10457.4 10744.6 10995.9 11188.7 11289.1 11248.  10996.6 10441.8]\n"
     ]
    }
   ],
   "source": [
    "# 2.1) Exploring additional options:\n",
    "#  Using Hazen-Williams for head loss calculation and\n",
    "# using a diffrent C value\n",
    "# Note: editing hydraulic_processing.py allows for entering materials that can be called by name\n",
    "\n",
    "flow = 8000\n",
    "head = 20\n",
    "power = None\n",
    "C = 100 # Hazen_williamns C\n",
    "\n",
    "hp = calculate_hp_potential(flow= flow, rated_power= power, head= head,\n",
    "                           hydropower_type= 'Diversion', penstock_length = 50,\n",
    "                           headloss_method= 'Hazen-Williams', frictionfactor= C)\n",
    "\n",
    "# Explore output\n",
    "print('Design flow (cfs):', hp.design_flow)\n",
    "print('Head_loss at design flow (ft):', round(hp.design_headloss, 2))\n",
    "print('Turbine type:', hp.turbine_type)\n",
    "print('Rated Power (Kw):', round(hp.rated_power, 2))\n",
    "print('Net head (ft):', round(hp.net_head, 2))\n",
    "print('Generator Efficiency:',hp.generator_efficiency)\n",
    "print('Head Loss method:',hp.headloss_method)\n",
    "print('Penstock length (ft):', hp.penstock_length)\n",
    "print('Penstock diameter (ft):', round(hp.penstock_diameter,2))\n",
    "print('Runner diameter (ft):', round(hp.runner_diameter,2))\n",
    "\n",
    "print('\\nFlow range evaluated (cfs):', np.round(hp.flow, 1))\n",
    "print('Turbine Efficiency for the given flow range:', np.round(hp.effi_cal,3))\n",
    "print('Power (kW) for the given flow range:', np.round(hp.power,1))"
   ]
  },
  {
   "cell_type": "code",
   "execution_count": 9,
   "metadata": {},
   "outputs": [
    {
     "name": "stdout",
     "output_type": "stream",
     "text": [
      "Design flow (cfs): 4120.0\n",
      "Head_loss at design flow (ft): 1.82\n",
      "Turbine type: Kaplan\n",
      "Rated Power (Kw): 5629.86\n",
      "Net head (ft): 18.18\n",
      "Generator Efficiency: 0.98\n",
      "Head Loss method: Darcy-Weisbach\n",
      "Penstock length (ft): 50.0\n",
      "Penstock diameter (ft): 12.83\n",
      "Runner diameter (ft): 3.89\n",
      "\n",
      "Flow range evaluated (cfs): [3260. 3270. 3250. ... 3170. 3100. 3150.]\n",
      "Turbine Efficiency for the given flow range: [0.906 0.906 0.906 ... 0.906 0.906 0.906]\n",
      "Power (kW) for the given flow range: [4621.3 4633.8 4608.9 ... 4508.5 4419.9 4483.3]\n"
     ]
    }
   ],
   "source": [
    "# 2.2) Head, power, and lenght of penstock are known. FLow is a time series, the design flow is not known.\n",
    "# In this scenario HydroGenerate will select a turbine, compute effieincy for the given flow values,\n",
    "# design flow based on a percent of exceedance, penstock diameter (assuming steel if no material is given),\n",
    "# head loss for all flows, rater power,\n",
    "# power a given range of flow, \n",
    "\n",
    "flow = pd.read_csv('data_test.csv')['discharge_cfs'].to_numpy()\n",
    "head = 20\n",
    "power = None\n",
    "\n",
    "hp = calculate_hp_potential(flow= flow, rated_power= power, head= head,\n",
    "                           hydropower_type= 'Diversion', penstock_length = 50, pctime_runfull= 80)\n",
    "\n",
    "# Explore output\n",
    "print('Design flow (cfs):', hp.design_flow)\n",
    "print('Head_loss at design flow (ft):', round(hp.design_headloss, 2))\n",
    "print('Turbine type:', hp.turbine_type)\n",
    "print('Rated Power (Kw):', round(hp.rated_power, 2))\n",
    "print('Net head (ft):', round(hp.net_head, 2))\n",
    "print('Generator Efficiency:',hp.generator_efficiency)\n",
    "print('Head Loss method:',hp.headloss_method)\n",
    "print('Penstock length (ft):', hp.penstock_length)\n",
    "print('Penstock diameter (ft):', round(hp.penstock_diameter,2))\n",
    "print('Runner diameter (ft):', round(hp.runner_diameter,2))\n",
    "\n",
    "print('\\nFlow range evaluated (cfs):', np.round(hp.flow, 1))\n",
    "print('Turbine Efficiency for the given flow range:', np.round(hp.effi_cal,3))\n",
    "print('Power (kW) for the given flow range:', np.round(hp.power,1))"
   ]
  },
  {
   "attachments": {},
   "cell_type": "markdown",
   "metadata": {},
   "source": [
    "### TODO: Camilo, when a pandas dataframe is given, we can add columns to it and output a ginle time series - stamped value - instead of multiple dataframes as shown below"
   ]
  },
  {
   "cell_type": "code",
   "execution_count": 30,
   "metadata": {},
   "outputs": [
    {
     "name": "stdout",
     "output_type": "stream",
     "text": [
      "\n",
      "Flow range evaluated (cfs): [3260. 3270. 3250. ... 3170. 3100. 3150.]\n",
      "Turbine Efficiency for the given flow range: [0.906 0.906 0.906 ... 0.906 0.906 0.906]\n",
      "Power (Kw) for the given flow range: [4621.3 4633.8 4608.9 ... 4508.5 4419.9 4483.3]\n"
     ]
    }
   ],
   "source": [
    "# 2.2) Head, power, and lenght of penstock are known. FLow is a time series entered as a pandas dataframe, \n",
    "# the design flow is not known. In this scenario HydroGenerate will select a turbine, compute effieincy for the given flow values,\n",
    "# design flow based on a percent of exceedance, penstock diameter (assuming steel if no material is given),\n",
    "# head loss for all flows, rater power,\n",
    "# power a given range of flow, \n",
    "\n",
    "flow = pd.read_csv('data_test.csv') # ['discharge_cfs'].to_numpy()\n",
    "head = 20\n",
    "power = None\n",
    "\n",
    "hp = calculate_hp_potential(flow= flow, rated_power= power, head= head,\n",
    "                           hydropower_type= 'Diversion', penstock_length = 50,\n",
    "                           flow_column= 'discharge_cfs')\n",
    "\n",
    "# Explore output\n",
    "# print('Design flow (cfs):', hp.design_flow)\n",
    "# print('Head_loss at design flow (ft):', round(hp.design_headloss, 2))\n",
    "# print('Turbine type:', hp.turbine_type)\n",
    "# print('Rated Power (Kw):', round(hp.rated_power, 2))\n",
    "# print('Net head (ft):', round(hp.net_head, 2))\n",
    "# print('Generator Efficiency:',hp.generator_efficiency)\n",
    "# print('Head Loss method:',hp.headloss_method)\n",
    "# print('Penstock length (ft):', hp.penstock_length)\n",
    "# print('Penstock diameter (ft):', round(hp.penstock_diameter,2))\n",
    "# print('Runner diameter (ft):', round(hp.runner_diameter,2))\n",
    "\n",
    "print('\\nFlow range evaluated (cfs):', np.round(hp.flow, 1))\n",
    "print('Turbine Efficiency for the given flow range:', np.round(hp.effi_cal,3))\n",
    "print('Power (Kw) for the given flow range:', np.round(hp.power,1))"
   ]
  },
  {
   "cell_type": "code",
   "execution_count": 11,
   "metadata": {},
   "outputs": [
    {
     "name": "stdout",
     "output_type": "stream",
     "text": [
      "Design flow (cfs): 8000.0\n",
      "Head_loss at design flow (ft): 18.39\n",
      "Turbine type: Francis\n",
      "Rated Power (Kw): 113624.11\n",
      "Net head (ft): 181.61\n",
      "Generator Efficiency: 0.98\n",
      "Head Loss method: Darcy-Weisbach\n",
      "Penstock length (ft): 50.0\n",
      "Penstock diameter (ft): 10.53\n",
      "Runner diameter (ft): 5.33\n",
      "\n",
      "Flow range evaluated (cfs): [4800.  5082.4 5364.7 5647.1 5929.4 6211.8 6494.1 6776.5 7058.8 7341.2\n",
      " 7623.5 7905.9 8188.2 8470.6 8752.9 9035.3 9317.6 9600. ]\n",
      "Turbine Efficiency for the given flow range: [0.9   0.915 0.927 0.935 0.94  0.942 0.943 0.942 0.942 0.942 0.942 0.942\n",
      " 0.942 0.941 0.941 0.941 0.941 0.941]\n",
      "Power (kW) for the given flow range: [ 69302.3  74343.3  79119.9  83612.1  87813.   91734.5  95421.1  98982.3\n",
      " 102469.4 105879.4 109209.5 112456.5 115617.5 118689.4 121669.4 124554.5\n",
      " 127341.6 130027.7]\n"
     ]
    }
   ],
   "source": [
    "# 2.1) Head, power, and lenght of penstock are known. FLow is a single value.\n",
    "# In this scenario HydroGenerate will select a turbine, compute effieincy for the given flow\n",
    "# and values within 0.6 to 1.2 the given flow, penstock diameter (assuming steel if no material is given),\n",
    "# head loss for all flows, rater power,\n",
    "# power a given range of flow, \n",
    "\n",
    "flow = 8000\n",
    "head = 200\n",
    "power = None\n",
    "\n",
    "hp = calculate_hp_potential(flow= flow, rated_power= power, head= head,\n",
    "                           hydropower_type= 'Diversion', penstock_length = 50)\n",
    "\n",
    "# Explore output\n",
    "print('Design flow (cfs):', hp.design_flow)\n",
    "print('Head_loss at design flow (ft):', round(hp.design_headloss, 2))\n",
    "print('Turbine type:', hp.turbine_type)\n",
    "print('Rated Power (Kw):', round(hp.rated_power, 2))\n",
    "print('Net head (ft):', round(hp.net_head, 2))\n",
    "print('Generator Efficiency:',hp.generator_efficiency)\n",
    "print('Head Loss method:',hp.headloss_method)\n",
    "print('Penstock length (ft):', hp.penstock_length)\n",
    "print('Penstock diameter (ft):', round(hp.penstock_diameter,2))\n",
    "print('Runner diameter (ft):', round(hp.runner_diameter,2))\n",
    "\n",
    "print('\\nFlow range evaluated (cfs):', np.round(hp.flow, 1))\n",
    "print('Turbine Efficiency for the given flow range:', np.round(hp.effi_cal,3))\n",
    "print('Power (kW) for the given flow range:', np.round(hp.power,1))"
   ]
  },
  {
   "cell_type": "code",
   "execution_count": 12,
   "metadata": {},
   "outputs": [
    {
     "data": {
      "text/plain": [
       "['Re',\n",
       " 'Rm',\n",
       " '__class__',\n",
       " '__delattr__',\n",
       " '__dict__',\n",
       " '__dir__',\n",
       " '__doc__',\n",
       " '__eq__',\n",
       " '__format__',\n",
       " '__ge__',\n",
       " '__getattribute__',\n",
       " '__gt__',\n",
       " '__hash__',\n",
       " '__init__',\n",
       " '__init_subclass__',\n",
       " '__le__',\n",
       " '__lt__',\n",
       " '__module__',\n",
       " '__ne__',\n",
       " '__new__',\n",
       " '__reduce__',\n",
       " '__reduce_ex__',\n",
       " '__repr__',\n",
       " '__setattr__',\n",
       " '__sizeof__',\n",
       " '__str__',\n",
       " '__subclasshook__',\n",
       " '__weakref__',\n",
       " 'annual_om',\n",
       " 'average_velocity',\n",
       " 'channel_bottom_width',\n",
       " 'design_diameter',\n",
       " 'design_efficiency',\n",
       " 'design_flow',\n",
       " 'design_headloss',\n",
       " 'designdiameter_calculator',\n",
       " 'effi_cal',\n",
       " 'electricity_sell_price',\n",
       " 'flow',\n",
       " 'flow_column',\n",
       " 'frictionfactor',\n",
       " 'generator_efficiency',\n",
       " 'h',\n",
       " 'head',\n",
       " 'head_loss',\n",
       " 'head_loss_calculation',\n",
       " 'headloss_method',\n",
       " 'hk_blade_diameter',\n",
       " 'hk_blade_heigth',\n",
       " 'hk_blade_type',\n",
       " 'hk_swept_area',\n",
       " 'icc',\n",
       " 'max_headloss_allowed',\n",
       " 'net_head',\n",
       " 'pctime_runfull',\n",
       " 'pelton_n_jets',\n",
       " 'penstock_diameter',\n",
       " 'penstock_length',\n",
       " 'penstock_material',\n",
       " 'pmax',\n",
       " 'pmin',\n",
       " 'power',\n",
       " 'rated_power',\n",
       " 'raw_power',\n",
       " 'resource_category',\n",
       " 'reynoldsnumber_calculator',\n",
       " 'runner_diameter',\n",
       " 'system_efficiency',\n",
       " 'turb_cap',\n",
       " 'turbine_type']"
      ]
     },
     "execution_count": 12,
     "metadata": {},
     "output_type": "execute_result"
    }
   ],
   "source": [
    "# Full list of parameters included in HydroGenerate calculation\n",
    "dir(hp)"
   ]
  },
  {
   "attachments": {},
   "cell_type": "markdown",
   "metadata": {},
   "source": [
    "# Economic calculation"
   ]
  },
  {
   "cell_type": "code",
   "execution_count": 13,
   "metadata": {},
   "outputs": [
    {
     "name": "stdout",
     "output_type": "stream",
     "text": [
      "Design flow (cfs): 8000.0\n",
      "Head_loss at design flow (ft): 18.39\n",
      "Turbine type: Francis\n",
      "Rated Power (Kw): 113624.11\n",
      "Net head (ft): 181.61\n",
      "Generator Efficiency: 0.98\n",
      "Head Loss method: Darcy-Weisbach\n",
      "Penstock length (ft): 50.0\n",
      "Penstock diameter (ft): 10.53\n",
      "Runner diameter (ft): 5.33\n",
      "\n",
      "Resource Category: Non-PoweredDam\n",
      "Initial Capital Cost (M$): 508.2\n",
      "Annual Operation and Maintennance (M$): 2.9\n"
     ]
    }
   ],
   "source": [
    "# 3.1) Cost and Annual O&M as part of a project. Resource_category =  'Non-PoweredDam'\n",
    "flow = 8000\n",
    "head = 200\n",
    "power = None\n",
    "\n",
    "hp = calculate_hp_potential(flow= flow, rated_power= power, head= head,\n",
    "                           hydropower_type= 'Diversion', penstock_length = 50,\n",
    "                           resource_category= 'Non-PoweredDam')\n",
    "\n",
    "# Explore output\n",
    "print('Design flow (cfs):', hp.design_flow)\n",
    "print('Head_loss at design flow (ft):', round(hp.design_headloss, 2))\n",
    "print('Turbine type:', hp.turbine_type)\n",
    "print('Rated Power (Kw):', round(hp.rated_power, 2))\n",
    "print('Net head (ft):', round(hp.net_head, 2))\n",
    "print('Generator Efficiency:',hp.generator_efficiency)\n",
    "print('Head Loss method:',hp.headloss_method)\n",
    "print('Penstock length (ft):', hp.penstock_length)\n",
    "print('Penstock diameter (ft):', round(hp.penstock_diameter,2))\n",
    "print('Runner diameter (ft):', round(hp.runner_diameter,2))\n",
    "\n",
    "print('\\nResource Category:', hp.resource_category)\n",
    "print('Initial Capital Cost (M$):', np.round(hp.icc,1))\n",
    "print('Annual Operation and Maintennance (M$):', np.round(hp.annual_om,1))"
   ]
  },
  {
   "cell_type": "code",
   "execution_count": 14,
   "metadata": {},
   "outputs": [
    {
     "name": "stdout",
     "output_type": "stream",
     "text": [
      "\n",
      "Resource Category: Non-PoweredDam\n",
      "Initial Capital Cost (M$): 502.1\n",
      "Annual Operation and Maintennance (M$): 2.9\n"
     ]
    }
   ],
   "source": [
    "# 3.2) resource_category: 'Non-PoweredDam'\n",
    "\n",
    "head = 200\n",
    "power = 113624.11\n",
    "\n",
    "hp = calculate_hp_potential(rated_power= power, head= head,\n",
    "                           hydropower_type= None, resource_category= 'Non-PoweredDam')\n",
    "\n",
    "print('\\nResource Category:', hp.resource_category)\n",
    "print('Initial Capital Cost (M$):', np.round(hp.icc,1))\n",
    "print('Annual Operation and Maintennance (M$):', np.round(hp.annual_om,1))"
   ]
  },
  {
   "cell_type": "code",
   "execution_count": 15,
   "metadata": {},
   "outputs": [
    {
     "name": "stdout",
     "output_type": "stream",
     "text": [
      "\n",
      "Resource Category: GeneratorRewind\n",
      "Initial Capital Cost (M$): 12.0\n",
      "Annual Operation and Maintennance (M$): 2.9\n"
     ]
    }
   ],
   "source": [
    "# 3.3 Rewinding a generator. resource_caterogy= 'GeneratorRewind')\n",
    "\n",
    "head = 200\n",
    "power = 113624.11\n",
    "\n",
    "hp = calculate_hp_potential(rated_power= power, head= head,\n",
    "                           hydropower_type= None, resource_category= 'GeneratorRewind')\n",
    "\n",
    "print('\\nResource Category:', hp.resource_category)\n",
    "print('Initial Capital Cost (M$):', np.round(hp.icc,1))\n",
    "print('Annual Operation and Maintennance (M$):', np.round(hp.annual_om,1))"
   ]
  },
  {
   "cell_type": "code",
   "execution_count": 16,
   "metadata": {},
   "outputs": [
    {
     "name": "stdout",
     "output_type": "stream",
     "text": [
      "\n",
      "Resource Category: UnitAddition\n",
      "Initial Capital Cost (M$): 138.9\n",
      "Annual Operation and Maintennance (M$): 2.9\n"
     ]
    }
   ],
   "source": [
    "# Adding a new unit. resource_caterogy= 'UnitAddition')\n",
    "\n",
    "head = 200\n",
    "power = 113624.11\n",
    "\n",
    "hp = calculate_hp_potential(rated_power= power, head= head,\n",
    "                           hydropower_type= None, resource_category= 'UnitAddition')\n",
    "\n",
    "print('\\nResource Category:', hp.resource_category)\n",
    "print('Initial Capital Cost (M$):', np.round(hp.icc,1))\n",
    "print('Annual Operation and Maintennance (M$):', np.round(hp.annual_om,1))"
   ]
  },
  {
   "cell_type": "code",
   "execution_count": 64,
   "metadata": {},
   "outputs": [
    {
     "name": "stdout",
     "output_type": "stream",
     "text": [
      "Design flow (cfs): 8000.0\n",
      "Turbine type: Kaplan\n",
      "Rated Power (MW): 10.89\n",
      "Net head (ft): 18.01\n",
      "Generator Efficiency: 0.98\n",
      "Head Loss method: Darcy-Weisbach\n",
      "Runner diameter (ft): 5.33\n",
      "\n",
      "Annual energy generated (MwH): 42230.0\n",
      "Number of days a year the plan operates: 182.5\n",
      "Annual revenue (M$): 0.5\n"
     ]
    }
   ],
   "source": [
    "# Annual energy generated and revenue\n",
    "\n",
    "flow = 8000\n",
    "head = 20\n",
    "\n",
    "hp = calculate_hp_potential(flow= flow, head= head, penstock_length= 50, \n",
    "                           hydropower_type= 'Diversion', # head_loss_calculation= False,\n",
    "                           energy_revenue_caclulation= True, capacity_factor= 0.5)\n",
    "\n",
    "\n",
    "# Explore output\n",
    "print('Design flow (cfs):', hp.design_flow)\n",
    "print('Turbine type:', hp.turbine_type)\n",
    "print('Rated Power (MW):', round(hp.rated_power / 1000, 2))\n",
    "print('Net head (ft):', round(hp.net_head, 2))\n",
    "print('Generator Efficiency:',hp.generator_efficiency)\n",
    "print('Head Loss method:',hp.headloss_method)\n",
    "print('Runner diameter (ft):', round(hp.runner_diameter,2))\n",
    "\n",
    "\n",
    "print('\\nAnnual energy generated (MwH):', round(hp.annual_energy_generated / 1000, 0))\n",
    "print('Number of days a year the plan operates:', hp.n_operation_days)\n",
    "print('Annual revenue (M$):', round(hp.annual_revenue, 1))\n"
   ]
  },
  {
   "attachments": {},
   "cell_type": "markdown",
   "metadata": {},
   "source": [
    "# Hydrokinetics Calculations"
   ]
  },
  {
   "cell_type": "code",
   "execution_count": 18,
   "metadata": {},
   "outputs": [
    {
     "name": "stdout",
     "output_type": "stream",
     "text": [
      "Rated Power (kW): 0.46\n"
     ]
    }
   ],
   "source": [
    "V = 2  # average cross-\n",
    "\n",
    "hp = calculate_hp_potential(average_velocity = V,\n",
    "                           hydropower_type = 'Hydrokinetic', units = 'SI',\n",
    "                           hk_blade_type= 'ConventionalRotor')\n",
    "\n",
    "print('Rated Power (kW):', round(hp.rated_power, 2))"
   ]
  },
  {
   "cell_type": "code",
   "execution_count": 19,
   "metadata": {},
   "outputs": [
    {
     "name": "stdout",
     "output_type": "stream",
     "text": [
      "Rated Power (kW): 0.59\n"
     ]
    }
   ],
   "source": [
    "V = 2\n",
    "\n",
    "hp = calculate_hp_potential(average_velocity = V,\n",
    "                           hydropower_type = 'Hydrokinetic', units = 'SI',\n",
    "                           hk_blade_type= 'H-DarrieusRotor')\n",
    "\n",
    "print('Rated Power (kW):', round(hp.rated_power, 2))"
   ]
  },
  {
   "cell_type": "code",
   "execution_count": 20,
   "metadata": {},
   "outputs": [
    {
     "name": "stdout",
     "output_type": "stream",
     "text": [
      "Rated Power (kW): 0.38\n"
     ]
    }
   ],
   "source": [
    "V = 2\n",
    "\n",
    "hp = calculate_hp_potential(average_velocity = V,\n",
    "                           hydropower_type = 'Hydrokinetic', units = 'SI',\n",
    "                           hk_blade_type= 'DarrieusRotor')\n",
    "\n",
    "print('Rated Power (kW):', round(hp.rated_power, 2))"
   ]
  },
  {
   "cell_type": "code",
   "execution_count": 21,
   "metadata": {},
   "outputs": [
    {
     "name": "stdout",
     "output_type": "stream",
     "text": [
      "Rated Power (kW): 2.89\n"
     ]
    }
   ],
   "source": [
    "V = 4\n",
    "\n",
    "hp = calculate_hp_potential(average_velocity = V,\n",
    "                           hydropower_type = 'Hydrokinetic', units = 'SI',\n",
    "                           hk_blade_type= 'H-DarrieusRotor',\n",
    "                           hk_blade_diameter= 1.36,\n",
    "                           hk_blade_heigth = 1.8)\n",
    "\n",
    "# hk_blade_diameter= None, \n",
    "#                            hk_blade_heigth= None, \n",
    "#                            hk_blade_type= None, \n",
    "#                            hk_swept_area = None):\n",
    "\n",
    "print('Rated Power (kW):', round(hp.rated_power, 2))"
   ]
  }
 ],
 "metadata": {
  "kernelspec": {
   "display_name": "hat-env",
   "language": "python",
   "name": "python3"
  },
  "language_info": {
   "codemirror_mode": {
    "name": "ipython",
    "version": 3
   },
   "file_extension": ".py",
   "mimetype": "text/x-python",
   "name": "python",
   "nbconvert_exporter": "python",
   "pygments_lexer": "ipython3",
   "version": "3.6.13"
  },
  "orig_nbformat": 4
 },
 "nbformat": 4,
 "nbformat_minor": 2
}
