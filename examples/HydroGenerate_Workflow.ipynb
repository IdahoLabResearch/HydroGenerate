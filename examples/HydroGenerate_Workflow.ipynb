{
 "cells": [
  {
   "cell_type": "markdown",
   "metadata": {},
   "source": [
    "# Introduction to HydroGenerate\n",
    "\n",
    "\n",
    "The HydroGenerate (HG) package was created to assist in the process of evaluating hydropower potential from different types of hydropower generation technologies / facilities. HG is an open-source python library that has the capability of estimating hydropower generation for diversion and hydrokinetic projects.\n",
    "\n",
    "This document shows a quick workflow for working with HG. All the functionality of HG is encapsulated into a single function (calculate_hp_potential) to facilitate HG utilization by users with limited programming experience. All the base code used in each function is available for reuse and modification. Contributions are welcomed, particularly the addition of new methods, expanding the current functionality, or fixing existing issues with HG. \n"
   ]
  },
  {
   "cell_type": "code",
   "execution_count": 1,
   "metadata": {},
   "outputs": [],
   "source": [
    "%load_ext autoreload\n",
    "%autoreload 2\n",
    "# Standard imports\n",
    "import pandas as pd\n",
    "import matplotlib.pyplot as plt\n",
    "import urllib3\n",
    "urllib3.disable_warnings()\n",
    "\n",
    "# Local imports\n",
    "from hat.api_call import *\n",
    "from hat.utils.hydropower_potential import *\n",
    "# from hat.utils.PyGeoTools.geolocation import *"
   ]
  },
  {
   "cell_type": "markdown",
   "metadata": {},
   "source": [
    "# 1. Basic Calculation:\n",
    "\n",
    "This section presents the workflow for basic hydropower calculations. Basic calculations compute power, head, or flow, given any combination of two parameters. Basic calculations are included for users who do not have data about their system, and it is intended to provide a general idea on existing resources. "
   ]
  },
  {
   "cell_type": "code",
   "execution_count": 2,
   "metadata": {},
   "outputs": [
    {
     "name": "stdout",
     "output_type": "stream",
     "text": [
      "Hydropower potential is 9483.0 kW\n"
     ]
    }
   ],
   "source": [
    "# 1.1) Calculate power from a given head and flow\n",
    "\n",
    "flow = 8000 # given flow, in cfs\n",
    "head = 20 # head, in ft\n",
    "power = None\n",
    "\n",
    "hp = calculate_hp_potential(flow= flow, head= head, rated_power= power, system_efficiency= 0.7)\n",
    "\n",
    "print(\"Hydropower potential is {} kW\".format(round(hp.rated_power, 0)))"
   ]
  },
  {
   "cell_type": "code",
   "execution_count": 3,
   "metadata": {},
   "outputs": [
    {
     "name": "stdout",
     "output_type": "stream",
     "text": [
      "The head required to produce 11515 kW with a flow of 8000.0 cfs is 20.0 ft\n"
     ]
    }
   ],
   "source": [
    "# 1.2) Calculate head from a given head and flow\n",
    "\n",
    "flow = 8000 # given flow, in cfs\n",
    "head = None # head, in ft\n",
    "power = 11515\n",
    "\n",
    "hp = calculate_hp_potential(flow= flow, head= head, rated_power= power)\n",
    "print(\"The head required to produce {} kW with a flow of {} cfs is {} ft\".format(hp.rated_power, hp.flow, round(hp.head,1)))"
   ]
  },
  {
   "cell_type": "code",
   "execution_count": 4,
   "metadata": {},
   "outputs": [
    {
     "name": "stdout",
     "output_type": "stream",
     "text": [
      "The flow required to produce 11515 kW with a head of 20.0 ft is 8000.0 cfs\n"
     ]
    }
   ],
   "source": [
    "# 1.3) Calculate flow from a given head and power\n",
    "\n",
    "flow = None # given flow, in cfs\n",
    "head = 20 # head, in ft\n",
    "power = 11515\n",
    "\n",
    "hp = calculate_hp_potential(flow= flow, head= head, rated_power= power)\n",
    "print(\"The flow required to produce {} kW with a head of {} ft is {} cfs\".format(hp.rated_power, hp.head, round(hp.flow, 0)))"
   ]
  },
  {
   "cell_type": "markdown",
   "metadata": {},
   "source": [
    "# 2. Diversion\n",
    "\n",
    "A diversion, sometimes called a “run-of-river” facility, channels a portion of a river through a canal and/or a penstock to utilize the natural decline of the river bed elevation to produce energy. A penstock is a closed conduit that channels the flow of water to turbines with water flow regulated by gates, valves, and turbines. A diversion may not require the use of a dam. Check [DOE - Types of Hydropower Plant](https://www.energy.gov/eere/water/types-hydropower-plants#:~:text=There%20are%20three%20types%20of,renewable%20energy%20to%20the%20grid.) for additional information. \n",
    "\n",
    "In diversion projects, HydroGenerate focuses on calculating hydropower under different configurations."
   ]
  },
  {
   "cell_type": "code",
   "execution_count": 5,
   "metadata": {},
   "outputs": [
    {
     "name": "stdout",
     "output_type": "stream",
     "text": [
      "Design flow (cfs): 5000.0\n",
      "Turbine type: Francis\n",
      "Rated Power (MW): 116.74\n",
      "Net head (ft): 298.06\n",
      "Generator Efficiency: 0.98\n",
      "Head Loss method: Darcy-Weisbach\n",
      "Penstock length (ft): 400.0\n",
      "Penstock diameter (ft): 11.84\n",
      "Runner diameter (ft): 14.0\n",
      "\n",
      "Flow range evaluated (cfs): [2500.  2647.1 2794.1 2941.2 3088.2 3235.3 3382.4 3529.4 3676.5 3823.5\n",
      " 3970.6 4117.6 4264.7 4411.8 4558.8 4705.9 4852.9 5000. ]\n",
      "Turbine Efficiency for the given flow range: [0.867 0.887 0.902 0.915 0.925 0.932 0.938 0.941 0.943 0.944 0.944 0.944\n",
      " 0.944 0.944 0.943 0.943 0.943 0.943]\n",
      "Power (Kw) for the given flow range: [ 57943.8  62522.7  66959.4  71235.5  75338.2  79260.6  83001.7  86566.9\n",
      "  89968.8  93227.9  96375.4  99438.2 102444.2 105393.8 108284.9 111115.8\n",
      " 113884.6 116589.4]\n"
     ]
    }
   ],
   "source": [
    "# 2.1) Head, power, and length of penstock are known. Flow is a single value.\n",
    "# In this scenario HydroGenerate will select a turbine, compute efficiency for the given flow\n",
    "# and values within 0.6 to 1.2 the given flow, penstock diameter (assuming steel if no material is given),\n",
    "# head loss for all flows, rater power,\n",
    "# power a given range of flow, \n",
    "\n",
    "flow = 5000 # cfs\n",
    "head = 330 # ft\n",
    "power = None\n",
    "penstock_length = 400 # ft\n",
    "hp_type = 'Diversion'\n",
    "\n",
    "hp = calculate_hp_potential(flow= flow, rated_power= power, head= head,\n",
    "                            penstock_headloss_calculation= True,\n",
    "                            # penstock_headloss_method= 'Hazen-Williams',\n",
    "                            units= 'US',\n",
    "                            hydropower_type= hp_type, penstock_length= penstock_length,\n",
    "                            # penstock_diameter= 15,\n",
    "                            max_headloss_allowed= 10)\n",
    "\n",
    "# Explore output\n",
    "print('Design flow (cfs):', hp.design_flow)\n",
    "print('Turbine type:', hp.turbine_type)\n",
    "print('Rated Power (MW):', round(hp.rated_power/1000, 2))\n",
    "print('Net head (ft):', round(hp.net_head, 2))\n",
    "print('Generator Efficiency:',hp.generator_efficiency)\n",
    "print('Head Loss method:',hp.penstock_headloss_method)\n",
    "print('Penstock length (ft):', hp.penstock_length)\n",
    "print('Penstock diameter (ft):', round(hp.penstock_diameter,2))\n",
    "print('Runner diameter (ft):', round(hp.runner_diameter,2))\n",
    "\n",
    "print('\\nFlow range evaluated (cfs):', np.round(hp.flow, 1))\n",
    "print('Turbine Efficiency for the given flow range:', np.round(hp.turbine_efficiency, 3))\n",
    "print('Power (Kw) for the given flow range:', np.round(hp.power,1))\n"
   ]
  },
  {
   "cell_type": "code",
   "execution_count": 6,
   "metadata": {},
   "outputs": [
    {
     "name": "stdout",
     "output_type": "stream",
     "text": [
      "Design flow (cfs): 8000.0\n",
      "Head_loss at design flow (ft): 2.0\n",
      "Turbine type: Kaplan\n",
      "Rated Power (Kw): 10885.57\n",
      "Net head (ft): 18.0\n",
      "Generator Efficiency: 0.98\n",
      "Head Loss method: Hazen-Williams\n",
      "Penstock length (ft): 50.0\n",
      "Penstock diameter (ft): 12.24\n",
      "Runner diameter (ft): 17.49\n",
      "\n",
      "Flow range evaluated (cfs): [4000.  4235.3 4470.6 4705.9 4941.2 5176.5 5411.8 5647.1 5882.4 6117.6\n",
      " 6352.9 6588.2 6823.5 7058.8 7294.1 7529.4 7764.7 8000. ]\n",
      "Turbine Efficiency for the given flow range: [0.907 0.909 0.91  0.911 0.911 0.911 0.911 0.911 0.911 0.911 0.911 0.911\n",
      " 0.911 0.911 0.911 0.91  0.909 0.907]\n",
      "Power (kW) for the given flow range: [ 5851.8  6192.   6522.7  6846.   7163.7  7476.6  7785.2  8089.8  8390.2\n",
      "  8686.4  8978.2  9265.4  9547.8  9824.7 10094.9 10356.2 10604.5 10833.3]\n"
     ]
    }
   ],
   "source": [
    "# 2.2) Exploring additional options:\n",
    "#  Using Hazen-Williams for head loss calculation\n",
    "flow = 8000 # cfs\n",
    "head = 20 # ft\n",
    "power = None\n",
    "penstock_length = 50 # ft\n",
    "hp_type = 'Diversion'\n",
    "headloss_method= \"Hazen-Williams\"\n",
    "\n",
    "hp = calculate_hp_potential(flow= flow, rated_power= power, head= head,\n",
    "                            penstock_headloss_calculation= True,\n",
    "                           hydropower_type= hp_type, penstock_length= penstock_length,\n",
    "                           penstock_headloss_method= headloss_method)\n",
    "\n",
    "\n",
    "\n",
    "# Explore output\n",
    "print('Design flow (cfs):', hp.design_flow)\n",
    "print('Head_loss at design flow (ft):', round(hp.penstock_design_headloss, 2))\n",
    "print('Turbine type:', hp.turbine_type)\n",
    "print('Rated Power (Kw):', round(hp.rated_power, 2))\n",
    "print('Net head (ft):', round(hp.net_head, 2))\n",
    "print('Generator Efficiency:',hp.generator_efficiency)\n",
    "print('Head Loss method:',hp.penstock_headloss_method)\n",
    "print('Penstock length (ft):', hp.penstock_length)\n",
    "print('Penstock diameter (ft):', round(hp.penstock_diameter, 2))\n",
    "print('Runner diameter (ft):', round(hp.runner_diameter, 2))\n",
    "\n",
    "print('\\nFlow range evaluated (cfs):', np.round(hp.flow, 1))\n",
    "print('Turbine Efficiency for the given flow range:', np.round(hp.turbine_efficiency ,3))\n",
    "print('Power (kW) for the given flow range:', np.round(hp.power, 1))"
   ]
  },
  {
   "cell_type": "code",
   "execution_count": 7,
   "metadata": {},
   "outputs": [
    {
     "name": "stdout",
     "output_type": "stream",
     "text": [
      "Design flow (cfs): 8000.0\n",
      "Head_loss at design flow (ft): 2.0\n",
      "Turbine type: Kaplan\n",
      "Rated Power (Kw): 10885.57\n",
      "Net head (ft): 18.0\n",
      "Generator Efficiency: 0.98\n",
      "Head Loss method: Hazen-Williams\n",
      "Penstock length (ft): 50.0\n",
      "Penstock diameter (ft): 12.76\n",
      "Runner diameter (ft): 17.49\n",
      "\n",
      "Flow range evaluated (cfs): [4000.  4235.3 4470.6 4705.9 4941.2 5176.5 5411.8 5647.1 5882.4 6117.6\n",
      " 6352.9 6588.2 6823.5 7058.8 7294.1 7529.4 7764.7 8000. ]\n",
      "Turbine Efficiency for the given flow range: [0.907 0.909 0.91  0.911 0.911 0.911 0.911 0.911 0.911 0.911 0.911 0.911\n",
      " 0.911 0.911 0.911 0.91  0.909 0.907]\n",
      "Power (kW) for the given flow range: [ 5851.8  6192.   6522.7  6846.   7163.7  7476.6  7785.2  8089.8  8390.2\n",
      "  8686.4  8978.2  9265.4  9547.8  9824.7 10094.9 10356.2 10604.5 10833.3]\n"
     ]
    }
   ],
   "source": [
    "# 2.3) Exploring additional options:\n",
    "# Using Hazen-Williams for head loss calculation and \n",
    "# a concrete penstock\n",
    "\n",
    "# 1.1) Exploring additional options:\n",
    "#  Selecting a diffrent material for the penstock\n",
    "flow = 8000 # cfs\n",
    "head = 20 # ft\n",
    "power = None\n",
    "penstock_length = 50 # ft\n",
    "hp_type = 'Diversion'\n",
    "headloss_method= \"Hazen-Williams\"\n",
    "penstock_material = 'Concrete'\n",
    "\n",
    "hp = calculate_hp_potential(flow= flow, rated_power= power, head= head,\n",
    "                           hydropower_type= hp_type, penstock_length= penstock_length,\n",
    "                           penstock_headloss_calculation= True,\n",
    "                           penstock_headloss_method= headloss_method, penstock_material= penstock_material)\n",
    "\n",
    "# Explore output\n",
    "print('Design flow (cfs):', hp.design_flow)\n",
    "print('Head_loss at design flow (ft):', round(hp.penstock_design_headloss, 2))\n",
    "print('Turbine type:', hp.turbine_type)\n",
    "print('Rated Power (Kw):', round(hp.rated_power, 2))\n",
    "print('Net head (ft):', round(hp.net_head, 2))\n",
    "print('Generator Efficiency:',hp.generator_efficiency)\n",
    "print('Head Loss method:',hp.penstock_headloss_method)\n",
    "print('Penstock length (ft):', hp.penstock_length)\n",
    "print('Penstock diameter (ft):', round(hp.penstock_diameter, 2))\n",
    "print('Runner diameter (ft):', round(hp.runner_diameter, 2))\n",
    "\n",
    "print('\\nFlow range evaluated (cfs):', np.round(hp.flow, 1))\n",
    "print('Turbine Efficiency for the given flow range:', np.round(hp.turbine_efficiency ,3))\n",
    "print('Power (kW) for the given flow range:', np.round(hp.power, 1))"
   ]
  },
  {
   "cell_type": "code",
   "execution_count": 8,
   "metadata": {},
   "outputs": [
    {
     "name": "stdout",
     "output_type": "stream",
     "text": [
      "Design flow (cfs): 8000.0\n",
      "Head_loss at design flow (ft): 2.0\n",
      "Turbine type: Kaplan\n",
      "Rated Power (Kw): 10885.57\n",
      "Net head (ft): 18.0\n",
      "Generator Efficiency: 0.98\n",
      "Head Loss method: Hazen-Williams\n",
      "Penstock length (ft): 50.0\n",
      "Penstock diameter (ft): 14.1\n",
      "Runner diameter (ft): 17.49\n",
      "\n",
      "Flow range evaluated (cfs): [4000.  4235.3 4470.6 4705.9 4941.2 5176.5 5411.8 5647.1 5882.4 6117.6\n",
      " 6352.9 6588.2 6823.5 7058.8 7294.1 7529.4 7764.7 8000. ]\n",
      "Turbine Efficiency for the given flow range: [0.907 0.909 0.91  0.911 0.911 0.911 0.911 0.911 0.911 0.911 0.911 0.911\n",
      " 0.911 0.911 0.911 0.91  0.909 0.907]\n",
      "Power (kW) for the given flow range: [ 5851.8  6192.   6522.7  6846.   7163.7  7476.6  7785.2  8089.8  8390.2\n",
      "  8686.4  8978.2  9265.4  9547.8  9824.7 10094.9 10356.2 10604.5 10833.3]\n"
     ]
    }
   ],
   "source": [
    "# 2.4) Exploring additional options:\n",
    "#  Using Hazen-Williams for head loss calculation and\n",
    "# using a diffrent C value\n",
    "# Note: editing hydraulic_processing.py allows adding materials that can be called by name.\n",
    "\n",
    "flow = 8000 # cfs\n",
    "head = 20 # ft\n",
    "power = None\n",
    "penstock_length = 50 # ft\n",
    "hp_type = 'Diversion'\n",
    "headloss_method= \"Hazen-Williams\"\n",
    "C = 100 # Hazen_williamns C\n",
    "\n",
    "hp = calculate_hp_potential(flow= flow, rated_power= power, head= head,\n",
    "                           penstock_headloss_calculation= True,\n",
    "                           hydropower_type= hp_type, penstock_length= penstock_length,\n",
    "                           penstock_headloss_method= headloss_method, penstock_frictionfactor= C)\n",
    "\n",
    "# Explore output\n",
    "print('Design flow (cfs):', hp.design_flow)\n",
    "print('Head_loss at design flow (ft):', round(hp.penstock_design_headloss, 2))\n",
    "print('Turbine type:', hp.turbine_type)\n",
    "print('Rated Power (Kw):', round(hp.rated_power, 2))\n",
    "print('Net head (ft):', round(hp.net_head, 2))\n",
    "print('Generator Efficiency:',hp.generator_efficiency)\n",
    "print('Head Loss method:',hp.penstock_headloss_method)\n",
    "print('Penstock length (ft):', hp.penstock_length)\n",
    "print('Penstock diameter (ft):', round(hp.penstock_diameter, 2))\n",
    "print('Runner diameter (ft):', round(hp.runner_diameter, 2))\n",
    "\n",
    "print('\\nFlow range evaluated (cfs):', np.round(hp.flow, 1))\n",
    "print('Turbine Efficiency for the given flow range:', np.round(hp.turbine_efficiency ,3))\n",
    "print('Power (kW) for the given flow range:', np.round(hp.power, 1))"
   ]
  },
  {
   "cell_type": "code",
   "execution_count": 9,
   "metadata": {},
   "outputs": [
    {
     "name": "stdout",
     "output_type": "stream",
     "text": [
      "Design flow (cfs): 10800.0\n",
      "Head_loss at design flow (ft): 1.88\n",
      "Turbine type: Kaplan\n",
      "Rated Power (Kw): 14828.83\n",
      "Net head (ft): 18.12\n",
      "Generator Efficiency: 0.98\n",
      "Head Loss method: Darcy-Weisbach\n",
      "Penstock length (ft): 50.0\n",
      "Penstock diameter (ft): 18.73\n",
      "Runner diameter (ft): 20.16\n",
      "\n",
      "Flow range evaluated (cfs): [3260. 3270. 3250. ... 3170. 3100. 3150.]\n",
      "Turbine Efficiency for the given flow range: [0.768 0.77  0.766 ... 0.751 0.736 0.747]\n",
      "Power (kW) for the given flow range: [4118.3 4140.3 4096.2 ... 3917.7 3759.3 3872.7]\n"
     ]
    }
   ],
   "source": [
    "# 2.5) Head, power, and length of penstock are known. Multiple values of flow are available, the design flow is not known.\n",
    "# In this scenario HydroGenerate will select a turbine, compute efficiency for the given flow values,\n",
    "# design flow based on a percent of exceedance, penstock diameter (assuming steel if no material is given),\n",
    "# head loss for all flows, rater power,\n",
    "# power a given range of flow, \n",
    "\n",
    "flow = pd.read_csv('data_test.csv')['discharge_cfs'].to_numpy() # cfs\n",
    "head = 20 # ft\n",
    "power = None\n",
    "penstock_length = 50 # ft\n",
    "hp_type = 'Diversion'\n",
    "pctime_runfull= 20 # percent of time the turbine is running full - default is 80%\n",
    "\n",
    "# Note: decreasing the percent of time the turbine will run full will result in a \n",
    "# larger system (rated power and cost)\n",
    "\n",
    "hp = calculate_hp_potential(flow= flow, rated_power= power, head= head,\n",
    "                           penstock_headloss_calculation= True,\n",
    "                           hydropower_type= hp_type, penstock_length= penstock_length,\n",
    "                           pctime_runfull= pctime_runfull)\n",
    "\n",
    "# Explore output\n",
    "print('Design flow (cfs):', hp.design_flow)\n",
    "print('Head_loss at design flow (ft):', round(hp.penstock_design_headloss, 2))\n",
    "print('Turbine type:', hp.turbine_type)\n",
    "print('Rated Power (Kw):', round(hp.rated_power, 2))\n",
    "print('Net head (ft):', round(hp.net_head, 2))\n",
    "print('Generator Efficiency:',hp.generator_efficiency)\n",
    "print('Head Loss method:',hp.penstock_headloss_method)\n",
    "print('Penstock length (ft):', hp.penstock_length)\n",
    "print('Penstock diameter (ft):', round(hp.penstock_diameter, 2))\n",
    "print('Runner diameter (ft):', round(hp.runner_diameter, 2))\n",
    "\n",
    "print('\\nFlow range evaluated (cfs):', np.round(hp.flow, 1))\n",
    "print('Turbine Efficiency for the given flow range:', np.round(hp.turbine_efficiency ,3))\n",
    "print('Power (kW) for the given flow range:', np.round(hp.power, 1))"
   ]
  },
  {
   "cell_type": "markdown",
   "metadata": {},
   "source": [
    "#### Flow as Pandas dataframe with a datetime index - Additional functionality."
   ]
  },
  {
   "cell_type": "code",
   "execution_count": 10,
   "metadata": {},
   "outputs": [
    {
     "name": "stdout",
     "output_type": "stream",
     "text": [
      "Design flow (cfs): 9620.0\n",
      "Head_loss at design flow (ft): 1.96\n",
      "Turbine type: Kaplan\n",
      "Rated Power (Kw): 13142.39\n",
      "Net head (ft): 18.04\n",
      "Generator Efficiency: 0.98\n",
      "Head Loss method: Darcy-Weisbach\n",
      "Penstock length (ft): 50.0\n",
      "Penstock diameter (ft): 17.75\n",
      "Runner diameter (ft): 19.08\n",
      "\n",
      "Resource Category: CanalConduit\n",
      "Initial Capital Cost (M$): 56.1\n",
      "Annual Operation and Maintennance (M$): 0.9\n",
      "\n",
      "Pandas dataframe output: \n",
      "                            discharge_cfs   site_id     power_kW  turbine_flow_cfs  efficiency   energy_kWh\n",
      "dateTime                                                                                                  \n",
      "2010-01-01 08:00:00+00:00         3260.0  11370500  4417.413411            3260.0    0.825791          NaN\n",
      "2010-01-01 08:15:00+00:00         3270.0  11370500  4437.662487            3270.0    0.827097  1109.415622\n",
      "2010-01-01 08:30:00+00:00         3250.0  11370500  4397.114770            3250.0    0.824469  1099.278692\n",
      "2010-01-01 08:45:00+00:00         3270.0  11370500  4437.662487            3270.0    0.827097  1109.415622\n",
      "2010-01-01 09:00:00+00:00         3270.0  11370500  4437.662487            3270.0    0.827097  1109.415622\n",
      "...                                  ...       ...          ...               ...         ...          ...\n",
      "2021-01-01 06:45:00+00:00         3100.0  11370500  4086.646847            3100.0    0.802515  1021.661712\n",
      "2021-01-01 07:00:00+00:00         3190.0  11370500  4274.278135            3190.0    0.816173  1068.569534\n",
      "2021-01-01 07:15:00+00:00         3170.0  11370500  4232.933171            3170.0    0.813268  1058.233293\n",
      "2021-01-01 07:30:00+00:00         3100.0  11370500  4086.646847            3100.0    0.802515  1021.661712\n",
      "2021-01-01 07:45:00+00:00         3150.0  11370500  4191.387888            3150.0    0.810289  1047.846972\n",
      "\n",
      "[385416 rows x 6 columns]\n",
      "Annual output: \n",
      "           annual_turbinedvolume_ft3  mean_annual_effienciency  total_annual_energy_KWh  revenue_M$  capacity_factor\n",
      "dateTime                                                                                                           \n",
      "2010                   6.605955e+06                  0.890552             8.136850e+07    4.068425         0.706769\n",
      "2011                   7.696602e+06                  0.907936             9.468480e+07    4.734240         0.822435\n",
      "2012                   6.511915e+06                  0.899117             8.102678e+07    4.051339         0.703801\n",
      "2013                   6.685759e+06                  0.901904             8.281361e+07    4.140681         0.719322\n",
      "2014                   5.637207e+06                  0.883477             6.988931e+07    3.494465         0.607061\n",
      "2015                   5.444864e+06                  0.882418             6.832364e+07    3.416182         0.593461\n",
      "2016                   6.545640e+06                  0.895130             8.106022e+07    4.053011         0.704092\n",
      "2017                   8.507096e+06                  0.909318             1.037434e+08    5.187168         0.901118\n",
      "2018                   6.269139e+06                  0.886202             7.704975e+07    3.852487         0.669257\n",
      "2019                   7.354655e+06                  0.899037             9.021813e+07    4.510907         0.783638\n",
      "2020                   6.719952e+06                  0.902407             8.339807e+07    4.169903         0.724398\n",
      "2021                   2.825733e+03                  0.805338             3.300123e+04    0.001650         0.000287\n"
     ]
    }
   ],
   "source": [
    "# 2.6) Using flow as a pandas dataframe and adding annual energy calculation\n",
    "\n",
    "# Note: When using a pandas dataframe as flow data, please set the datetime index before \n",
    "# using HydroGenerate.  (https://pandas.pydata.org/docs/reference/api/pandas.DatetimeIndex.html)\n",
    "\n",
    "flow = pd.read_csv('data_test.csv') # pandas data frame\n",
    "flow['dateTime'] = pd.to_datetime(flow['dateTime']) # preprocessing convert to datetime\n",
    "flow = flow.set_index('dateTime') # set datetime index # flolw is in cfs\n",
    "\n",
    "head = 20 # ft\n",
    "power = None\n",
    "penstock_length = 50 # ft\n",
    "hp_type = 'Diversion' \n",
    "\n",
    "hp = calculate_hp_potential(flow= flow, rated_power= power, head= head,\n",
    "                            pctime_runfull = 30,\n",
    "                            penstock_headloss_calculation= True,\n",
    "                            design_flow= None,\n",
    "                            electricity_sell_price = 0.05,\n",
    "                            resource_category= 'CanalConduit',\n",
    "                            hydropower_type= hp_type, penstock_length= penstock_length,\n",
    "                            flow_column= 'discharge_cfs', annual_caclulation= True)\n",
    "\n",
    "pd.set_option('display.max_columns', 10) # \n",
    "pd.set_option('display.width', 1000)\n",
    "\n",
    "# Explore output\n",
    "print('Design flow (cfs):', hp.design_flow)\n",
    "print('Head_loss at design flow (ft):', round(hp.penstock_design_headloss, 2))\n",
    "print('Turbine type:', hp.turbine_type)\n",
    "print('Rated Power (Kw):', round(hp.rated_power, 2))\n",
    "print('Net head (ft):', round(hp.net_head, 2))\n",
    "print('Generator Efficiency:',hp.generator_efficiency)\n",
    "print('Head Loss method:',hp.penstock_headloss_method)\n",
    "print('Penstock length (ft):', hp.penstock_length)\n",
    "print('Penstock diameter (ft):', round(hp.penstock_diameter,2))\n",
    "print('Runner diameter (ft):', round(hp.runner_diameter,2))\n",
    "\n",
    "print('\\nResource Category:', hp.resource_category)\n",
    "print('Initial Capital Cost (M$):', np.round(hp.icc,1))\n",
    "print('Annual Operation and Maintennance (M$):', np.round(hp.annual_om,1))\n",
    "\n",
    "print('\\nPandas dataframe output: \\n', hp.dataframe_output)\n",
    "print('Annual output: \\n', hp.annual_dataframe_output)"
   ]
  },
  {
   "cell_type": "code",
   "execution_count": 11,
   "metadata": {},
   "outputs": [
    {
     "data": {
      "image/png": "[encoded data removed]",
      "text/plain": [
       "<Figure size 432x288 with 2 Axes>"
      ]
     },
     "metadata": {
      "needs_background": "light"
     },
     "output_type": "display_data"
    }
   ],
   "source": [
    "# Plot results\n",
    "# Columns:  discharge_cfs   site_id     power_kW  efficiency   energy_kWh\n",
    "\n",
    "df = hp.dataframe_output.copy()\n",
    "fig, ax1 = plt.subplots()\n",
    "\n",
    "\n",
    "color = 'tab:red'\n",
    "ax1.set_xlabel('Days')\n",
    "ax1.set_ylabel('Flow rate (cfs)', color=color)\n",
    "ax1.plot(df['turbine_flow_cfs'], label=\"Flow rate\", color=color)\n",
    "ax1.tick_params(axis='y', labelcolor=color)\n",
    "\n",
    "ax2 = ax1.twinx()  # instantiate a second axes that shares the same x-axis\n",
    "color = 'tab:blue'\n",
    "ax2.set_ylabel('Power (kW)', color=color)  # we already handled the x-label with ax1\n",
    "ax2.plot(df['power_kW'],'b-',label=\"Power\", color=color)\n",
    "ax2.tick_params(axis='y', labelcolor=color)\n",
    "ax1.grid(True, axis='both', color='k',linestyle='--',alpha=0.4)\n",
    "plt.title(\"Yearly flow data from USGS and potential power\")\n",
    "fig.tight_layout()  # otherwise the right y-label is slightly clipped\n",
    "#plt.savefig(os.path.join('..','fig','usgs_twin_falls_flow_power.jpg'))\n",
    "plt.show()"
   ]
  },
  {
   "cell_type": "code",
   "execution_count": 13,
   "metadata": {},
   "outputs": [
    {
     "name": "stdout",
     "output_type": "stream",
     "text": [
      "https://waterservices.usgs.gov/nwis/iv/?format=json&sites=05487520&startDT=2010-01-01&endDT=2020-12-30&parameterCd=00060&siteStatus=all\n"
     ]
    },
    {
     "ename": "ConnectionError",
     "evalue": "HTTPSConnectionPool(host='nwis.waterservices.usgs.gov', port=443): Max retries exceeded with url: /nwis/iv/?format=json&sites=05487520&startDT=2010-01-01&endDT=2020-12-30&parameterCd=00060&siteStatus=all (Caused by NewConnectionError('<urllib3.connection.HTTPSConnection object at 0x000001EF5A973588>: Failed to establish a new connection: [Errno 11002] getaddrinfo failed',))",
     "output_type": "error",
     "traceback": [
      "\u001b[1;31m---------------------------------------------------------------------------\u001b[0m",
      "\u001b[1;31mgaierror\u001b[0m                                  Traceback (most recent call last)",
      "\u001b[1;32mc:\\Users\\BASTC\\Anaconda3\\envs\\hat-env\\lib\\site-packages\\urllib3\\connection.py\u001b[0m in \u001b[0;36m_new_conn\u001b[1;34m(self)\u001b[0m\n\u001b[0;32m    174\u001b[0m             conn = connection.create_connection(\n\u001b[1;32m--> 175\u001b[1;33m                 \u001b[1;33m(\u001b[0m\u001b[0mself\u001b[0m\u001b[1;33m.\u001b[0m\u001b[0m_dns_host\u001b[0m\u001b[1;33m,\u001b[0m \u001b[0mself\u001b[0m\u001b[1;33m.\u001b[0m\u001b[0mport\u001b[0m\u001b[1;33m)\u001b[0m\u001b[1;33m,\u001b[0m \u001b[0mself\u001b[0m\u001b[1;33m.\u001b[0m\u001b[0mtimeout\u001b[0m\u001b[1;33m,\u001b[0m \u001b[1;33m**\u001b[0m\u001b[0mextra_kw\u001b[0m\u001b[1;33m\u001b[0m\u001b[1;33m\u001b[0m\u001b[0m\n\u001b[0m\u001b[0;32m    176\u001b[0m             )\n",
      "\u001b[1;32mc:\\Users\\BASTC\\Anaconda3\\envs\\hat-env\\lib\\site-packages\\urllib3\\util\\connection.py\u001b[0m in \u001b[0;36mcreate_connection\u001b[1;34m(address, timeout, source_address, socket_options)\u001b[0m\n\u001b[0;32m     71\u001b[0m \u001b[1;33m\u001b[0m\u001b[0m\n\u001b[1;32m---> 72\u001b[1;33m     \u001b[1;32mfor\u001b[0m \u001b[0mres\u001b[0m \u001b[1;32min\u001b[0m \u001b[0msocket\u001b[0m\u001b[1;33m.\u001b[0m\u001b[0mgetaddrinfo\u001b[0m\u001b[1;33m(\u001b[0m\u001b[0mhost\u001b[0m\u001b[1;33m,\u001b[0m \u001b[0mport\u001b[0m\u001b[1;33m,\u001b[0m \u001b[0mfamily\u001b[0m\u001b[1;33m,\u001b[0m \u001b[0msocket\u001b[0m\u001b[1;33m.\u001b[0m\u001b[0mSOCK_STREAM\u001b[0m\u001b[1;33m)\u001b[0m\u001b[1;33m:\u001b[0m\u001b[1;33m\u001b[0m\u001b[1;33m\u001b[0m\u001b[0m\n\u001b[0m\u001b[0;32m     73\u001b[0m         \u001b[0maf\u001b[0m\u001b[1;33m,\u001b[0m \u001b[0msocktype\u001b[0m\u001b[1;33m,\u001b[0m \u001b[0mproto\u001b[0m\u001b[1;33m,\u001b[0m \u001b[0mcanonname\u001b[0m\u001b[1;33m,\u001b[0m \u001b[0msa\u001b[0m \u001b[1;33m=\u001b[0m \u001b[0mres\u001b[0m\u001b[1;33m\u001b[0m\u001b[1;33m\u001b[0m\u001b[0m\n",
      "\u001b[1;32mc:\\Users\\BASTC\\Anaconda3\\envs\\hat-env\\lib\\socket.py\u001b[0m in \u001b[0;36mgetaddrinfo\u001b[1;34m(host, port, family, type, proto, flags)\u001b[0m\n\u001b[0;32m    744\u001b[0m     \u001b[0maddrlist\u001b[0m \u001b[1;33m=\u001b[0m \u001b[1;33m[\u001b[0m\u001b[1;33m]\u001b[0m\u001b[1;33m\u001b[0m\u001b[1;33m\u001b[0m\u001b[0m\n\u001b[1;32m--> 745\u001b[1;33m     \u001b[1;32mfor\u001b[0m \u001b[0mres\u001b[0m \u001b[1;32min\u001b[0m \u001b[0m_socket\u001b[0m\u001b[1;33m.\u001b[0m\u001b[0mgetaddrinfo\u001b[0m\u001b[1;33m(\u001b[0m\u001b[0mhost\u001b[0m\u001b[1;33m,\u001b[0m \u001b[0mport\u001b[0m\u001b[1;33m,\u001b[0m \u001b[0mfamily\u001b[0m\u001b[1;33m,\u001b[0m \u001b[0mtype\u001b[0m\u001b[1;33m,\u001b[0m \u001b[0mproto\u001b[0m\u001b[1;33m,\u001b[0m \u001b[0mflags\u001b[0m\u001b[1;33m)\u001b[0m\u001b[1;33m:\u001b[0m\u001b[1;33m\u001b[0m\u001b[1;33m\u001b[0m\u001b[0m\n\u001b[0m\u001b[0;32m    746\u001b[0m         \u001b[0maf\u001b[0m\u001b[1;33m,\u001b[0m \u001b[0msocktype\u001b[0m\u001b[1;33m,\u001b[0m \u001b[0mproto\u001b[0m\u001b[1;33m,\u001b[0m \u001b[0mcanonname\u001b[0m\u001b[1;33m,\u001b[0m \u001b[0msa\u001b[0m \u001b[1;33m=\u001b[0m \u001b[0mres\u001b[0m\u001b[1;33m\u001b[0m\u001b[1;33m\u001b[0m\u001b[0m\n",
      "\u001b[1;31mgaierror\u001b[0m: [Errno 11002] getaddrinfo failed",
      "\nDuring handling of the above exception, another exception occurred:\n",
      "\u001b[1;31mNewConnectionError\u001b[0m                        Traceback (most recent call last)",
      "\u001b[1;32mc:\\Users\\BASTC\\Anaconda3\\envs\\hat-env\\lib\\site-packages\\urllib3\\connectionpool.py\u001b[0m in \u001b[0;36murlopen\u001b[1;34m(self, method, url, body, headers, retries, redirect, assert_same_host, timeout, pool_timeout, release_conn, chunked, body_pos, **response_kw)\u001b[0m\n\u001b[0;32m    709\u001b[0m                 \u001b[0mheaders\u001b[0m\u001b[1;33m=\u001b[0m\u001b[0mheaders\u001b[0m\u001b[1;33m,\u001b[0m\u001b[1;33m\u001b[0m\u001b[1;33m\u001b[0m\u001b[0m\n\u001b[1;32m--> 710\u001b[1;33m                 \u001b[0mchunked\u001b[0m\u001b[1;33m=\u001b[0m\u001b[0mchunked\u001b[0m\u001b[1;33m,\u001b[0m\u001b[1;33m\u001b[0m\u001b[1;33m\u001b[0m\u001b[0m\n\u001b[0m\u001b[0;32m    711\u001b[0m             )\n",
      "\u001b[1;32mc:\\Users\\BASTC\\Anaconda3\\envs\\hat-env\\lib\\site-packages\\urllib3\\connectionpool.py\u001b[0m in \u001b[0;36m_make_request\u001b[1;34m(self, conn, method, url, timeout, chunked, **httplib_request_kw)\u001b[0m\n\u001b[0;32m    385\u001b[0m         \u001b[1;32mtry\u001b[0m\u001b[1;33m:\u001b[0m\u001b[1;33m\u001b[0m\u001b[1;33m\u001b[0m\u001b[0m\n\u001b[1;32m--> 386\u001b[1;33m             \u001b[0mself\u001b[0m\u001b[1;33m.\u001b[0m\u001b[0m_validate_conn\u001b[0m\u001b[1;33m(\u001b[0m\u001b[0mconn\u001b[0m\u001b[1;33m)\u001b[0m\u001b[1;33m\u001b[0m\u001b[1;33m\u001b[0m\u001b[0m\n\u001b[0m\u001b[0;32m    387\u001b[0m         \u001b[1;32mexcept\u001b[0m \u001b[1;33m(\u001b[0m\u001b[0mSocketTimeout\u001b[0m\u001b[1;33m,\u001b[0m \u001b[0mBaseSSLError\u001b[0m\u001b[1;33m)\u001b[0m \u001b[1;32mas\u001b[0m \u001b[0me\u001b[0m\u001b[1;33m:\u001b[0m\u001b[1;33m\u001b[0m\u001b[1;33m\u001b[0m\u001b[0m\n",
      "\u001b[1;32mc:\\Users\\BASTC\\Anaconda3\\envs\\hat-env\\lib\\site-packages\\urllib3\\connectionpool.py\u001b[0m in \u001b[0;36m_validate_conn\u001b[1;34m(self, conn)\u001b[0m\n\u001b[0;32m   1041\u001b[0m         \u001b[1;32mif\u001b[0m \u001b[1;32mnot\u001b[0m \u001b[0mgetattr\u001b[0m\u001b[1;33m(\u001b[0m\u001b[0mconn\u001b[0m\u001b[1;33m,\u001b[0m \u001b[1;34m\"sock\"\u001b[0m\u001b[1;33m,\u001b[0m \u001b[1;32mNone\u001b[0m\u001b[1;33m)\u001b[0m\u001b[1;33m:\u001b[0m  \u001b[1;31m# AppEngine might not have  `.sock`\u001b[0m\u001b[1;33m\u001b[0m\u001b[1;33m\u001b[0m\u001b[0m\n\u001b[1;32m-> 1042\u001b[1;33m             \u001b[0mconn\u001b[0m\u001b[1;33m.\u001b[0m\u001b[0mconnect\u001b[0m\u001b[1;33m(\u001b[0m\u001b[1;33m)\u001b[0m\u001b[1;33m\u001b[0m\u001b[1;33m\u001b[0m\u001b[0m\n\u001b[0m\u001b[0;32m   1043\u001b[0m \u001b[1;33m\u001b[0m\u001b[0m\n",
      "\u001b[1;32mc:\\Users\\BASTC\\Anaconda3\\envs\\hat-env\\lib\\site-packages\\urllib3\\connection.py\u001b[0m in \u001b[0;36mconnect\u001b[1;34m(self)\u001b[0m\n\u001b[0;32m    357\u001b[0m         \u001b[1;31m# Add certificate verification\u001b[0m\u001b[1;33m\u001b[0m\u001b[1;33m\u001b[0m\u001b[1;33m\u001b[0m\u001b[0m\n\u001b[1;32m--> 358\u001b[1;33m         \u001b[0mself\u001b[0m\u001b[1;33m.\u001b[0m\u001b[0msock\u001b[0m \u001b[1;33m=\u001b[0m \u001b[0mconn\u001b[0m \u001b[1;33m=\u001b[0m \u001b[0mself\u001b[0m\u001b[1;33m.\u001b[0m\u001b[0m_new_conn\u001b[0m\u001b[1;33m(\u001b[0m\u001b[1;33m)\u001b[0m\u001b[1;33m\u001b[0m\u001b[1;33m\u001b[0m\u001b[0m\n\u001b[0m\u001b[0;32m    359\u001b[0m         \u001b[0mhostname\u001b[0m \u001b[1;33m=\u001b[0m \u001b[0mself\u001b[0m\u001b[1;33m.\u001b[0m\u001b[0mhost\u001b[0m\u001b[1;33m\u001b[0m\u001b[1;33m\u001b[0m\u001b[0m\n",
      "\u001b[1;32mc:\\Users\\BASTC\\Anaconda3\\envs\\hat-env\\lib\\site-packages\\urllib3\\connection.py\u001b[0m in \u001b[0;36m_new_conn\u001b[1;34m(self)\u001b[0m\n\u001b[0;32m    186\u001b[0m             raise NewConnectionError(\n\u001b[1;32m--> 187\u001b[1;33m                 \u001b[0mself\u001b[0m\u001b[1;33m,\u001b[0m \u001b[1;34m\"Failed to establish a new connection: %s\"\u001b[0m \u001b[1;33m%\u001b[0m \u001b[0me\u001b[0m\u001b[1;33m\u001b[0m\u001b[1;33m\u001b[0m\u001b[0m\n\u001b[0m\u001b[0;32m    188\u001b[0m             )\n",
      "\u001b[1;31mNewConnectionError\u001b[0m: <urllib3.connection.HTTPSConnection object at 0x000001EF5A973588>: Failed to establish a new connection: [Errno 11002] getaddrinfo failed",
      "\nDuring handling of the above exception, another exception occurred:\n",
      "\u001b[1;31mMaxRetryError\u001b[0m                             Traceback (most recent call last)",
      "\u001b[1;32mc:\\Users\\BASTC\\Anaconda3\\envs\\hat-env\\lib\\site-packages\\requests\\adapters.py\u001b[0m in \u001b[0;36msend\u001b[1;34m(self, request, stream, timeout, verify, cert, proxies)\u001b[0m\n\u001b[0;32m    449\u001b[0m                     \u001b[0mretries\u001b[0m\u001b[1;33m=\u001b[0m\u001b[0mself\u001b[0m\u001b[1;33m.\u001b[0m\u001b[0mmax_retries\u001b[0m\u001b[1;33m,\u001b[0m\u001b[1;33m\u001b[0m\u001b[1;33m\u001b[0m\u001b[0m\n\u001b[1;32m--> 450\u001b[1;33m                     \u001b[0mtimeout\u001b[0m\u001b[1;33m=\u001b[0m\u001b[0mtimeout\u001b[0m\u001b[1;33m\u001b[0m\u001b[1;33m\u001b[0m\u001b[0m\n\u001b[0m\u001b[0;32m    451\u001b[0m                 )\n",
      "\u001b[1;32mc:\\Users\\BASTC\\Anaconda3\\envs\\hat-env\\lib\\site-packages\\urllib3\\connectionpool.py\u001b[0m in \u001b[0;36murlopen\u001b[1;34m(self, method, url, body, headers, retries, redirect, assert_same_host, timeout, pool_timeout, release_conn, chunked, body_pos, **response_kw)\u001b[0m\n\u001b[0;32m    787\u001b[0m             retries = retries.increment(\n\u001b[1;32m--> 788\u001b[1;33m                 \u001b[0mmethod\u001b[0m\u001b[1;33m,\u001b[0m \u001b[0murl\u001b[0m\u001b[1;33m,\u001b[0m \u001b[0merror\u001b[0m\u001b[1;33m=\u001b[0m\u001b[0me\u001b[0m\u001b[1;33m,\u001b[0m \u001b[0m_pool\u001b[0m\u001b[1;33m=\u001b[0m\u001b[0mself\u001b[0m\u001b[1;33m,\u001b[0m \u001b[0m_stacktrace\u001b[0m\u001b[1;33m=\u001b[0m\u001b[0msys\u001b[0m\u001b[1;33m.\u001b[0m\u001b[0mexc_info\u001b[0m\u001b[1;33m(\u001b[0m\u001b[1;33m)\u001b[0m\u001b[1;33m[\u001b[0m\u001b[1;36m2\u001b[0m\u001b[1;33m]\u001b[0m\u001b[1;33m\u001b[0m\u001b[1;33m\u001b[0m\u001b[0m\n\u001b[0m\u001b[0;32m    789\u001b[0m             )\n",
      "\u001b[1;32mc:\\Users\\BASTC\\Anaconda3\\envs\\hat-env\\lib\\site-packages\\urllib3\\util\\retry.py\u001b[0m in \u001b[0;36mincrement\u001b[1;34m(self, method, url, response, error, _pool, _stacktrace)\u001b[0m\n\u001b[0;32m    591\u001b[0m         \u001b[1;32mif\u001b[0m \u001b[0mnew_retry\u001b[0m\u001b[1;33m.\u001b[0m\u001b[0mis_exhausted\u001b[0m\u001b[1;33m(\u001b[0m\u001b[1;33m)\u001b[0m\u001b[1;33m:\u001b[0m\u001b[1;33m\u001b[0m\u001b[1;33m\u001b[0m\u001b[0m\n\u001b[1;32m--> 592\u001b[1;33m             \u001b[1;32mraise\u001b[0m \u001b[0mMaxRetryError\u001b[0m\u001b[1;33m(\u001b[0m\u001b[0m_pool\u001b[0m\u001b[1;33m,\u001b[0m \u001b[0murl\u001b[0m\u001b[1;33m,\u001b[0m \u001b[0merror\u001b[0m \u001b[1;32mor\u001b[0m \u001b[0mResponseError\u001b[0m\u001b[1;33m(\u001b[0m\u001b[0mcause\u001b[0m\u001b[1;33m)\u001b[0m\u001b[1;33m)\u001b[0m\u001b[1;33m\u001b[0m\u001b[1;33m\u001b[0m\u001b[0m\n\u001b[0m\u001b[0;32m    593\u001b[0m \u001b[1;33m\u001b[0m\u001b[0m\n",
      "\u001b[1;31mMaxRetryError\u001b[0m: HTTPSConnectionPool(host='nwis.waterservices.usgs.gov', port=443): Max retries exceeded with url: /nwis/iv/?format=json&sites=05487520&startDT=2010-01-01&endDT=2020-12-30&parameterCd=00060&siteStatus=all (Caused by NewConnectionError('<urllib3.connection.HTTPSConnection object at 0x000001EF5A973588>: Failed to establish a new connection: [Errno 11002] getaddrinfo failed',))",
      "\nDuring handling of the above exception, another exception occurred:\n",
      "\u001b[1;31mConnectionError\u001b[0m                           Traceback (most recent call last)",
      "\u001b[1;32m<ipython-input-13-4f0cd2970b3a>\u001b[0m in \u001b[0;36m<module>\u001b[1;34m\u001b[0m\n\u001b[0;32m      9\u001b[0m \u001b[1;33m\u001b[0m\u001b[0m\n\u001b[0;32m     10\u001b[0m \u001b[1;31m# Call the get_data method. Note that the id_type has been set to 'sites'\u001b[0m\u001b[1;33m\u001b[0m\u001b[1;33m\u001b[0m\u001b[1;33m\u001b[0m\u001b[0m\n\u001b[1;32m---> 11\u001b[1;33m \u001b[0mflow_info\u001b[0m \u001b[1;33m=\u001b[0m \u001b[0mget_data\u001b[0m\u001b[1;33m(\u001b[0m\u001b[0mquery\u001b[0m\u001b[1;33m,\u001b[0m \u001b[0mid_type\u001b[0m\u001b[1;33m=\u001b[0m\u001b[1;34m'sites'\u001b[0m\u001b[1;33m,\u001b[0m \u001b[0mpath\u001b[0m\u001b[1;33m=\u001b[0m\u001b[1;34m'../data_test_1.csv'\u001b[0m\u001b[1;33m)\u001b[0m\u001b[1;33m\u001b[0m\u001b[1;33m\u001b[0m\u001b[0m\n\u001b[0m\u001b[0;32m     12\u001b[0m \u001b[1;33m\u001b[0m\u001b[0m\n\u001b[0;32m     13\u001b[0m \u001b[1;31m# Clean the data and make the date time column the index\u001b[0m\u001b[1;33m\u001b[0m\u001b[1;33m\u001b[0m\u001b[1;33m\u001b[0m\u001b[0m\n",
      "\u001b[1;32mc:\\users\\bastc\\documents\\projects\\irrigationmodernization\\github\\hydrogenerate\\hat\\api_call.py\u001b[0m in \u001b[0;36mget_data\u001b[1;34m(query, format, id_type, endpoint, save_data, path)\u001b[0m\n\u001b[0;32m     48\u001b[0m             \u001b[1;31m#json_filename = os.path.join(path,f\"{query['start_date']}_{query['end_date']}.json\")\u001b[0m\u001b[1;33m\u001b[0m\u001b[1;33m\u001b[0m\u001b[1;33m\u001b[0m\u001b[0m\n\u001b[0;32m     49\u001b[0m         \u001b[0mprint\u001b[0m\u001b[1;33m(\u001b[0m\u001b[0mbase_url\u001b[0m\u001b[1;33m)\u001b[0m\u001b[1;33m\u001b[0m\u001b[1;33m\u001b[0m\u001b[0m\n\u001b[1;32m---> 50\u001b[1;33m         \u001b[0mresponse\u001b[0m \u001b[1;33m=\u001b[0m \u001b[0mrequests\u001b[0m\u001b[1;33m.\u001b[0m\u001b[0mget\u001b[0m\u001b[1;33m(\u001b[0m\u001b[0mbase_url\u001b[0m\u001b[1;33m,\u001b[0m \u001b[0mverify\u001b[0m\u001b[1;33m=\u001b[0m\u001b[1;32mFalse\u001b[0m\u001b[1;33m)\u001b[0m\u001b[1;33m\u001b[0m\u001b[1;33m\u001b[0m\u001b[0m\n\u001b[0m\u001b[0;32m     51\u001b[0m \u001b[1;33m\u001b[0m\u001b[0m\n\u001b[0;32m     52\u001b[0m         \u001b[1;32mif\u001b[0m \u001b[0mresponse\u001b[0m\u001b[1;33m:\u001b[0m\u001b[1;33m\u001b[0m\u001b[1;33m\u001b[0m\u001b[0m\n",
      "\u001b[1;32mc:\\Users\\BASTC\\Anaconda3\\envs\\hat-env\\lib\\site-packages\\requests\\api.py\u001b[0m in \u001b[0;36mget\u001b[1;34m(url, params, **kwargs)\u001b[0m\n\u001b[0;32m     73\u001b[0m     \"\"\"\n\u001b[0;32m     74\u001b[0m \u001b[1;33m\u001b[0m\u001b[0m\n\u001b[1;32m---> 75\u001b[1;33m     \u001b[1;32mreturn\u001b[0m \u001b[0mrequest\u001b[0m\u001b[1;33m(\u001b[0m\u001b[1;34m'get'\u001b[0m\u001b[1;33m,\u001b[0m \u001b[0murl\u001b[0m\u001b[1;33m,\u001b[0m \u001b[0mparams\u001b[0m\u001b[1;33m=\u001b[0m\u001b[0mparams\u001b[0m\u001b[1;33m,\u001b[0m \u001b[1;33m**\u001b[0m\u001b[0mkwargs\u001b[0m\u001b[1;33m)\u001b[0m\u001b[1;33m\u001b[0m\u001b[1;33m\u001b[0m\u001b[0m\n\u001b[0m\u001b[0;32m     76\u001b[0m \u001b[1;33m\u001b[0m\u001b[0m\n\u001b[0;32m     77\u001b[0m \u001b[1;33m\u001b[0m\u001b[0m\n",
      "\u001b[1;32mc:\\Users\\BASTC\\Anaconda3\\envs\\hat-env\\lib\\site-packages\\requests\\api.py\u001b[0m in \u001b[0;36mrequest\u001b[1;34m(method, url, **kwargs)\u001b[0m\n\u001b[0;32m     59\u001b[0m     \u001b[1;31m# cases, and look like a memory leak in others.\u001b[0m\u001b[1;33m\u001b[0m\u001b[1;33m\u001b[0m\u001b[1;33m\u001b[0m\u001b[0m\n\u001b[0;32m     60\u001b[0m     \u001b[1;32mwith\u001b[0m \u001b[0msessions\u001b[0m\u001b[1;33m.\u001b[0m\u001b[0mSession\u001b[0m\u001b[1;33m(\u001b[0m\u001b[1;33m)\u001b[0m \u001b[1;32mas\u001b[0m \u001b[0msession\u001b[0m\u001b[1;33m:\u001b[0m\u001b[1;33m\u001b[0m\u001b[1;33m\u001b[0m\u001b[0m\n\u001b[1;32m---> 61\u001b[1;33m         \u001b[1;32mreturn\u001b[0m \u001b[0msession\u001b[0m\u001b[1;33m.\u001b[0m\u001b[0mrequest\u001b[0m\u001b[1;33m(\u001b[0m\u001b[0mmethod\u001b[0m\u001b[1;33m=\u001b[0m\u001b[0mmethod\u001b[0m\u001b[1;33m,\u001b[0m \u001b[0murl\u001b[0m\u001b[1;33m=\u001b[0m\u001b[0murl\u001b[0m\u001b[1;33m,\u001b[0m \u001b[1;33m**\u001b[0m\u001b[0mkwargs\u001b[0m\u001b[1;33m)\u001b[0m\u001b[1;33m\u001b[0m\u001b[1;33m\u001b[0m\u001b[0m\n\u001b[0m\u001b[0;32m     62\u001b[0m \u001b[1;33m\u001b[0m\u001b[0m\n\u001b[0;32m     63\u001b[0m \u001b[1;33m\u001b[0m\u001b[0m\n",
      "\u001b[1;32mc:\\Users\\BASTC\\Anaconda3\\envs\\hat-env\\lib\\site-packages\\requests\\sessions.py\u001b[0m in \u001b[0;36mrequest\u001b[1;34m(self, method, url, params, data, headers, cookies, files, auth, timeout, allow_redirects, proxies, hooks, stream, verify, cert, json)\u001b[0m\n\u001b[0;32m    527\u001b[0m         }\n\u001b[0;32m    528\u001b[0m         \u001b[0msend_kwargs\u001b[0m\u001b[1;33m.\u001b[0m\u001b[0mupdate\u001b[0m\u001b[1;33m(\u001b[0m\u001b[0msettings\u001b[0m\u001b[1;33m)\u001b[0m\u001b[1;33m\u001b[0m\u001b[1;33m\u001b[0m\u001b[0m\n\u001b[1;32m--> 529\u001b[1;33m         \u001b[0mresp\u001b[0m \u001b[1;33m=\u001b[0m \u001b[0mself\u001b[0m\u001b[1;33m.\u001b[0m\u001b[0msend\u001b[0m\u001b[1;33m(\u001b[0m\u001b[0mprep\u001b[0m\u001b[1;33m,\u001b[0m \u001b[1;33m**\u001b[0m\u001b[0msend_kwargs\u001b[0m\u001b[1;33m)\u001b[0m\u001b[1;33m\u001b[0m\u001b[1;33m\u001b[0m\u001b[0m\n\u001b[0m\u001b[0;32m    530\u001b[0m \u001b[1;33m\u001b[0m\u001b[0m\n\u001b[0;32m    531\u001b[0m         \u001b[1;32mreturn\u001b[0m \u001b[0mresp\u001b[0m\u001b[1;33m\u001b[0m\u001b[1;33m\u001b[0m\u001b[0m\n",
      "\u001b[1;32mc:\\Users\\BASTC\\Anaconda3\\envs\\hat-env\\lib\\site-packages\\requests\\sessions.py\u001b[0m in \u001b[0;36msend\u001b[1;34m(self, request, **kwargs)\u001b[0m\n\u001b[0;32m    665\u001b[0m             \u001b[1;31m# Redirect resolving generator.\u001b[0m\u001b[1;33m\u001b[0m\u001b[1;33m\u001b[0m\u001b[1;33m\u001b[0m\u001b[0m\n\u001b[0;32m    666\u001b[0m             \u001b[0mgen\u001b[0m \u001b[1;33m=\u001b[0m \u001b[0mself\u001b[0m\u001b[1;33m.\u001b[0m\u001b[0mresolve_redirects\u001b[0m\u001b[1;33m(\u001b[0m\u001b[0mr\u001b[0m\u001b[1;33m,\u001b[0m \u001b[0mrequest\u001b[0m\u001b[1;33m,\u001b[0m \u001b[1;33m**\u001b[0m\u001b[0mkwargs\u001b[0m\u001b[1;33m)\u001b[0m\u001b[1;33m\u001b[0m\u001b[1;33m\u001b[0m\u001b[0m\n\u001b[1;32m--> 667\u001b[1;33m             \u001b[0mhistory\u001b[0m \u001b[1;33m=\u001b[0m \u001b[1;33m[\u001b[0m\u001b[0mresp\u001b[0m \u001b[1;32mfor\u001b[0m \u001b[0mresp\u001b[0m \u001b[1;32min\u001b[0m \u001b[0mgen\u001b[0m\u001b[1;33m]\u001b[0m\u001b[1;33m\u001b[0m\u001b[1;33m\u001b[0m\u001b[0m\n\u001b[0m\u001b[0;32m    668\u001b[0m         \u001b[1;32melse\u001b[0m\u001b[1;33m:\u001b[0m\u001b[1;33m\u001b[0m\u001b[1;33m\u001b[0m\u001b[0m\n\u001b[0;32m    669\u001b[0m             \u001b[0mhistory\u001b[0m \u001b[1;33m=\u001b[0m \u001b[1;33m[\u001b[0m\u001b[1;33m]\u001b[0m\u001b[1;33m\u001b[0m\u001b[1;33m\u001b[0m\u001b[0m\n",
      "\u001b[1;32mc:\\Users\\BASTC\\Anaconda3\\envs\\hat-env\\lib\\site-packages\\requests\\sessions.py\u001b[0m in \u001b[0;36m<listcomp>\u001b[1;34m(.0)\u001b[0m\n\u001b[0;32m    665\u001b[0m             \u001b[1;31m# Redirect resolving generator.\u001b[0m\u001b[1;33m\u001b[0m\u001b[1;33m\u001b[0m\u001b[1;33m\u001b[0m\u001b[0m\n\u001b[0;32m    666\u001b[0m             \u001b[0mgen\u001b[0m \u001b[1;33m=\u001b[0m \u001b[0mself\u001b[0m\u001b[1;33m.\u001b[0m\u001b[0mresolve_redirects\u001b[0m\u001b[1;33m(\u001b[0m\u001b[0mr\u001b[0m\u001b[1;33m,\u001b[0m \u001b[0mrequest\u001b[0m\u001b[1;33m,\u001b[0m \u001b[1;33m**\u001b[0m\u001b[0mkwargs\u001b[0m\u001b[1;33m)\u001b[0m\u001b[1;33m\u001b[0m\u001b[1;33m\u001b[0m\u001b[0m\n\u001b[1;32m--> 667\u001b[1;33m             \u001b[0mhistory\u001b[0m \u001b[1;33m=\u001b[0m \u001b[1;33m[\u001b[0m\u001b[0mresp\u001b[0m \u001b[1;32mfor\u001b[0m \u001b[0mresp\u001b[0m \u001b[1;32min\u001b[0m \u001b[0mgen\u001b[0m\u001b[1;33m]\u001b[0m\u001b[1;33m\u001b[0m\u001b[1;33m\u001b[0m\u001b[0m\n\u001b[0m\u001b[0;32m    668\u001b[0m         \u001b[1;32melse\u001b[0m\u001b[1;33m:\u001b[0m\u001b[1;33m\u001b[0m\u001b[1;33m\u001b[0m\u001b[0m\n\u001b[0;32m    669\u001b[0m             \u001b[0mhistory\u001b[0m \u001b[1;33m=\u001b[0m \u001b[1;33m[\u001b[0m\u001b[1;33m]\u001b[0m\u001b[1;33m\u001b[0m\u001b[1;33m\u001b[0m\u001b[0m\n",
      "\u001b[1;32mc:\\Users\\BASTC\\Anaconda3\\envs\\hat-env\\lib\\site-packages\\requests\\sessions.py\u001b[0m in \u001b[0;36mresolve_redirects\u001b[1;34m(self, resp, req, stream, timeout, verify, cert, proxies, yield_requests, **adapter_kwargs)\u001b[0m\n\u001b[0;32m    243\u001b[0m                     \u001b[0mproxies\u001b[0m\u001b[1;33m=\u001b[0m\u001b[0mproxies\u001b[0m\u001b[1;33m,\u001b[0m\u001b[1;33m\u001b[0m\u001b[1;33m\u001b[0m\u001b[0m\n\u001b[0;32m    244\u001b[0m                     \u001b[0mallow_redirects\u001b[0m\u001b[1;33m=\u001b[0m\u001b[1;32mFalse\u001b[0m\u001b[1;33m,\u001b[0m\u001b[1;33m\u001b[0m\u001b[1;33m\u001b[0m\u001b[0m\n\u001b[1;32m--> 245\u001b[1;33m                     \u001b[1;33m**\u001b[0m\u001b[0madapter_kwargs\u001b[0m\u001b[1;33m\u001b[0m\u001b[1;33m\u001b[0m\u001b[0m\n\u001b[0m\u001b[0;32m    246\u001b[0m                 )\n\u001b[0;32m    247\u001b[0m \u001b[1;33m\u001b[0m\u001b[0m\n",
      "\u001b[1;32mc:\\Users\\BASTC\\Anaconda3\\envs\\hat-env\\lib\\site-packages\\requests\\sessions.py\u001b[0m in \u001b[0;36msend\u001b[1;34m(self, request, **kwargs)\u001b[0m\n\u001b[0;32m    643\u001b[0m \u001b[1;33m\u001b[0m\u001b[0m\n\u001b[0;32m    644\u001b[0m         \u001b[1;31m# Send the request\u001b[0m\u001b[1;33m\u001b[0m\u001b[1;33m\u001b[0m\u001b[1;33m\u001b[0m\u001b[0m\n\u001b[1;32m--> 645\u001b[1;33m         \u001b[0mr\u001b[0m \u001b[1;33m=\u001b[0m \u001b[0madapter\u001b[0m\u001b[1;33m.\u001b[0m\u001b[0msend\u001b[0m\u001b[1;33m(\u001b[0m\u001b[0mrequest\u001b[0m\u001b[1;33m,\u001b[0m \u001b[1;33m**\u001b[0m\u001b[0mkwargs\u001b[0m\u001b[1;33m)\u001b[0m\u001b[1;33m\u001b[0m\u001b[1;33m\u001b[0m\u001b[0m\n\u001b[0m\u001b[0;32m    646\u001b[0m \u001b[1;33m\u001b[0m\u001b[0m\n\u001b[0;32m    647\u001b[0m         \u001b[1;31m# Total elapsed time of the request (approximately)\u001b[0m\u001b[1;33m\u001b[0m\u001b[1;33m\u001b[0m\u001b[1;33m\u001b[0m\u001b[0m\n",
      "\u001b[1;32mc:\\Users\\BASTC\\Anaconda3\\envs\\hat-env\\lib\\site-packages\\requests\\adapters.py\u001b[0m in \u001b[0;36msend\u001b[1;34m(self, request, stream, timeout, verify, cert, proxies)\u001b[0m\n\u001b[0;32m    517\u001b[0m                 \u001b[1;32mraise\u001b[0m \u001b[0mSSLError\u001b[0m\u001b[1;33m(\u001b[0m\u001b[0me\u001b[0m\u001b[1;33m,\u001b[0m \u001b[0mrequest\u001b[0m\u001b[1;33m=\u001b[0m\u001b[0mrequest\u001b[0m\u001b[1;33m)\u001b[0m\u001b[1;33m\u001b[0m\u001b[1;33m\u001b[0m\u001b[0m\n\u001b[0;32m    518\u001b[0m \u001b[1;33m\u001b[0m\u001b[0m\n\u001b[1;32m--> 519\u001b[1;33m             \u001b[1;32mraise\u001b[0m \u001b[0mConnectionError\u001b[0m\u001b[1;33m(\u001b[0m\u001b[0me\u001b[0m\u001b[1;33m,\u001b[0m \u001b[0mrequest\u001b[0m\u001b[1;33m=\u001b[0m\u001b[0mrequest\u001b[0m\u001b[1;33m)\u001b[0m\u001b[1;33m\u001b[0m\u001b[1;33m\u001b[0m\u001b[0m\n\u001b[0m\u001b[0;32m    520\u001b[0m \u001b[1;33m\u001b[0m\u001b[0m\n\u001b[0;32m    521\u001b[0m         \u001b[1;32mexcept\u001b[0m \u001b[0mClosedPoolError\u001b[0m \u001b[1;32mas\u001b[0m \u001b[0me\u001b[0m\u001b[1;33m:\u001b[0m\u001b[1;33m\u001b[0m\u001b[1;33m\u001b[0m\u001b[0m\n",
      "\u001b[1;31mConnectionError\u001b[0m: HTTPSConnectionPool(host='nwis.waterservices.usgs.gov', port=443): Max retries exceeded with url: /nwis/iv/?format=json&sites=05487520&startDT=2010-01-01&endDT=2020-12-30&parameterCd=00060&siteStatus=all (Caused by NewConnectionError('<urllib3.connection.HTTPSConnection object at 0x000001EF5A973588>: Failed to establish a new connection: [Errno 11002] getaddrinfo failed',))"
     ]
    }
   ],
   "source": [
    "# # 2.7) Use streamflow data from a USGS stream gauge. \n",
    "# # HydroGenerate has functions to query data from USGS streamgauges\n",
    "\n",
    "# query = {}\n",
    "# # Example querying data from 'USGS 05487520 Des Moines River near Swan, IA'\n",
    "# query['id'] = '05487520'\n",
    "# query['start_date'] = '2010-01-01'\n",
    "# query['end_date'] = '2020-12-30'\n",
    "\n",
    "# # Call the get_data method. Note that the id_type has been set to 'sites'\n",
    "# flow_info = get_data(query, id_type='sites', path='../data_test_1.csv')\n",
    "\n",
    "# # Clean the data and make the date time column the index \n",
    "# flow = clean_data(flow_info[0], column_change={'Streamflow, ft&#179;/s':'discharge_cfs'}, keep_nan=True, timestamp_col='dateTime', no_data=-999999)\n",
    "# flow.head()"
   ]
  },
  {
   "cell_type": "code",
   "execution_count": 14,
   "metadata": {},
   "outputs": [
    {
     "name": "stdout",
     "output_type": "stream",
     "text": [
      "Design flow (cfs): 9620.0\n",
      "Head_loss at design flow (ft): 9.12\n",
      "Turbine type: Kaplan\n",
      "Rated Power (Kw): 71068.93\n",
      "Net head (ft): 94.88\n",
      "Generator Efficiency: 0.98\n",
      "Head Loss method: Darcy-Weisbach\n",
      "Penstock length (ft): 20.0\n",
      "Penstock diameter (ft): 10.86\n",
      "Runner diameter (ft): 19.08\n",
      "\n",
      "Pandas dataframe output: \n",
      "                            discharge_cfs   site_id      power_kW  turbine_flow_cfs  efficiency   energy_kWh\n",
      "dateTime                                                                                                   \n",
      "2010-01-01 08:00:00+00:00         3260.0  11370500  23652.092209            3260.0    0.849302          NaN\n",
      "2010-01-01 08:15:00+00:00         3270.0  11370500  23760.683673            3270.0    0.850645  5940.170918\n",
      "2010-01-01 08:30:00+00:00         3250.0  11370500  23543.237476            3250.0    0.847941  5885.809369\n",
      "2010-01-01 08:45:00+00:00         3270.0  11370500  23760.683673            3270.0    0.850645  5940.170918\n",
      "2010-01-01 09:00:00+00:00         3270.0  11370500  23760.683673            3270.0    0.850645  5940.170918\n",
      "...                                  ...       ...           ...               ...         ...          ...\n",
      "2021-01-01 06:45:00+00:00         3100.0  11370500  21878.606246            3100.0    0.825363  5469.651562\n",
      "2021-01-01 07:00:00+00:00         3190.0  11370500  22884.559379            3190.0    0.839410  5721.139845\n",
      "2021-01-01 07:15:00+00:00         3170.0  11370500  22662.878268            3170.0    0.836421  5665.719567\n",
      "2021-01-01 07:30:00+00:00         3100.0  11370500  21878.606246            3100.0    0.825363  5469.651562\n",
      "2021-01-01 07:45:00+00:00         3150.0  11370500  22440.132989            3150.0    0.833358  5610.033247\n",
      "\n",
      "[385416 rows x 6 columns]\n",
      "Annual output: \n",
      "           annual_turbinedvolume_ft3  mean_annual_effienciency  total_annual_energy_KWh  revenue_M$  capacity_factor\n",
      "dateTime                                                                                                           \n",
      "2010                   6.605955e+06                  0.915906             4.383324e+08    4.865490         0.704076\n",
      "2011                   7.696602e+06                  0.933785             5.106754e+08    5.668497         0.820278\n",
      "2012                   6.511915e+06                  0.924715             4.363902e+08    4.843931         0.700957\n",
      "2013                   6.685759e+06                  0.927581             4.461188e+08    4.951918         0.716583\n",
      "2014                   5.637207e+06                  0.908629             3.759601e+08    4.173157         0.603890\n",
      "2015                   5.444864e+06                  0.907541             3.670730e+08    4.074510         0.589615\n",
      "2016                   6.545640e+06                  0.920615             4.365411e+08    4.845606         0.701199\n",
      "2017                   8.507096e+06                  0.935207             5.601841e+08    6.218043         0.899802\n",
      "2018                   6.269139e+06                  0.911432             4.150126e+08    4.606640         0.666619\n",
      "2019                   7.354655e+06                  0.924633             4.865007e+08    5.400158         0.781447\n",
      "2020                   6.719952e+06                  0.928099             4.492006e+08    4.986126         0.721533\n",
      "2021                   2.825733e+03                  0.828266             1.766804e+05    0.001961         0.000284\n"
     ]
    }
   ],
   "source": [
    "# 2.7) Use streamflow data from a USGS stream gauge - Cont.\n",
    "\n",
    "# The flow data for this example was created in the previous step. # cfs\n",
    "head = 104 # ft\n",
    "power = None\n",
    "penstock_length = 20 # ft\n",
    "hp_type = 'Diversion' \n",
    "\n",
    "hp = calculate_hp_potential(flow= flow, rated_power= power, head= head,\n",
    "                            penstock_headloss_calculation= True,\n",
    "                           hydropower_type= hp_type, penstock_length= penstock_length,\n",
    "                           flow_column= 'discharge_cfs', annual_caclulation= True)\n",
    "\n",
    "# Explore output\n",
    "print('Design flow (cfs):', hp.design_flow)\n",
    "print('Head_loss at design flow (ft):', round(hp.penstock_design_headloss, 2))\n",
    "print('Turbine type:', hp.turbine_type)\n",
    "print('Rated Power (Kw):', round(hp.rated_power, 2))\n",
    "print('Net head (ft):', round(hp.net_head, 2))\n",
    "print('Generator Efficiency:',hp.generator_efficiency)\n",
    "print('Head Loss method:',hp.penstock_headloss_method)\n",
    "print('Penstock length (ft):', hp.penstock_length)\n",
    "print('Penstock diameter (ft):', round(hp.penstock_diameter,2))\n",
    "print('Runner diameter (ft):', round(hp.runner_diameter,2))\n",
    "\n",
    "print('\\nPandas dataframe output: \\n', hp.dataframe_output)\n",
    "print('Annual output: \\n', hp.annual_dataframe_output)"
   ]
  },
  {
   "cell_type": "code",
   "execution_count": 15,
   "metadata": {},
   "outputs": [],
   "source": [
    "# Full list of parameters included in HydroGenerate calculation\n",
    "# dir(hp)"
   ]
  },
  {
   "cell_type": "markdown",
   "metadata": {},
   "source": [
    "# 3. Economic calculation"
   ]
  },
  {
   "cell_type": "code",
   "execution_count": 16,
   "metadata": {},
   "outputs": [
    {
     "name": "stdout",
     "output_type": "stream",
     "text": [
      "Design flow (cfs): 8000.0\n",
      "Head_loss at design flow (ft): 8.92\n",
      "Turbine type: Kaplan\n",
      "Rated Power (Kw): 56691.5\n",
      "Net head (ft): 91.08\n",
      "Generator Efficiency: 0.98\n",
      "Head Loss method: Darcy-Weisbach\n",
      "Penstock length (ft): 50.0\n",
      "Penstock diameter (ft): 12.17\n",
      "Runner diameter (ft): 17.49\n",
      "\n",
      "Resource Category: NewStream-reach\n",
      "Initial Capital Cost (M$): 281.1\n",
      "Annual Operation and Maintennance (M$): 2.0\n"
     ]
    }
   ],
   "source": [
    "# 3.1) Cost and Annual O&M a0s part of a project. Resource_category =  'Non-PoweredDam'\n",
    "flow = 8000 # cfs\n",
    "head = 100 # ft\n",
    "power = None\n",
    "\n",
    "hp = calculate_hp_potential(flow= flow, rated_power= power, head= head,\n",
    "                            penstock_headloss_calculation= True,\n",
    "                           hydropower_type= 'Diversion', penstock_length = 50,\n",
    "                           resource_category= 'NewStream-reach')\n",
    "\n",
    "# Explore output\n",
    "print('Design flow (cfs):', hp.design_flow)\n",
    "print('Head_loss at design flow (ft):', round(hp.penstock_design_headloss, 2))\n",
    "print('Turbine type:', hp.turbine_type)\n",
    "print('Rated Power (Kw):', round(hp.rated_power, 2))\n",
    "print('Net head (ft):', round(hp.net_head, 2))\n",
    "print('Generator Efficiency:',hp.generator_efficiency)\n",
    "print('Head Loss method:',hp.penstock_headloss_method)\n",
    "print('Penstock length (ft):', hp.penstock_length)\n",
    "print('Penstock diameter (ft):', round(hp.penstock_diameter,2))\n",
    "print('Runner diameter (ft):', round(hp.runner_diameter,2))\n",
    "\n",
    "print('\\nResource Category:', hp.resource_category)\n",
    "print('Initial Capital Cost (M$):', np.round(hp.icc,1))\n",
    "print('Annual Operation and Maintennance (M$):', np.round(hp.annual_om,1))"
   ]
  },
  {
   "cell_type": "code",
   "execution_count": null,
   "metadata": {},
   "outputs": [],
   "source": [
    "# 3.2) resource_category: 'Non-PoweredDam'\n",
    "head = 104 # ft\n",
    "power = 20500 # kW\n",
    "\n",
    "hp = calculate_hp_potential(rated_power= power, head= head,\n",
    "                           hydropower_type= None, resource_category= 'Non-PoweredDam')\n",
    "\n",
    "print('\\nResource Category:', hp.resource_category)\n",
    "print('Initial Capital Cost (M$):', np.round(hp.icc,1))\n",
    "print('Annual Operation and Maintennance (M$):', np.round(hp.annual_om,1))"
   ]
  },
  {
   "cell_type": "code",
   "execution_count": null,
   "metadata": {},
   "outputs": [],
   "source": [
    "# 3.3 Rewinding a generator. resource_caterogy= 'GeneratorRewind')\n",
    "head = 104 # ft\n",
    "power = 20500 # kWred dev\n",
    "\n",
    "hp = calculate_hp_potential(rated_power= power, head= head,\n",
    "                           hydropower_type= None, resource_category= 'GeneratorRewind')\n",
    "\n",
    "print('\\nResource Category:', hp.resource_category)\n",
    "print('Initial Capital Cost (M$):', np.round(hp.icc,1))\n",
    "print('Annual Operation and Maintennance (M$):', np.round(hp.annual_om,1))"
   ]
  },
  {
   "cell_type": "code",
   "execution_count": null,
   "metadata": {},
   "outputs": [],
   "source": [
    "# 3.4 Adding a new unit. resource_caterogy= 'UnitAddition')\n",
    "head = 104 # ft\n",
    "power = 20500 # kW\n",
    "\n",
    "hp = calculate_hp_potential(rated_power= power, head= head,\n",
    "                           hydropower_type= None, resource_category= 'UnitAddition')\n",
    "\n",
    "print('\\nResource Category:', hp.resource_category)\n",
    "print('Initial Capital Cost (M$):', np.round(hp.icc,1))\n",
    "print('Annual Operation and Maintennance (M$):', np.round(hp.annual_om,1))"
   ]
  },
  {
   "cell_type": "code",
   "execution_count": null,
   "metadata": {},
   "outputs": [],
   "source": [
    "# 3.5 Annual energy generated and revenue\n",
    "flow = 8000 # cfs\n",
    "head = 20 # ft\n",
    "\n",
    "hp = calculate_hp_potential(flow= flow, head= head, penstock_length= 50, \n",
    "                           hydropower_type= 'Diversion', # head_loss_calculation= False,\n",
    "                           annual_caclulation= True, capacity_factor= 0.5)\n",
    "\n",
    "\n",
    "# Explore output\n",
    "print('Design flow (cfs):', hp.design_flow)\n",
    "print('Turbine type:', hp.turbine_type)\n",
    "print('Rated Power (MW):', round(hp.rated_power / 1000, 2))\n",
    "print('Net head (ft):', round(hp.net_head, 2))\n",
    "print('Generator Efficiency:',hp.generator_efficiency)\n",
    "print('Head Loss method:',hp.penstock_headloss_method)\n",
    "print('Runner diameter (ft):', round(hp.runner_diameter,2))\n",
    "\n",
    "\n",
    "print('\\nAnnual energy generated (MwH):', round(hp.annual_energy_generated / 1000, 0))\n",
    "print('Number of days a year the plant operates:', hp.n_operation_days)\n",
    "print('Annual revenue (M$):', round(hp.annual_revenue, 1))\n"
   ]
  },
  {
   "cell_type": "markdown",
   "metadata": {},
   "source": [
    "# 4. Hydrokinetics"
   ]
  },
  {
   "cell_type": "code",
   "execution_count": null,
   "metadata": {},
   "outputs": [],
   "source": [
    "# 4.1 Average velocity is known. hk_blade_type= 'ConventionalRotor'\n",
    "\n",
    "V = 2  # average cross-section velocity m/s\n",
    "\n",
    "hp = calculate_hp_potential(channel_average_velocity = V,\n",
    "                           hydropower_type = 'Hydrokinetic', units = 'SI',\n",
    "                           hk_blade_type= 'ConventionalRotor')\n",
    "\n",
    "print('Rated Power (kW):', round(hp.rated_power, 2))"
   ]
  },
  {
   "cell_type": "code",
   "execution_count": null,
   "metadata": {},
   "outputs": [],
   "source": [
    "# 4.2 Average velocity is known. US units. hk_blade_type= 'H-DarrieusRotor'\n",
    "V = 6.6 # average cross-section velovicty ft/s\n",
    "\n",
    "hp = calculate_hp_potential(channel_average_velocity = V,\n",
    "                           hydropower_type = 'Hydrokinetic', units = 'US',\n",
    "                           hk_blade_type= 'H-DarrieusRotor')\n",
    "\n",
    "print('Rated Power (kW):', round(hp.rated_power, 2))"
   ]
  },
  {
   "cell_type": "code",
   "execution_count": null,
   "metadata": {},
   "outputs": [],
   "source": [
    "# 4.3 Average velocity is known. hk_blade_type= 'H-DarrieusRotor'\n",
    "\n",
    "V = 2 # average cross-section velovicty m/s\n",
    "\n",
    "hp = calculate_hp_potential(channel_average_velocity = V,\n",
    "                           hydropower_type = 'Hydrokinetic', units = 'SI',\n",
    "                           hk_blade_type= 'H-DarrieusRotor')\n",
    "\n",
    "print('Rated Power (kW):', round(hp.rated_power, 2))"
   ]
  },
  {
   "cell_type": "code",
   "execution_count": null,
   "metadata": {},
   "outputs": [],
   "source": [
    "# 4.3 Average velocity is known. hk_blade_type= 'H-DarrieusRotor'. Blade dimensions are known.\n",
    "\n",
    "V = 4 # average cross-section velovicty m/s\n",
    "\n",
    "hp = calculate_hp_potential(channel_average_velocity = V,\n",
    "                           hydropower_type = 'Hydrokinetic', units = 'SI',\n",
    "                           hk_blade_type= 'H-DarrieusRotor',\n",
    "                           hk_blade_diameter= 1.6,\n",
    "                           hk_blade_heigth = 2)\n",
    "\n",
    "# hk_blade_diameter= None, \n",
    "#                            hk_blade_heigth= None, \n",
    "#                            hk_blade_type= None, \n",
    "#                            hk_swept_area = None):\n",
    "\n",
    "print('Rated Power (kW):', round(hp.rated_power, 2))"
   ]
  }
 ],
 "metadata": {
  "kernelspec": {
   "display_name": "Python 3",
   "language": "python",
   "name": "python3"
  },
  "language_info": {
   "codemirror_mode": {
    "name": "ipython",
    "version": 3
   },
   "file_extension": ".py",
   "mimetype": "text/x-python",
   "name": "python",
   "nbconvert_exporter": "python",
   "pygments_lexer": "ipython3",
   "version": "3.6.13"
  }
 },
 "nbformat": 4,
 "nbformat_minor": 4
}
